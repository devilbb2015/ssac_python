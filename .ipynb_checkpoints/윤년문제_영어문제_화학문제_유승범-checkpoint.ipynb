{
 "cells": [
  {
   "cell_type": "code",
   "execution_count": 38,
   "id": "9001cb50",
   "metadata": {},
   "outputs": [
    {
     "name": "stdout",
     "output_type": "stream",
     "text": [
      "년도를 입력하세요2000\n",
      "윤년 입니다\n"
     ]
    }
   ],
   "source": [
    "year = int(input(\"년도를 입력하세요\"))\n",
    "if year % 4 == 0:\n",
    "    print(\"윤년 입니다\")\n",
    "elif year % 100 == 0:\n",
    "    print(\"윤년 입니다\")\n",
    "elif year % 400 == 0:\n",
    "    print(\"윤년 입니다.\")\n",
    "else:\n",
    "    print(\"평년입니다\")"
   ]
  },
  {
   "cell_type": "code",
   "execution_count": 39,
   "id": "fc1e9224",
   "metadata": {},
   "outputs": [
    {
     "name": "stdout",
     "output_type": "stream",
     "text": [
      "너는 피곤하다. \n",
      "\n",
      "your answer: You are tired\n",
      "====================================\n",
      "result: Not Correct\n",
      "right answer:  You are tired.\n"
     ]
    }
   ],
   "source": [
    "import random \n",
    "\n",
    "f = open(\"ko_en.txt\", 'r')\n",
    "quiz = f.readlines()[1:]\n",
    "\n",
    "ko  = []\n",
    "en = []\n",
    "for i in quiz:\n",
    "    i = i.split(\"\\t\")\n",
    "    ko.append(i[0])\n",
    "    en.append(i[1][:-1])\n",
    "\n",
    "num = random.randint(1, len(ko))\n",
    "\n",
    "print(ko[num], \"\\n\")\n",
    "\n",
    "answer = input(\"your answer: \")\n",
    "print(\"====================================\")\n",
    "\n",
    "if answer == en[num]:\n",
    "    print(\"result: Correct\")\n",
    "else:\n",
    "    print(\"result: Not Correct\")\n",
    "    print(\"right answer: \" , en[num])"
   ]
  },
  {
   "cell_type": "code",
   "execution_count": 37,
   "id": "19a0b1a6",
   "metadata": {},
   "outputs": [
    {
     "name": "stdout",
     "output_type": "stream",
     "text": [
      "20 90\n",
      "10\n",
      "ALERT!\n",
      "-999\n"
     ]
    }
   ],
   "source": [
    "# input은 string이니 map으로 int형으로\n",
    "n = list(map(int, input().split()))\n",
    "n.sort() # 값 정렬\n",
    "while True:\n",
    "    temperature = int(input())\n",
    "    if(n[0] <= temperature <= n[1]):\n",
    "        print('Nothing to report')\n",
    "    else:\n",
    "        print('ALERT!')\n",
    "        break\n",
    "        \n",
    "print(-999)"
   ]
  },
  {
   "cell_type": "code",
   "execution_count": null,
   "id": "64cf8809",
   "metadata": {},
   "outputs": [],
   "source": []
  }
 ],
 "metadata": {
  "kernelspec": {
   "display_name": "Python 3",
   "language": "python",
   "name": "python3"
  },
  "language_info": {
   "codemirror_mode": {
    "name": "ipython",
    "version": 3
   },
   "file_extension": ".py",
   "mimetype": "text/x-python",
   "name": "python",
   "nbconvert_exporter": "python",
   "pygments_lexer": "ipython3",
   "version": "3.8.10"
  }
 },
 "nbformat": 4,
 "nbformat_minor": 5
}
