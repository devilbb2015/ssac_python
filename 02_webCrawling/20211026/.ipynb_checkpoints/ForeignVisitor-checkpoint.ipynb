{
 "cells": [
  {
   "cell_type": "code",
   "execution_count": 61,
   "id": "34b942cb",
   "metadata": {},
   "outputs": [
    {
     "name": "stdout",
     "output_type": "stream",
     "text": [
      "Requirement already satisfied: config in c:\\users\\ts.sbyoo\\anaconda3\\lib\\site-packages (0.5.1)\n"
     ]
    }
   ],
   "source": [
    "#주피터 노트북에서 해당 모듈을 설치할때는 pip 명령어를 사용 ex) !pip install **** or pip install ***\n",
    "!pip install config "
   ]
  },
  {
   "cell_type": "code",
   "execution_count": 62,
   "id": "44931a65",
   "metadata": {},
   "outputs": [],
   "source": [
    "# 기본 셋팅! 사용할 import를 전부 설정\n",
    "import os\n",
    "import sys\n",
    "import urllib.request\n",
    "import datetime\n",
    "import pandas as pd\n",
    "import time\n",
    "import json\n",
    "from config import *\n",
    "\n",
    "import matplotlib.pyplot as plt\n",
    "import matplotlib"
   ]
  },
  {
   "cell_type": "code",
   "execution_count": 63,
   "id": "cc00bd0c",
   "metadata": {},
   "outputs": [],
   "source": [
    "# http://openapi.tour.go.kr/openapi/service/EdrcntTourismStatsService/getEdrcntTourismStatsList\n",
    "\n",
    "serviceKey = \"KcCFEkeI2bDm85qbg%2Bn7O4nvHChZU5f017akZmmXXr0cIcXWkH0QzCMNSsM6OfUVfJR1UKKD4U6iYnPnZQOfAw%3D%3D\"\n",
    "# serviceKey = \"KcCFEkeI2bDm85qbg+n7O4nvHChZU5f017akZmmXXr0cIcXWkH0QzCMNSsM6OfUVfJR1UKKD4U6iYnPnZQOfAw==\""
   ]
  },
  {
   "cell_type": "code",
   "execution_count": 64,
   "id": "3866edfe",
   "metadata": {},
   "outputs": [],
   "source": [
    "# [Code 1]\n",
    "\n",
    "# import requests\n",
    "\n",
    "# url = 'http://openapi.tour.go.kr/openapi/service/EdrcntTourismStatsService/getEdrcntTourismStatsList'\n",
    "# params ={'serviceKey' : '서비스키', 'YM' : '201201', 'NAT_CD' : '112', 'ED_CD' : 'D' }\n",
    "\n",
    "# response = requests.get(url, params=params)\n",
    "# print(response.content)\n",
    "\n",
    "def getRequestUrl(url):\n",
    "    \n",
    "    req = urllib.request.Request(url)  # url 불러오기\n",
    "        \n",
    "    try: # 실행\n",
    "        response = urllib.request.urlopen(req)\n",
    "        if response.getcode() == 200:  \n",
    "            print(\"[%s] Url Request Success\" %datetime.datetime.now())\n",
    "            return response.read().decode('utf-8')\n",
    "    except Exception as e: # 에러 예외처리\n",
    "        print(e)\n",
    "        print(\"[%s] Error for URL : % s\" %(datetime.datetime.now(), url))\n",
    "        return None"
   ]
  },
  {
   "cell_type": "code",
   "execution_count": 69,
   "id": "d4cfe163",
   "metadata": {},
   "outputs": [],
   "source": [
    "# [Code 2]\n",
    "\n",
    "def getTourismStatusItem(yyyymm, nat_cd, ed_cd):\n",
    "    service_url = \"http://openapi.tour.go.kr/openapi/service/EdrcntTourismStatsService/getEdrcntTourismStatsList\"\n",
    "    \n",
    "    parameters = \"?_type=json&serviceKey=\" + serviceKey # 인증키\n",
    "    parameters += \"&YM\" + yyyymm\n",
    "    parameters += \"&NAT_CD=\" + nat_cd\n",
    "    parameters += \"&ED_CD=\" + ed_cd\n",
    "    \n",
    "    url = service_url + parameters\n",
    "    \n",
    "    responseDecode = getRequestUrl(url) # [Code 1]\n",
    "    \n",
    "    if(responseDecode == None):\n",
    "        return None\n",
    "    else:\n",
    "        return json.loads(responseDecode)"
   ]
  },
  {
   "cell_type": "code",
   "execution_count": 70,
   "id": "857f34d2",
   "metadata": {},
   "outputs": [],
   "source": [
    "# [Code 3]\n",
    "def getTourismStatsService(nat_cd, ed_cd, nStartYear, nEndYear):\n",
    "    jsonResult = []\n",
    "    result = []\n",
    "    \n",
    "    for year in range(nStartYear, nEndYear+1):\n",
    "        for month in range(1, 13):\n",
    "            yyyymm = \"{0}{1:0>2}\".format(str(year), str(month))\n",
    "            jsonData = getTourismStatusItem(yyyymm, nat_cd, ed_cd) # [Code 2]\n",
    "            if (jsonData['response']['header']['resultMsg'] == 'OK'):\n",
    "                # 데이터가 없는 마지막 항목인 경우 -------------------------------\n",
    "                if jsonData['response']['body']['items'] == '':\n",
    "                    dataEND = \"{0}{1:0>2}\".format(str(year), star(month-1))\n",
    "                    print(\"데이터 없음.... \\n 제공되는 통계 데이터는 %s년 %s월까지 입니다.\" %(str(year), star(month-1)))\n",
    "                    break\n",
    "                # jsonData를 출력하여 확인 ...........................\n",
    "                print(json.dumps(jsonData, indent = 4, sort_keys = True, ensure_ascii = False))\n",
    "                dataEND = yyyymm\n",
    "                natName = jsonData['response']['body']['items']['num']\n",
    "                natName = naName.replace(' ', '')\n",
    "                num = jsonData['response']['body']['items']['item']['num']\n",
    "                ed = jsonData['response']['body']['items']['item']['ed']\n",
    "                print('[ %s_%s : %s ]' %(natName, yyyymm, num))\n",
    "                print('------------------------------------------------------------')\n",
    "                jsonResult.append({'nat_name': natName, 'nat_cd': nat_cd, 'yyyymm': yyyymm, 'visit_cnt': num})\n",
    "                result.append([natName, nat_cd, yyyymm, num])\n",
    "                \n",
    "    return jsonResult, result, natName, ed, dataEND"
   ]
  },
  {
   "cell_type": "code",
   "execution_count": 71,
   "id": "ac3af967",
   "metadata": {},
   "outputs": [],
   "source": [
    "def main():\n",
    "    \n",
    "    # 중국: 112 / 일본: 130 / 미국: 275    \n",
    "    print(\"<< 국내 입국한 외국인의 통계 데이터를 수집합니다. >>\")\n",
    "    nat_cd = input('국가 코드를 입력하세요(중국: 112 / 일본: 130 / 미국: 275) :')\n",
    "    nStartYear = int(input('데이터를 몇 년부터 수집할까요? : '))\n",
    "    nEndYear = int(input('데이터를 몇 년까지 수집할까요? : '))\n",
    "    ed_cd = \"E\" #E : 방한외래관광객, D : 해외 출국\n",
    "    \n",
    "    jsonResult, result, natName, ed, dataEND = getTourismStatsService(nat_cd, ed_cd, nStartYear, nEndYear) # [Code 3]\n",
    "    \n",
    "    # 파일저장 1 : json 파일\n",
    "    with open('./%s_%s_해외방문객정보_%d_%s.json' % (natName, ed_cd, nStartYear, dataEND), 'w', encoding='utf-8') as outfile:\n",
    "        jsonFile = json.dumps(jsonResult, indent = 4, sort_keys = True, ensure_ascii = False)\n",
    "        outfile.write(jsonFile)\n",
    "    \n",
    "    # 파일저장 2 : csv 파일\n",
    "    columns = [\"입국자국가\", \"국가코드\", \"입국연월\", \"입국자 수\"]\n",
    "    result_df = pd.DataFrame(result, columns = columns)\n",
    "    result_df.to_csv('./%s_%s_%d_%s.csv' % (natName, ed, nStartYear, dataEND), index = False, encoding='utf-8')\n"
   ]
  },
  {
   "cell_type": "code",
   "execution_count": 72,
   "id": "86f33fd0",
   "metadata": {},
   "outputs": [
    {
     "name": "stdout",
     "output_type": "stream",
     "text": [
      "<< 국내 입국한 외국인의 통계 데이터를 수집합니다. >>\n",
      "국가 코드를 입력하세요(중국: 112 / 일본: 130 / 미국: 275) :112\n",
      "데이터를 몇 년부터 수집할까요? : 2016\n",
      "데이터를 몇 년까지 수집할까요? : 2020\n",
      "[2021-10-26 14:50:40.656567] Url Request Success\n",
      "[2021-10-26 14:50:40.677592] Url Request Success\n",
      "[2021-10-26 14:50:40.695211] Url Request Success\n",
      "[2021-10-26 14:50:40.715324] Url Request Success\n",
      "[2021-10-26 14:50:40.733077] Url Request Success\n",
      "[2021-10-26 14:50:40.752262] Url Request Success\n",
      "[2021-10-26 14:50:40.774644] Url Request Success\n",
      "[2021-10-26 14:50:40.799385] Url Request Success\n",
      "[2021-10-26 14:50:40.820566] Url Request Success\n",
      "[2021-10-26 14:50:40.843262] Url Request Success\n",
      "[2021-10-26 14:50:40.867033] Url Request Success\n",
      "[2021-10-26 14:50:40.889890] Url Request Success\n",
      "[2021-10-26 14:50:40.912544] Url Request Success\n",
      "[2021-10-26 14:50:40.933893] Url Request Success\n",
      "[2021-10-26 14:50:40.952863] Url Request Success\n",
      "[2021-10-26 14:50:40.976410] Url Request Success\n",
      "[2021-10-26 14:50:40.994682] Url Request Success\n",
      "[2021-10-26 14:50:41.015898] Url Request Success\n",
      "[2021-10-26 14:50:41.037458] Url Request Success\n",
      "[2021-10-26 14:50:41.059111] Url Request Success\n",
      "[2021-10-26 14:50:41.081115] Url Request Success\n",
      "[2021-10-26 14:50:41.102149] Url Request Success\n",
      "[2021-10-26 14:50:41.126031] Url Request Success\n",
      "[2021-10-26 14:50:41.147494] Url Request Success\n",
      "[2021-10-26 14:50:41.167452] Url Request Success\n",
      "[2021-10-26 14:50:41.188058] Url Request Success\n",
      "[2021-10-26 14:50:41.208447] Url Request Success\n",
      "[2021-10-26 14:50:41.228483] Url Request Success\n",
      "[2021-10-26 14:50:41.249758] Url Request Success\n",
      "[2021-10-26 14:50:41.271074] Url Request Success\n",
      "[2021-10-26 14:50:41.298112] Url Request Success\n",
      "[2021-10-26 14:50:41.320558] Url Request Success\n",
      "[2021-10-26 14:50:41.340715] Url Request Success\n",
      "[2021-10-26 14:50:41.361180] Url Request Success\n",
      "[2021-10-26 14:50:41.384213] Url Request Success\n",
      "[2021-10-26 14:50:41.402742] Url Request Success\n",
      "[2021-10-26 14:50:41.421593] Url Request Success\n",
      "[2021-10-26 14:50:41.443611] Url Request Success\n",
      "[2021-10-26 14:50:41.466890] Url Request Success\n",
      "[2021-10-26 14:50:41.487516] Url Request Success\n",
      "[2021-10-26 14:50:41.505468] Url Request Success\n",
      "[2021-10-26 14:50:41.528839] Url Request Success\n",
      "[2021-10-26 14:50:41.547601] Url Request Success\n",
      "[2021-10-26 14:50:41.569487] Url Request Success\n",
      "[2021-10-26 14:50:41.593117] Url Request Success\n",
      "[2021-10-26 14:50:41.617105] Url Request Success\n",
      "[2021-10-26 14:50:41.638104] Url Request Success\n",
      "[2021-10-26 14:50:41.658095] Url Request Success\n",
      "[2021-10-26 14:50:41.672097] Url Request Success\n",
      "[2021-10-26 14:50:41.687135] Url Request Success\n",
      "[2021-10-26 14:50:41.702097] Url Request Success\n",
      "[2021-10-26 14:50:41.719129] Url Request Success\n",
      "[2021-10-26 14:50:41.734093] Url Request Success\n",
      "[2021-10-26 14:50:41.754129] Url Request Success\n",
      "[2021-10-26 14:50:41.771479] Url Request Success\n",
      "[2021-10-26 14:50:41.788063] Url Request Success\n",
      "[2021-10-26 14:50:41.803611] Url Request Success\n",
      "[2021-10-26 14:50:41.822616] Url Request Success\n",
      "[2021-10-26 14:50:41.841071] Url Request Success\n",
      "[2021-10-26 14:50:41.860688] Url Request Success\n"
     ]
    },
    {
     "ename": "UnboundLocalError",
     "evalue": "local variable 'natName' referenced before assignment",
     "output_type": "error",
     "traceback": [
      "\u001b[1;31m---------------------------------------------------------------------------\u001b[0m",
      "\u001b[1;31mUnboundLocalError\u001b[0m                         Traceback (most recent call last)",
      "\u001b[1;32m<ipython-input-72-263240bbee7e>\u001b[0m in \u001b[0;36m<module>\u001b[1;34m\u001b[0m\n\u001b[1;32m----> 1\u001b[1;33m \u001b[0mmain\u001b[0m\u001b[1;33m(\u001b[0m\u001b[1;33m)\u001b[0m\u001b[1;33m\u001b[0m\u001b[1;33m\u001b[0m\u001b[0m\n\u001b[0m",
      "\u001b[1;32m<ipython-input-71-939ef08eb629>\u001b[0m in \u001b[0;36mmain\u001b[1;34m()\u001b[0m\n\u001b[0;32m      8\u001b[0m     \u001b[0med_cd\u001b[0m \u001b[1;33m=\u001b[0m \u001b[1;34m\"E\"\u001b[0m \u001b[1;31m#E : 방한외래관광객, D : 해외 출국\u001b[0m\u001b[1;33m\u001b[0m\u001b[1;33m\u001b[0m\u001b[0m\n\u001b[0;32m      9\u001b[0m \u001b[1;33m\u001b[0m\u001b[0m\n\u001b[1;32m---> 10\u001b[1;33m     \u001b[0mjsonResult\u001b[0m\u001b[1;33m,\u001b[0m \u001b[0mresult\u001b[0m\u001b[1;33m,\u001b[0m \u001b[0mnatName\u001b[0m\u001b[1;33m,\u001b[0m \u001b[0med\u001b[0m\u001b[1;33m,\u001b[0m \u001b[0mdataEND\u001b[0m \u001b[1;33m=\u001b[0m \u001b[0mgetTourismStatsService\u001b[0m\u001b[1;33m(\u001b[0m\u001b[0mnat_cd\u001b[0m\u001b[1;33m,\u001b[0m \u001b[0med_cd\u001b[0m\u001b[1;33m,\u001b[0m \u001b[0mnStartYear\u001b[0m\u001b[1;33m,\u001b[0m \u001b[0mnEndYear\u001b[0m\u001b[1;33m)\u001b[0m \u001b[1;31m# [Code 3]\u001b[0m\u001b[1;33m\u001b[0m\u001b[1;33m\u001b[0m\u001b[0m\n\u001b[0m\u001b[0;32m     11\u001b[0m \u001b[1;33m\u001b[0m\u001b[0m\n\u001b[0;32m     12\u001b[0m     \u001b[1;31m# 파일저장 1 : json 파일\u001b[0m\u001b[1;33m\u001b[0m\u001b[1;33m\u001b[0m\u001b[1;33m\u001b[0m\u001b[0m\n",
      "\u001b[1;32m<ipython-input-70-bdf6f406ae78>\u001b[0m in \u001b[0;36mgetTourismStatsService\u001b[1;34m(nat_cd, ed_cd, nStartYear, nEndYear)\u001b[0m\n\u001b[0;32m     26\u001b[0m                 \u001b[0mresult\u001b[0m\u001b[1;33m.\u001b[0m\u001b[0mappend\u001b[0m\u001b[1;33m(\u001b[0m\u001b[1;33m[\u001b[0m\u001b[0mnatName\u001b[0m\u001b[1;33m,\u001b[0m \u001b[0mnat_cd\u001b[0m\u001b[1;33m,\u001b[0m \u001b[0myyyymm\u001b[0m\u001b[1;33m,\u001b[0m \u001b[0mnum\u001b[0m\u001b[1;33m]\u001b[0m\u001b[1;33m)\u001b[0m\u001b[1;33m\u001b[0m\u001b[1;33m\u001b[0m\u001b[0m\n\u001b[0;32m     27\u001b[0m \u001b[1;33m\u001b[0m\u001b[0m\n\u001b[1;32m---> 28\u001b[1;33m     \u001b[1;32mreturn\u001b[0m \u001b[0mjsonResult\u001b[0m\u001b[1;33m,\u001b[0m \u001b[0mresult\u001b[0m\u001b[1;33m,\u001b[0m \u001b[0mnatName\u001b[0m\u001b[1;33m,\u001b[0m \u001b[0med\u001b[0m\u001b[1;33m,\u001b[0m \u001b[0mdataEND\u001b[0m\u001b[1;33m\u001b[0m\u001b[1;33m\u001b[0m\u001b[0m\n\u001b[0m",
      "\u001b[1;31mUnboundLocalError\u001b[0m: local variable 'natName' referenced before assignment"
     ]
    }
   ],
   "source": [
    "main()"
   ]
  },
  {
   "cell_type": "code",
   "execution_count": null,
   "id": "ca0846af",
   "metadata": {},
   "outputs": [],
   "source": []
  }
 ],
 "metadata": {
  "kernelspec": {
   "display_name": "Python 3",
   "language": "python",
   "name": "python3"
  },
  "language_info": {
   "codemirror_mode": {
    "name": "ipython",
    "version": 3
   },
   "file_extension": ".py",
   "mimetype": "text/x-python",
   "name": "python",
   "nbconvert_exporter": "python",
   "pygments_lexer": "ipython3",
   "version": "3.8.10"
  }
 },
 "nbformat": 4,
 "nbformat_minor": 5
}
