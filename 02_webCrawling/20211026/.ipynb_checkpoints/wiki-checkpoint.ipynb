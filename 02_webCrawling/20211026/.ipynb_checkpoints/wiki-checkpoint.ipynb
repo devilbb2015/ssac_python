{
 "cells": [
  {
   "cell_type": "markdown",
   "id": "e0b398f3",
   "metadata": {},
   "source": [
    "# 정적 웹 크롤링"
   ]
  },
  {
   "cell_type": "markdown",
   "id": "4b199568",
   "metadata": {},
   "source": [
    "## html 파싱해서 추출하기"
   ]
  },
  {
   "cell_type": "code",
   "execution_count": 1,
   "id": "8a122dd2",
   "metadata": {},
   "outputs": [],
   "source": [
    "from bs4 import BeautifulSoup"
   ]
  },
  {
   "cell_type": "code",
   "execution_count": 5,
   "id": "1fc363e3",
   "metadata": {},
   "outputs": [],
   "source": [
    "# html을 불러와서 진행해 보자\n",
    "\n",
    "html = open('wiki.html', 'r', encoding='utf-8').read()"
   ]
  },
  {
   "cell_type": "code",
   "execution_count": null,
   "id": "be2e638f",
   "metadata": {},
   "outputs": [],
   "source": []
  }
 ],
 "metadata": {
  "kernelspec": {
   "display_name": "Python 3",
   "language": "python",
   "name": "python3"
  },
  "language_info": {
   "codemirror_mode": {
    "name": "ipython",
    "version": 3
   },
   "file_extension": ".py",
   "mimetype": "text/x-python",
   "name": "python",
   "nbconvert_exporter": "python",
   "pygments_lexer": "ipython3",
   "version": "3.8.10"
  }
 },
 "nbformat": 4,
 "nbformat_minor": 5
}
