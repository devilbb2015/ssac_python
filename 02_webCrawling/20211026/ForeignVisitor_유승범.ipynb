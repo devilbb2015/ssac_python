{
 "cells": [
  {
   "cell_type": "code",
   "execution_count": 61,
   "id": "7227668a",
   "metadata": {},
   "outputs": [
    {
     "name": "stdout",
     "output_type": "stream",
     "text": [
      "Requirement already satisfied: config in c:\\users\\ts.sbyoo\\anaconda3\\lib\\site-packages (0.5.1)\n"
     ]
    }
   ],
   "source": [
    "#주피터 노트북에서 해당 모듈을 설치할때는 pip 명령어를 사용 ex) !pip install **** or pip install ***\n",
    "!pip install config "
   ]
  },
  {
   "cell_type": "code",
   "execution_count": 62,
   "id": "0cd3e942",
   "metadata": {},
   "outputs": [],
   "source": [
    "# 기본 셋팅! 사용할 import를 전부 설정\n",
    "import os\n",
    "import sys\n",
    "import urllib.request\n",
    "import datetime\n",
    "import pandas as pd\n",
    "import time\n",
    "import json\n",
    "from config import *\n",
    "\n",
    "import matplotlib.pyplot as plt\n",
    "import matplotlib"
   ]
  },
  {
   "cell_type": "code",
   "execution_count": 94,
   "id": "3cb282fb",
   "metadata": {},
   "outputs": [],
   "source": [
    "# http://openapi.tour.go.kr/openapi/service/EdrcntTourismStatsService/getEdrcntTourismStatsList\n",
    "\n",
    "serviceKey = \"KcCFEkeI2bDm85qbg%2Bn7O4nvHChZU5f017akZmmXXr0cIcXWkH0QzCMNSsM6OfUVfJR1UKKD4U6iYnPnZQOfAw%3D%3D\"\n",
    "# serviceKey = \"KcCFEkeI2bDm85qbg+n7O4nvHChZU5f017akZmmXXr0cIcXWkH0QzCMNSsM6OfUVfJR1UKKD4U6iYnPnZQOfAw==\""
   ]
  },
  {
   "cell_type": "code",
   "execution_count": 95,
   "id": "6ba9bde9",
   "metadata": {},
   "outputs": [],
   "source": [
    "# [Code 1]\n",
    "\n",
    "# import requests\n",
    "\n",
    "# url = 'http://openapi.tour.go.kr/openapi/service/EdrcntTourismStatsService/getEdrcntTourismStatsList'\n",
    "# params ={'serviceKey' : '서비스키', 'YM' : '201201', 'NAT_CD' : '112', 'ED_CD' : 'D' }\n",
    "\n",
    "# response = requests.get(url, params=params)\n",
    "# print(response.content)\n",
    "\n",
    "def getRequestUrl(url):\n",
    "    \n",
    "    req = urllib.request.Request(url)  # url 불러오기\n",
    "        \n",
    "    try: # 실행\n",
    "        response = urllib.request.urlopen(req)\n",
    "        if response.getcode() == 200:  \n",
    "            print(\"[%s] Url Request Success\" %datetime.datetime.now())\n",
    "            return response.read().decode('utf-8')\n",
    "    except Exception as e: # 에러 예외처리\n",
    "        print(e)\n",
    "        print(\"[%s] Error for URL : % s\" %(datetime.datetime.now(), url))\n",
    "        return None"
   ]
  },
  {
   "cell_type": "code",
   "execution_count": 96,
   "id": "e0aada27",
   "metadata": {},
   "outputs": [],
   "source": [
    "# [Code 2]\n",
    "\n",
    "def getTourismStatusItem(yyyymm, nat_cd, ed_cd):\n",
    "    service_url = \"http://openapi.tour.go.kr/openapi/service/EdrcntTourismStatsService/getEdrcntTourismStatsList\"\n",
    "    \n",
    "    parameters = \"?_type=json&serviceKey=\" + serviceKey # 인증키\n",
    "    parameters += \"&YM\" + yyyymm\n",
    "    parameters += \"&NAT_CD=\" + nat_cd\n",
    "    parameters += \"&ED_CD=\" + ed_cd\n",
    "    \n",
    "    url = service_url + parameters\n",
    "    \n",
    "    responseDecode = getRequestUrl(url) # [Code 1]\n",
    "    \n",
    "    if(responseDecode == None):\n",
    "        return None\n",
    "    else:\n",
    "        return json.loads(responseDecode)"
   ]
  },
  {
   "cell_type": "code",
   "execution_count": 97,
   "id": "045aa4f9",
   "metadata": {},
   "outputs": [],
   "source": [
    "# [Code 3]\n",
    "def getTourismStatsService(nat_cd, ed_cd, nStartYear, nEndYear):\n",
    "    jsonResult = []\n",
    "    result = []\n",
    "#     natName = \"\"\n",
    "#     ed = \"\"\n",
    "#     dataEND = \"\"\n",
    "    \n",
    "    for year in range(nStartYear, nEndYear+1):\n",
    "        for month in range(1, 13):\n",
    "            yyyymm = \"{0}{1:0>2}\".format(str(year), str(month))\n",
    "            jsonData = getTourismStatusItem(yyyymm, nat_cd, ed_cd) # [Code 2]\n",
    "            if (jsonData['response']['header']['resultMsg'] == 'OK'):\n",
    "                # 데이터가 없는 마지막 항목인 경우 -------------------------------\n",
    "                if jsonData['response']['body']['items'] == '':\n",
    "                    dataEND = \"{0}{1:0>2}\".format(str(year), star(month-1))\n",
    "                    print(\"데이터 없음.... \\n 제공되는 통계 데이터는 %s년 %s월까지 입니다.\" %(str(year), star(month-1)))\n",
    "                    break\n",
    "                # jsonData를 출력하여 확인 ...........................\n",
    "                print(json.dumps(jsonData, indent = 4, sort_keys = True, ensure_ascii = False))\n",
    "                dataEND = yyyymm\n",
    "                natName = jsonData['response']['body']['items']['num']\n",
    "                natName = naName.replace(' ', '')\n",
    "                num = jsonData['response']['body']['items']['item']['num']\n",
    "                ed = jsonData['response']['body']['items']['item']['ed']\n",
    "                print('[ %s_%s : %s ]' %(natName, yyyymm, num))\n",
    "                print('------------------------------------------------------------')\n",
    "                jsonResult.append({'nat_name': natName, 'nat_cd': nat_cd, 'yyyymm': yyyymm, 'visit_cnt': num})\n",
    "                result.append([natName, nat_cd, yyyymm, num])\n",
    "                \n",
    "    return jsonResult, result, natName, ed, dataEND"
   ]
  },
  {
   "cell_type": "code",
   "execution_count": 98,
   "id": "8f638303",
   "metadata": {},
   "outputs": [],
   "source": [
    "def main():\n",
    "    \n",
    "    # 중국: 112 / 일본: 130 / 미국: 275    \n",
    "    print(\"<< 국내 입국한 외국인의 통계 데이터를 수집합니다. >>\")\n",
    "    nat_cd = input('국가 코드를 입력하세요(중국: 112 / 일본: 130 / 미국: 275) :')\n",
    "    nStartYear = int(input('데이터를 몇 년부터 수집할까요? : '))\n",
    "    nEndYear = int(input('데이터를 몇 년까지 수집할까요? : '))\n",
    "    ed_cd = \"E\" #E : 방한외래관광객, D : 해외 출국\n",
    "    \n",
    "    jsonResult, result, natName, ed, dataEND = getTourismStatsService(nat_cd, ed_cd, nStartYear, nEndYear) # [Code 3]\\\n",
    "    print(jsonResult)\n",
    "    print(result)\n",
    "    print(natName)\n",
    "    print(ed)\n",
    "    print(dataEND)\n",
    "    \n",
    "    # 파일저장 1 : json 파일\n",
    "    with open('./%s_%s_해외방문객정보_%d_%s.json' % (natName, ed_cd, nStartYear, dataEND), 'w', encoding='utf-8') as outfile:\n",
    "        jsonFile = json.dumps(jsonResult, indent = 4, sort_keys = True, ensure_ascii = False)\n",
    "        outfile.write(jsonFile)\n",
    "    \n",
    "    # 파일저장 2 : csv 파일\n",
    "    columns = [\"입국자국가\", \"국가코드\", \"입국연월\", \"입국자 수\"]\n",
    "    result_df = pd.DataFrame(result, columns = columns)\n",
    "    result_df.to_csv('./%s_%s_%d_%s.csv' % (natName, ed, nStartYear, dataEND), index = False, encoding='utf-8')\n"
   ]
  },
  {
   "cell_type": "code",
   "execution_count": 99,
   "id": "d61ace50",
   "metadata": {},
   "outputs": [
    {
     "name": "stdout",
     "output_type": "stream",
     "text": [
      "<< 국내 입국한 외국인의 통계 데이터를 수집합니다. >>\n",
      "국가 코드를 입력하세요(중국: 112 / 일본: 130 / 미국: 275) :130\n",
      "데이터를 몇 년부터 수집할까요? : 2015\n",
      "데이터를 몇 년까지 수집할까요? : 2016\n",
      "[2021-10-26 15:07:26.593250] Url Request Success\n",
      "[2021-10-26 15:07:26.611674] Url Request Success\n",
      "[2021-10-26 15:07:26.629705] Url Request Success\n",
      "[2021-10-26 15:07:26.653074] Url Request Success\n",
      "[2021-10-26 15:07:26.675035] Url Request Success\n",
      "[2021-10-26 15:07:26.698488] Url Request Success\n",
      "[2021-10-26 15:07:26.720077] Url Request Success\n",
      "[2021-10-26 15:07:26.743040] Url Request Success\n",
      "[2021-10-26 15:07:26.766636] Url Request Success\n",
      "[2021-10-26 15:07:26.789166] Url Request Success\n",
      "[2021-10-26 15:07:26.813194] Url Request Success\n",
      "[2021-10-26 15:07:26.837279] Url Request Success\n",
      "[2021-10-26 15:07:26.860499] Url Request Success\n",
      "[2021-10-26 15:07:26.879727] Url Request Success\n",
      "[2021-10-26 15:07:26.900482] Url Request Success\n",
      "[2021-10-26 15:07:26.922510] Url Request Success\n",
      "[2021-10-26 15:07:26.942229] Url Request Success\n",
      "[2021-10-26 15:07:26.966713] Url Request Success\n",
      "[2021-10-26 15:07:26.987551] Url Request Success\n",
      "[2021-10-26 15:07:27.008851] Url Request Success\n",
      "[2021-10-26 15:07:27.027886] Url Request Success\n",
      "[2021-10-26 15:07:27.047763] Url Request Success\n",
      "[2021-10-26 15:07:27.071120] Url Request Success\n",
      "[2021-10-26 15:07:27.093633] Url Request Success\n"
     ]
    },
    {
     "ename": "UnboundLocalError",
     "evalue": "local variable 'natName' referenced before assignment",
     "output_type": "error",
     "traceback": [
      "\u001b[1;31m---------------------------------------------------------------------------\u001b[0m",
      "\u001b[1;31mUnboundLocalError\u001b[0m                         Traceback (most recent call last)",
      "\u001b[1;32m<ipython-input-99-263240bbee7e>\u001b[0m in \u001b[0;36m<module>\u001b[1;34m\u001b[0m\n\u001b[1;32m----> 1\u001b[1;33m \u001b[0mmain\u001b[0m\u001b[1;33m(\u001b[0m\u001b[1;33m)\u001b[0m\u001b[1;33m\u001b[0m\u001b[1;33m\u001b[0m\u001b[0m\n\u001b[0m",
      "\u001b[1;32m<ipython-input-98-1274ef2ed0aa>\u001b[0m in \u001b[0;36mmain\u001b[1;34m()\u001b[0m\n\u001b[0;32m      8\u001b[0m     \u001b[0med_cd\u001b[0m \u001b[1;33m=\u001b[0m \u001b[1;34m\"E\"\u001b[0m \u001b[1;31m#E : 방한외래관광객, D : 해외 출국\u001b[0m\u001b[1;33m\u001b[0m\u001b[1;33m\u001b[0m\u001b[0m\n\u001b[0;32m      9\u001b[0m \u001b[1;33m\u001b[0m\u001b[0m\n\u001b[1;32m---> 10\u001b[1;33m     \u001b[0mjsonResult\u001b[0m\u001b[1;33m,\u001b[0m \u001b[0mresult\u001b[0m\u001b[1;33m,\u001b[0m \u001b[0mnatName\u001b[0m\u001b[1;33m,\u001b[0m \u001b[0med\u001b[0m\u001b[1;33m,\u001b[0m \u001b[0mdataEND\u001b[0m \u001b[1;33m=\u001b[0m \u001b[0mgetTourismStatsService\u001b[0m\u001b[1;33m(\u001b[0m\u001b[0mnat_cd\u001b[0m\u001b[1;33m,\u001b[0m \u001b[0med_cd\u001b[0m\u001b[1;33m,\u001b[0m \u001b[0mnStartYear\u001b[0m\u001b[1;33m,\u001b[0m \u001b[0mnEndYear\u001b[0m\u001b[1;33m)\u001b[0m \u001b[1;31m# [Code 3]\\\u001b[0m\u001b[1;33m\u001b[0m\u001b[1;33m\u001b[0m\u001b[0m\n\u001b[0m\u001b[0;32m     11\u001b[0m     \u001b[0mprint\u001b[0m\u001b[1;33m(\u001b[0m\u001b[0mjsonResult\u001b[0m\u001b[1;33m)\u001b[0m\u001b[1;33m\u001b[0m\u001b[1;33m\u001b[0m\u001b[0m\n\u001b[0;32m     12\u001b[0m     \u001b[0mprint\u001b[0m\u001b[1;33m(\u001b[0m\u001b[0mresult\u001b[0m\u001b[1;33m)\u001b[0m\u001b[1;33m\u001b[0m\u001b[1;33m\u001b[0m\u001b[0m\n",
      "\u001b[1;32m<ipython-input-97-a8323a056004>\u001b[0m in \u001b[0;36mgetTourismStatsService\u001b[1;34m(nat_cd, ed_cd, nStartYear, nEndYear)\u001b[0m\n\u001b[0;32m     29\u001b[0m                 \u001b[0mresult\u001b[0m\u001b[1;33m.\u001b[0m\u001b[0mappend\u001b[0m\u001b[1;33m(\u001b[0m\u001b[1;33m[\u001b[0m\u001b[0mnatName\u001b[0m\u001b[1;33m,\u001b[0m \u001b[0mnat_cd\u001b[0m\u001b[1;33m,\u001b[0m \u001b[0myyyymm\u001b[0m\u001b[1;33m,\u001b[0m \u001b[0mnum\u001b[0m\u001b[1;33m]\u001b[0m\u001b[1;33m)\u001b[0m\u001b[1;33m\u001b[0m\u001b[1;33m\u001b[0m\u001b[0m\n\u001b[0;32m     30\u001b[0m \u001b[1;33m\u001b[0m\u001b[0m\n\u001b[1;32m---> 31\u001b[1;33m     \u001b[1;32mreturn\u001b[0m \u001b[0mjsonResult\u001b[0m\u001b[1;33m,\u001b[0m \u001b[0mresult\u001b[0m\u001b[1;33m,\u001b[0m \u001b[0mnatName\u001b[0m\u001b[1;33m,\u001b[0m \u001b[0med\u001b[0m\u001b[1;33m,\u001b[0m \u001b[0mdataEND\u001b[0m\u001b[1;33m\u001b[0m\u001b[1;33m\u001b[0m\u001b[0m\n\u001b[0m",
      "\u001b[1;31mUnboundLocalError\u001b[0m: local variable 'natName' referenced before assignment"
     ]
    }
   ],
   "source": [
    "main()"
   ]
  },
  {
   "cell_type": "code",
   "execution_count": null,
   "id": "57231ac6",
   "metadata": {},
   "outputs": [],
   "source": []
  }
 ],
 "metadata": {
  "kernelspec": {
   "display_name": "Python 3",
   "language": "python",
   "name": "python3"
  },
  "language_info": {
   "codemirror_mode": {
    "name": "ipython",
    "version": 3
   },
   "file_extension": ".py",
   "mimetype": "text/x-python",
   "name": "python",
   "nbconvert_exporter": "python",
   "pygments_lexer": "ipython3",
   "version": "3.8.10"
  }
 },
 "nbformat": 4,
 "nbformat_minor": 5
}
