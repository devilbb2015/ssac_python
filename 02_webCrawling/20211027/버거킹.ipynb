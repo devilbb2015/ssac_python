{
 "cells": [
  {
   "cell_type": "code",
   "execution_count": 1,
   "id": "0ec1861e",
   "metadata": {},
   "outputs": [],
   "source": [
    "# 데이터 구조를 위하여\n",
    "import pandas as pd\n",
    "import numpy as np\n",
    "\n",
    "# 웹 크롤링을 위하여\n",
    "from bs4 import BeautifulSoup\n",
    "from selenium import webdriver\n",
    "\n",
    "# 크롤링 통신을 하기 위해서\n",
    "import requests\n",
    "import json\n",
    "from pandas.io.json import json_normalize\n",
    "\n",
    "# Webdriver의 Select와 key를 위하여\n",
    "from selenium.webdriver.support.ui import Select\n",
    "from selenium.webdriver.common.keys import Keys\n",
    "\n",
    "# 기타\n",
    "import time"
   ]
  },
  {
   "cell_type": "code",
   "execution_count": 2,
   "id": "3130d126",
   "metadata": {},
   "outputs": [],
   "source": [
    "# 웹 드라이버 실행\n",
    "driver = webdriver.Chrome(\"chromedriver\")"
   ]
  },
  {
   "cell_type": "code",
   "execution_count": 10,
   "id": "0c2d7070",
   "metadata": {},
   "outputs": [],
   "source": [
    "# click function:\n",
    "\n",
    "def click(area):\n",
    "    # 페이지 입장\n",
    "    driver.get(\"https://www.burgerking.co.kr/#/store\")\n",
    "    time.sleep(5)\n",
    "    driver.implicitly_wait(30)\n",
    "    \n",
    "    html = driver.page_source\n",
    "    soupBK = BeautifulSoup(html, 'html.parser')\n",
    "    \n",
    "    # 각 지정 지역 클릭\n",
    "    s1 = soupBK.select('li.on > button')\n",
    "        \n",
    "    time.sleep(2)\n",
    "    driver.implicitly_wait(10)\n",
    "    s1[0].click()\n",
    "    \n",
    "    # 로딩 대기\n",
    "    time.sleep(3)   #  무조건 3초를 기다린다.\n",
    "    driver.implicitly_wait(30)  #  데이터를 가져올때 최대 30초까지 대기한다.\n",
    "    \n",
    "    # 전체 클릭\n",
    "    gg = driver.find_element_by_class_name('st04')\n",
    "    g1 = gg.find_elements_by_tag_name('option')\n",
    "    time.sleep(2)\n",
    "    driver.implicitly_wait(10)  \n",
    "    g1[area].click()\n",
    "    \n",
    "    # 로딩 대기\n",
    "    time.sleep(3)\n",
    "    driver.implicitly_wait(30)\n",
    "    \n",
    "    # 소스코드\n",
    "    source = driver.page_source\n",
    "    bs = BeautifulSoup(source, 'lxml')\n",
    "    return bs"
   ]
  },
  {
   "cell_type": "code",
   "execution_count": 11,
   "id": "02eb760f",
   "metadata": {},
   "outputs": [
    {
     "ename": "TypeError",
     "evalue": "'NoneType' object is not callable",
     "output_type": "error",
     "traceback": [
      "\u001b[1;31m---------------------------------------------------------------------------\u001b[0m",
      "\u001b[1;31mTypeError\u001b[0m                                 Traceback (most recent call last)",
      "\u001b[1;32m<ipython-input-11-b674793e26a0>\u001b[0m in \u001b[0;36m<module>\u001b[1;34m\u001b[0m\n\u001b[1;32m----> 1\u001b[1;33m \u001b[0mbs\u001b[0m \u001b[1;33m=\u001b[0m \u001b[0mclick\u001b[0m\u001b[1;33m(\u001b[0m\u001b[1;36m11\u001b[0m\u001b[1;33m)\u001b[0m\u001b[1;33m\u001b[0m\u001b[1;33m\u001b[0m\u001b[0m\n\u001b[0m\u001b[0;32m      2\u001b[0m \u001b[0mul\u001b[0m \u001b[1;33m=\u001b[0m \u001b[0mbs\u001b[0m\u001b[1;33m.\u001b[0m\u001b[0mfind\u001b[0m\u001b[1;33m(\u001b[0m\u001b[1;34m'ul'\u001b[0m\u001b[1;33m,\u001b[0m \u001b[0mclass_\u001b[0m\u001b[1;33m=\u001b[0m \u001b[1;34m\"list02\"\u001b[0m\u001b[1;33m)\u001b[0m\u001b[1;33m\u001b[0m\u001b[1;33m\u001b[0m\u001b[0m\n\u001b[0;32m      3\u001b[0m \u001b[0mbk_list\u001b[0m \u001b[1;33m=\u001b[0m \u001b[0mul\u001b[0m\u001b[1;33m.\u001b[0m\u001b[0mfind_all\u001b[0m\u001b[1;33m(\u001b[0m\u001b[1;34m'li'\u001b[0m\u001b[1;33m)\u001b[0m\u001b[1;33m\u001b[0m\u001b[1;33m\u001b[0m\u001b[0m\n\u001b[0;32m      4\u001b[0m \u001b[1;33m\u001b[0m\u001b[0m\n\u001b[0;32m      5\u001b[0m \u001b[0mtime\u001b[0m\u001b[1;33m.\u001b[0m\u001b[0msleep\u001b[0m\u001b[1;33m(\u001b[0m\u001b[1;36m3\u001b[0m\u001b[1;33m)\u001b[0m\u001b[1;33m\u001b[0m\u001b[1;33m\u001b[0m\u001b[0m\n",
      "\u001b[1;32m<ipython-input-10-b79966abacde>\u001b[0m in \u001b[0;36mclick\u001b[1;34m(area)\u001b[0m\n\u001b[0;32m     15\u001b[0m     \u001b[0mtime\u001b[0m\u001b[1;33m.\u001b[0m\u001b[0msleep\u001b[0m\u001b[1;33m(\u001b[0m\u001b[1;36m2\u001b[0m\u001b[1;33m)\u001b[0m\u001b[1;33m\u001b[0m\u001b[1;33m\u001b[0m\u001b[0m\n\u001b[0;32m     16\u001b[0m     \u001b[0mdriver\u001b[0m\u001b[1;33m.\u001b[0m\u001b[0mimplicitly_wait\u001b[0m\u001b[1;33m(\u001b[0m\u001b[1;36m10\u001b[0m\u001b[1;33m)\u001b[0m\u001b[1;33m\u001b[0m\u001b[1;33m\u001b[0m\u001b[0m\n\u001b[1;32m---> 17\u001b[1;33m     \u001b[0ms1\u001b[0m\u001b[1;33m[\u001b[0m\u001b[1;36m0\u001b[0m\u001b[1;33m]\u001b[0m\u001b[1;33m.\u001b[0m\u001b[0mclick\u001b[0m\u001b[1;33m(\u001b[0m\u001b[1;33m)\u001b[0m\u001b[1;33m\u001b[0m\u001b[1;33m\u001b[0m\u001b[0m\n\u001b[0m\u001b[0;32m     18\u001b[0m \u001b[1;33m\u001b[0m\u001b[0m\n\u001b[0;32m     19\u001b[0m     \u001b[1;31m# 로딩 대기\u001b[0m\u001b[1;33m\u001b[0m\u001b[1;33m\u001b[0m\u001b[1;33m\u001b[0m\u001b[0m\n",
      "\u001b[1;31mTypeError\u001b[0m: 'NoneType' object is not callable"
     ]
    }
   ],
   "source": [
    "bs = click(11)\n",
    "ul = bs.find('ul', class_= \"list02\")\n",
    "bk_list = ul.find_all('li')\n",
    "\n",
    "time.sleep(3)\n",
    "driver.implicitly_wait(30)\n",
    "\n",
    "print(bklist)"
   ]
  },
  {
   "cell_type": "code",
   "execution_count": null,
   "id": "0c61b3e6",
   "metadata": {},
   "outputs": [],
   "source": [
    "def getInfo(bs):\n",
    "    # 매장정보 접근\n",
    "    ul = bs.find('ul', class_= \"list02\")\n",
    "    bk_list = ul.find_all('li')\n",
    "        \n",
    "    time.sleep(3)\n",
    "    driver.implicitly_wait(30)\n",
    "    \n",
    "    bklist\n",
    "        \n",
    "    \n",
    "    \n",
    "    # 매장의 정보를 담을 리스트 생성\n",
    "    names = []\n",
    "    lat = []\n",
    "    long = []\n",
    "    addr = []\n",
    "    \n",
    "    # 각 매장의 정보를 받아온다\n",
    "    for sb in bk_list:\n",
    "        names.append(sb['data-name'])\n",
    "        lat.append(sb['data-lat'])\n",
    "        long.append(sb['data-long'])\n",
    "        addr.append(sb.find('p').text)\n",
    "    \n",
    "    # 데이터프레임 생성\n",
    "    area = pd.DataFrame( [names, lat, long, addr], index=['매장이름', '위도', '경도', '주소']).T\n",
    "    \n",
    "    return area\n",
    "\n",
    "        \n",
    "        "
   ]
  }
 ],
 "metadata": {
  "kernelspec": {
   "display_name": "Python 3",
   "language": "python",
   "name": "python3"
  },
  "language_info": {
   "codemirror_mode": {
    "name": "ipython",
    "version": 3
   },
   "file_extension": ".py",
   "mimetype": "text/x-python",
   "name": "python",
   "nbconvert_exporter": "python",
   "pygments_lexer": "ipython3",
   "version": "3.8.10"
  }
 },
 "nbformat": 4,
 "nbformat_minor": 5
}
