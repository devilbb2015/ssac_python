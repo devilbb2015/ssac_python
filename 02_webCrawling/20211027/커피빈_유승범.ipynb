{
 "cells": [
  {
   "cell_type": "code",
   "execution_count": 7,
   "id": "65cd4904",
   "metadata": {},
   "outputs": [],
   "source": [
    "# 동적 웹 페이지 크롤링 기본 셋팅 - import\n",
    "\n",
    "from bs4 import BeautifulSoup\n",
    "import urllib.request\n",
    "import pandas as pd\n",
    "import datetime\n",
    "from selenium import webdriver\n",
    "import time"
   ]
  },
  {
   "cell_type": "code",
   "execution_count": 46,
   "id": "94efdfd9",
   "metadata": {},
   "outputs": [],
   "source": [
    "#[Code 1]\n",
    "def CoffeeBean_store(result):\n",
    "    CoffeeBean_URL = \"https://www.coffeebeankorea.com/store/store.asp\"\n",
    "    wd = webdriver.Chrome('chromedriver') # 웹드라이버 설치경로\n",
    "    for i in range(1, 30):  # 매장수만큼 반복\n",
    "        wd.get(CoffeeBean_URL)\n",
    "        time.sleep(1) # 웹페이지 연결할 동안 1초 대기\n",
    "        try:\n",
    "            wd.execute_script('storePop2(%d)' %i)\n",
    "            time.sleep(1)\n",
    "            html = wd.page_source\n",
    "            soupCB = BeautifulSoup(html, 'html.parser')\n",
    "            \n",
    "            store_name_h2 = soupCB.select('div.store_txt > h2')\n",
    "            store_name = store_name_h2[0].string # 매장 이름 [0]\n",
    "            print(store_name)\n",
    "\n",
    "            store_info = soupCB.select(\"div.stroe_txt > table.store_table > tbody > tr > td\") # tag 확인해서 선택\n",
    "            store_address_list = list(store_info[2])\n",
    "            store_address = store_address_list[0] # 전화번호 가져오기\n",
    "            store_phone = store_info[3].string\n",
    "\n",
    "            result.append([store_name]+[store_address]+[store_phone]) # 매장 이름, 주소, 전화번호 append 사용\n",
    "        except:\n",
    "            continue\n",
    "        \n",
    "    return\n",
    "        \n",
    "        "
   ]
  },
  {
   "cell_type": "code",
   "execution_count": 53,
   "id": "7f445e6c",
   "metadata": {},
   "outputs": [],
   "source": [
    "def main():\n",
    "    result = [] \n",
    "    print('CoffeeBean store crawling >>>>>>>>>>>>>>>>>>>>')\n",
    "    CoffeeBean_store(result) # [Code 1]\n",
    "    print(\" ========= Crawling 종료 =====================\")\n",
    "    \n",
    "    CB_tbl = pd.DataFrame(result, columns = ('store', 'address', 'phone'))\n",
    "    CB_tbl.to_csv('CoffeeBean.csv', encoding='cp949', mode='w', index=True)"
   ]
  },
  {
   "cell_type": "code",
   "execution_count": 54,
   "id": "c00e8fff",
   "metadata": {},
   "outputs": [
    {
     "name": "stdout",
     "output_type": "stream",
     "text": [
      "CoffeeBean store crawling >>>>>>>>>>>>>>>>>>>>\n",
      "학동역 DT점\n",
      "차병원점\n",
      "강남대로점\n",
      "강남에스점\n",
      "청담에스점\n",
      "신사점\n",
      "압구정역점\n",
      "역삼점\n",
      "양재스포타임점\n",
      "청담성당점\n",
      "영동점\n",
      "도곡점\n",
      "영동고앞점\n",
      "공항터미널앞점\n",
      "대치한티점\n",
      "압구정시티점\n",
      "압구정로데오점\n",
      "서초우성점\n",
      "논현팍스타워점\n",
      "삼성오크우드점\n",
      " ========= Crawling 종료 =====================\n"
     ]
    }
   ],
   "source": [
    "main()"
   ]
  },
  {
   "cell_type": "code",
   "execution_count": null,
   "id": "a051311e",
   "metadata": {},
   "outputs": [],
   "source": []
  }
 ],
 "metadata": {
  "kernelspec": {
   "display_name": "Python 3",
   "language": "python",
   "name": "python3"
  },
  "language_info": {
   "codemirror_mode": {
    "name": "ipython",
    "version": 3
   },
   "file_extension": ".py",
   "mimetype": "text/x-python",
   "name": "python",
   "nbconvert_exporter": "python",
   "pygments_lexer": "ipython3",
   "version": "3.8.10"
  }
 },
 "nbformat": 4,
 "nbformat_minor": 5
}
