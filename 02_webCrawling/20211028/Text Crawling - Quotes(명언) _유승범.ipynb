{
 "cells": [
  {
   "cell_type": "code",
   "execution_count": 1,
   "id": "48f7e689",
   "metadata": {},
   "outputs": [
    {
     "name": "stdout",
     "output_type": "stream",
     "text": [
      "Requirement already satisfied: beautifulsoup4 in c:\\users\\ts.sbyoo\\anaconda3\\lib\\site-packages (4.9.3)\n",
      "Requirement already satisfied: soupsieve>1.2 in c:\\users\\ts.sbyoo\\anaconda3\\lib\\site-packages (from beautifulsoup4) (2.2.1)\n"
     ]
    }
   ],
   "source": [
    "!pip install beautifulsoup4"
   ]
  },
  {
   "cell_type": "code",
   "execution_count": 25,
   "id": "649c76d3",
   "metadata": {},
   "outputs": [
    {
     "name": "stdout",
     "output_type": "stream",
     "text": [
      "“The world as we have created it is a process of our thinking. It cannot be changed without changing our thinking.”\n"
     ]
    }
   ],
   "source": [
    "#import os , re, usecsv\n",
    "import urllib.request as ur\n",
    "\n",
    "from bs4 import BeautifulSoup as bs\n",
    "url = 'http://quotes.toscrape.com/' \n",
    "\n",
    "#명언 하나만 가져오기\n",
    "soup = bs(ur.urlopen(url).read(), 'html.parser')\n",
    "a = soup.find('span',{\"text\"})\n",
    "print(a.text)"
   ]
  },
  {
   "cell_type": "code",
   "execution_count": 21,
   "id": "2e579bf2",
   "metadata": {
    "scrolled": true
   },
   "outputs": [
    {
     "name": "stdout",
     "output_type": "stream",
     "text": [
      "“The world as we have created it is a process of our thinking. It cannot be changed without changing our thinking.”\n"
     ]
    }
   ],
   "source": [
    "# quote 명언 하나만 가져오기\n",
    "print(soup.find_all('div',{'class': 'quote'})[0].span.text)"
   ]
  },
  {
   "cell_type": "code",
   "execution_count": 22,
   "id": "80a998e0",
   "metadata": {},
   "outputs": [
    {
     "name": "stdout",
     "output_type": "stream",
     "text": [
      "“The world as we have created it is a process of our thinking. It cannot be changed without changing our thinking.”\n"
     ]
    }
   ],
   "source": [
    "print(soup.find('span').text)"
   ]
  },
  {
   "cell_type": "code",
   "execution_count": 27,
   "id": "25c33050",
   "metadata": {},
   "outputs": [
    {
     "name": "stdout",
     "output_type": "stream",
     "text": [
      "<div class=\"quote\" itemscope=\"\" itemtype=\"http://schema.org/CreativeWork\">\n",
      "<span class=\"text\" itemprop=\"text\">“The world as we have created it is a process of our thinking. It cannot be changed without changing our thinking.”</span>\n",
      "<span>by <small class=\"author\" itemprop=\"author\">Albert Einstein</small>\n",
      "<a href=\"/author/Albert-Einstein\">(about)</a>\n",
      "</span>\n",
      "<div class=\"tags\">\n",
      "            Tags:\n",
      "            <meta class=\"keywords\" content=\"change,deep-thoughts,thinking,world\" itemprop=\"keywords\"/>\n",
      "<a class=\"tag\" href=\"/tag/change/page/1/\">change</a>\n",
      "<a class=\"tag\" href=\"/tag/deep-thoughts/page/1/\">deep-thoughts</a>\n",
      "<a class=\"tag\" href=\"/tag/thinking/page/1/\">thinking</a>\n",
      "<a class=\"tag\" href=\"/tag/world/page/1/\">world</a>\n",
      "</div>\n",
      "</div>\n"
     ]
    }
   ],
   "source": [
    "quotes=soup.find_all('div','quote')\n",
    "print(quotes[0])"
   ]
  },
  {
   "cell_type": "code",
   "execution_count": 20,
   "id": "50ee0c4b",
   "metadata": {},
   "outputs": [
    {
     "name": "stdout",
     "output_type": "stream",
     "text": [
      "“The world as we have created it is a process of our thinking. It cannot be changed without changing our thinking.”\n",
      "“It is our choices, Harry, that show what we truly are, far more than our abilities.”\n",
      "“There are only two ways to live your life. One is as though nothing is a miracle. The other is as though everything is a miracle.”\n",
      "“The person, be it gentleman or lady, who has not pleasure in a good novel, must be intolerably stupid.”\n",
      "“Imperfection is beauty, madness is genius and it's better to be absolutely ridiculous than absolutely boring.”\n",
      "“Try not to become a man of success. Rather become a man of value.”\n",
      "“It is better to be hated for what you are than to be loved for what you are not.”\n",
      "“I have not failed. I've just found 10,000 ways that won't work.”\n",
      "“A woman is like a tea bag; you never know how strong it is until it's in hot water.”\n",
      "“A day without sunshine is like, you know, night.”\n"
     ]
    }
   ],
   "source": [
    "# 해당 페이지의 명언 모두 출력하기\n",
    "for i in soup.find_all('span',{\"text\"}):\n",
    "    print(i.text)"
   ]
  },
  {
   "cell_type": "code",
   "execution_count": 28,
   "id": "0caeb612",
   "metadata": {},
   "outputs": [
    {
     "name": "stdout",
     "output_type": "stream",
     "text": [
      "“The world as we have created it is a process of our thinking. It cannot be changed without changing our thinking.”\n",
      "“It is our choices, Harry, that show what we truly are, far more than our abilities.”\n",
      "“There are only two ways to live your life. One is as though nothing is a miracle. The other is as though everything is a miracle.”\n",
      "“The person, be it gentleman or lady, who has not pleasure in a good novel, must be intolerably stupid.”\n",
      "“Imperfection is beauty, madness is genius and it's better to be absolutely ridiculous than absolutely boring.”\n",
      "“Try not to become a man of success. Rather become a man of value.”\n",
      "“It is better to be hated for what you are than to be loved for what you are not.”\n",
      "“I have not failed. I've just found 10,000 ways that won't work.”\n",
      "“A woman is like a tea bag; you never know how strong it is until it's in hot water.”\n",
      "“A day without sunshine is like, you know, night.”\n",
      "“The world as we have created it is a process of our thinking. It cannot be changed without changing our thinking.”\n",
      "“It is our choices, Harry, that show what we truly are, far more than our abilities.”\n",
      "“There are only two ways to live your life. One is as though nothing is a miracle. The other is as though everything is a miracle.”\n",
      "“The person, be it gentleman or lady, who has not pleasure in a good novel, must be intolerably stupid.”\n",
      "“Imperfection is beauty, madness is genius and it's better to be absolutely ridiculous than absolutely boring.”\n",
      "“Try not to become a man of success. Rather become a man of value.”\n",
      "“It is better to be hated for what you are than to be loved for what you are not.”\n",
      "“I have not failed. I've just found 10,000 ways that won't work.”\n",
      "“A woman is like a tea bag; you never know how strong it is until it's in hot water.”\n",
      "“A day without sunshine is like, you know, night.”\n"
     ]
    }
   ],
   "source": [
    "# select 사용\n",
    "for i in soup.select('.text'):\n",
    "    print(i.text)\n",
    "# find 사용\n",
    "for i in soup.find_all('span','text'):\n",
    "    print(i.text)\n"
   ]
  },
  {
   "cell_type": "code",
   "execution_count": 29,
   "id": "72444ee8",
   "metadata": {},
   "outputs": [
    {
     "name": "stdout",
     "output_type": "stream",
     "text": [
      "('“The world as we have created it is a process of our thinking. It cannot be changed without changing our thinking.”', 'Albert Einstein')\n",
      "('“It is our choices, Harry, that show what we truly are, far more than our abilities.”', 'J.K. Rowling')\n",
      "('“There are only two ways to live your life. One is as though nothing is a miracle. The other is as though everything is a miracle.”', 'Albert Einstein')\n",
      "('“The person, be it gentleman or lady, who has not pleasure in a good novel, must be intolerably stupid.”', 'Jane Austen')\n",
      "(\"“Imperfection is beauty, madness is genius and it's better to be absolutely ridiculous than absolutely boring.”\", 'Marilyn Monroe')\n",
      "('“Try not to become a man of success. Rather become a man of value.”', 'Albert Einstein')\n",
      "('“It is better to be hated for what you are than to be loved for what you are not.”', 'André Gide')\n",
      "(\"“I have not failed. I've just found 10,000 ways that won't work.”\", 'Thomas A. Edison')\n",
      "(\"“A woman is like a tea bag; you never know how strong it is until it's in hot water.”\", 'Eleanor Roosevelt')\n",
      "('“A day without sunshine is like, you know, night.”', 'Steve Martin')\n"
     ]
    }
   ],
   "source": [
    "# quote 명언 하나만 가져오기\n",
    "quote = []\n",
    "author = []\n",
    "for i in soup.find_all(\"span\",{\"class\":\"text\"}):\n",
    "    #print(i.text + \"\\n\")\n",
    "    quote.append(i.text)\n",
    "\n",
    "for j in soup.find_all(\"small\",{\"class\":\"author\"}):\n",
    "    #print(j.text + \"\\n\")\n",
    "    author.append(j.text)\n",
    "    \n",
    "for i in zip(quote, author):\n",
    "    print(i)"
   ]
  },
  {
   "cell_type": "code",
   "execution_count": 30,
   "id": "9609aca4",
   "metadata": {},
   "outputs": [],
   "source": [
    "# 해당 페이지의 명언을 파일로 출력하기 (txt)\n",
    "f = open('quotes.txt', 'w')\n",
    "for i in soup.select('.text'):\n",
    "    try:\n",
    "        f.write(i.text + '\\n')\n",
    "    except Exception as e:\n",
    "        print(e)\n",
    "        pass\n",
    "f.close()"
   ]
  },
  {
   "cell_type": "code",
   "execution_count": null,
   "id": "bd072a86",
   "metadata": {},
   "outputs": [],
   "source": [
    "quotes=soup.find_all('div','quote')\n",
    "authors=soup.find_all('small','author')\n",
    "\n",
    "f=open('quotes.txt','w', encoding='utf-8')\n",
    "\n",
    "for i in list(zip(quotes,authors)):\n",
    "    f.write(i[0].span.text+' - '+i[1].text+'\\n')\n",
    "\n",
    "f.close()\n"
   ]
  }
 ],
 "metadata": {
  "kernelspec": {
   "display_name": "Python 3",
   "language": "python",
   "name": "python3"
  },
  "language_info": {
   "codemirror_mode": {
    "name": "ipython",
    "version": 3
   },
   "file_extension": ".py",
   "mimetype": "text/x-python",
   "name": "python",
   "nbconvert_exporter": "python",
   "pygments_lexer": "ipython3",
   "version": "3.8.10"
  }
 },
 "nbformat": 4,
 "nbformat_minor": 5
}
