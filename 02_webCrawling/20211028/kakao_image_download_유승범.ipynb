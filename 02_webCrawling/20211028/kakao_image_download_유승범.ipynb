{
 "cells": [
  {
   "cell_type": "markdown",
   "metadata": {
    "id": "2RHNJgB3RlDM"
   },
   "source": [
    "# 1장. 카카오를 통해 이미지 크롤링 프로젝트"
   ]
  },
  {
   "cell_type": "markdown",
   "metadata": {
    "id": "N4u-Y2-oRlDO"
   },
   "source": [
    "## 1.2.1 회원가입\n",
    "- 카카오 개발자 사이트 : https://developers.kakao.com"
   ]
  },
  {
   "cell_type": "markdown",
   "metadata": {
    "id": "h6EL60oDRlDS"
   },
   "source": [
    "## 1.3.1 파일 읽고, 쓰기"
   ]
  },
  {
   "cell_type": "code",
   "execution_count": 1,
   "metadata": {},
   "outputs": [],
   "source": [
    "# 파일 쓰기\n",
    "# data = \"hello\"\n",
    "# with open(\"text.txt\", \"w\") as f\n",
    "#     f.write(data)\n",
    "\n",
    "# # 파일 읽기\n",
    "# with open(\"text.txt\", \"r\") as f\n",
    "#     print(f.read())"
   ]
  },
  {
   "cell_type": "markdown",
   "metadata": {
    "id": "iqBCEdMtRlDV"
   },
   "source": [
    "## 1.3.2 웹에 있는 이미지 파일을 저장하는 방법\n",
    "- https://search1.kakaocdn.net/argon/600S0_65_wr/ImZk3b2X1w8"
   ]
  },
  {
   "cell_type": "code",
   "execution_count": 20,
   "metadata": {},
   "outputs": [
    {
     "name": "stdout",
     "output_type": "stream",
     "text": [
      "Requirement already satisfied: requests in c:\\users\\ts.sbyoo\\anaconda3\\lib\\site-packages (2.25.1)\n",
      "Requirement already satisfied: chardet<5,>=3.0.2 in c:\\users\\ts.sbyoo\\anaconda3\\lib\\site-packages (from requests) (4.0.0)\n",
      "Requirement already satisfied: certifi>=2017.4.17 in c:\\users\\ts.sbyoo\\anaconda3\\lib\\site-packages (from requests) (2021.5.30)\n",
      "Requirement already satisfied: idna<3,>=2.5 in c:\\users\\ts.sbyoo\\anaconda3\\lib\\site-packages (from requests) (2.10)\n",
      "Requirement already satisfied: urllib3<1.27,>=1.21.1 in c:\\users\\ts.sbyoo\\anaconda3\\lib\\site-packages (from requests) (1.26.6)\n"
     ]
    }
   ],
   "source": [
    "!pip install requests"
   ]
  },
  {
   "cell_type": "code",
   "execution_count": 28,
   "metadata": {},
   "outputs": [],
   "source": [
    "import requests"
   ]
  },
  {
   "cell_type": "code",
   "execution_count": 46,
   "metadata": {
    "id": "dUr1VglmRlDW"
   },
   "outputs": [
    {
     "name": "stdout",
     "output_type": "stream",
     "text": [
      "====================== 이미지 저장 ======================\n"
     ]
    }
   ],
   "source": [
    "# 이미지가 있는 url 주소\n",
    "url = \"https://search4.kakaocdn.net/argon/0x200_85_hr/7HGHIGpqXIK\" \n",
    "\n",
    "# 해당 url로 서버에게 요청\n",
    "img_response = requests.get(url)\n",
    "\n",
    "# 요청에 성공했다면,\n",
    "if img_response.status_code == 200:  # 서버에 접속성공\n",
    "    print('====================== 이미지 저장 ======================')\n",
    "    \n",
    "    with open(\"test.jpg\", \"wb\") as f:\n",
    "        f.write(img_response.content)"
   ]
  },
  {
   "cell_type": "markdown",
   "metadata": {
    "id": "9NesVX5zRlDX"
   },
   "source": [
    "# 1.4 구현하기"
   ]
  },
  {
   "cell_type": "markdown",
   "metadata": {
    "id": "M__xMVJZRlDY"
   },
   "source": [
    "## Step 1) 카카오 이미지 검색 OpenAPI 호출하기\n",
    "- 카카오 이미지 검색 OpenAPI 문서 : https://developers.kakao.com/docs/latest/ko/daum-search/dev-guide#search-image"
   ]
  },
  {
   "cell_type": "code",
   "execution_count": 23,
   "metadata": {
    "id": "AviUIaBWRlDZ",
    "scrolled": false
   },
   "outputs": [
    {
     "name": "stdout",
     "output_type": "stream",
     "text": [
      "error! because  {'errorType': 'MissingParameter', 'message': 'query parameter required'}\n"
     ]
    }
   ],
   "source": [
    "import requests\n",
    "import json\n",
    "\n",
    "keyword = ''\n",
    "\n",
    "# 이미지 검색\n",
    "url = \"https://search4.kakaocdn.net/argon/0x200_85_hr/7HGHIGpqXIK\"\n",
    "headers = {\n",
    "#     \"Authorization\" : \"KakaoAK <REST_API 앱 키를 입력하세요>\"\n",
    "        \"Authorization\" :'KakaoAK d14be6002a90d442569859af3ed267bf'\n",
    "}\n",
    "\n",
    "data = {\n",
    "    \"query\" : keyword \n",
    "}\n",
    "\n",
    "# 이미지 검색 요청\n",
    "response = requests.post(url, headers=headers, data=data)\n",
    "# 요청에 실패했다면,\n",
    "if response.status_code != 200:\n",
    "    print(\"error! because \", response.json())\n",
    "else: # 성공했다면,\n",
    "    count = 0\n",
    "    for image_info in response.json()['documents']:\n",
    "        print(f\"[{count}th] image_url =\", image_info['image_url'])\n",
    "        # 저장될 이미지 파일명 설정\n",
    "        count = count + 1"
   ]
  },
  {
   "cell_type": "markdown",
   "metadata": {
    "id": "qqJAuwawRlDb"
   },
   "source": [
    "## Step 2) 이미지 파일 저장하기"
   ]
  },
  {
   "cell_type": "code",
   "execution_count": 47,
   "metadata": {
    "id": "NuG8RKkCRlDb"
   },
   "outputs": [],
   "source": [
    "# 이미지가 있는 image_url을 통해 file_name 파일로 저장하는 함수\n",
    "def save_image(image_url, file_name):\n",
    "    img_response = requests.get(image_url)\n",
    "    # 요청에 성공했다면,\n",
    "    if img_response.status.code == 200:\n",
    "        # 파일 저장\n",
    "        with open(file_name, ' wb') as f:\n",
    "            f.write(img_response.content)\n",
    "     "
   ]
  },
  {
   "cell_type": "code",
   "execution_count": null,
   "metadata": {},
   "outputs": [],
   "source": []
  },
  {
   "cell_type": "markdown",
   "metadata": {},
   "source": [
    "## Step 3) 사진을 저장할 폴더 생성 "
   ]
  },
  {
   "cell_type": "code",
   "execution_count": 48,
   "metadata": {},
   "outputs": [],
   "source": [
    "\n",
    "# 사진을 저장할 폴더 생성 \n",
    "def createFolder(keyword):\n",
    "    try:\n",
    "        if not os.path.exists(keyword):\n",
    "            os.makedirs(keyword)\n",
    "    except OSError:\n",
    "        print('Error: Creating directory. ' + keyword)\n"
   ]
  },
  {
   "cell_type": "markdown",
   "metadata": {
    "id": "vsdm4MsjRlDd"
   },
   "source": [
    "## Step 3) 전체 코드 완성하기"
   ]
  },
  {
   "cell_type": "code",
   "execution_count": 50,
   "metadata": {
    "id": "_kHoygVBRlDe"
   },
   "outputs": [
    {
     "name": "stdout",
     "output_type": "stream",
     "text": [
      "검색 키워드를 입력 하세요 갯마을\n",
      "[0th] image_url = http://cfs6.blog.daum.net/image/13/blog/2008/02/03/08/08/47a4f7d909ae9&filename=%EA%B0%AF%EB%A7%88%EC%9D%84.jpg\n",
      "====================== 이미지 저장 ======================\n",
      "[1th] image_url = http://t1.daumcdn.net/cfile/tistory/211C9145559C025A2B\n",
      "====================== 이미지 저장 ======================\n",
      "[2th] image_url = https://support.visitkorea.or.kr/img/call?cmd=VIEW&id=9cba0ecd-734f-4717-9430-0f226d6d5dcb\n",
      "====================== 이미지 저장 ======================\n",
      "[3th] image_url = https://support.visitkorea.or.kr/img/call?cmd=VIEW&id=d5123c38-26fc-4213-9333-e07f0f8ab63a\n",
      "====================== 이미지 저장 ======================\n",
      "[4th] image_url = https://t1.daumcdn.net/news/202110/08/entermedia/20211008131012435jwgv.jpg\n",
      "====================== 이미지 저장 ======================\n",
      "[5th] image_url = http://postfiles5.naver.net/20160811_100/amd728335_1470882298899UtQL0_JPEG/%B0%B9%B8%B6%C0%BB2.jpg?type=w966\n",
      "====================== 이미지 저장 ======================\n",
      "[6th] image_url = http://postfiles4.naver.net/20160509_163/amd728335_1462770403535q3fU6_JPEG/%B0%B9%B8%B6%C0%BB3.JPG?type=w966\n",
      "====================== 이미지 저장 ======================\n",
      "[7th] image_url = http://postfiles4.naver.net/20160811_147/amd728335_14708822989057Ylt9_JPEG/%B0%B9%B8%B6%C0%BB4.jpg?type=w966\n",
      "====================== 이미지 저장 ======================\n",
      "[8th] image_url = http://postfiles5.naver.net/20160907_212/amd728335_1473216826233azKaA_JPEG/%B0%B9%B8%B6%C0%BB%C3%BC%C7%E86.jpg?type=w966\n",
      "====================== 이미지 저장 ======================\n",
      "[9th] image_url = http://postfiles10.naver.net/20160516_297/amd728335_1463359034347LGxpH_JPEG/%B0%B9%B8%B6%C0%BB%B0%B9%B9%FA.jpg?type=w966\n",
      "====================== 이미지 저장 ======================\n",
      "[10th] image_url = http://cfile263.uf.daum.net/image/99CA3C3359858FC80BA4AF\n",
      "====================== 이미지 저장 ======================\n",
      "[11th] image_url = http://cfile272.uf.daum.net/image/993FE73359858FC22B97EF\n",
      "====================== 이미지 저장 ======================\n",
      "[12th] image_url = http://cfile259.uf.daum.net/image/9982953359858FC7319DCD\n",
      "====================== 이미지 저장 ======================\n",
      "[13th] image_url = http://cfile272.uf.daum.net/image/276DE93A565BEF161F6E92\n",
      "====================== 이미지 저장 ======================\n",
      "[14th] image_url = http://bookthumb.phinf.naver.net/cover/088/152/08815249.jpg?udate=20150227\n",
      "====================== 이미지 저장 ======================\n",
      "[15th] image_url = http://cfile235.uf.daum.net/image/19739C474FFBEBEC06B077\n",
      "====================== 이미지 저장 ======================\n",
      "[16th] image_url = http://cfile266.uf.daum.net/image/27238E4453F2F7052A1EA0\n",
      "====================== 이미지 저장 ======================\n",
      "[17th] image_url = http://pds24.cafe.daum.net/download.php?grpid=xq37&fldid=1wGA&dataid=122&fileid=6&regdt=20051010013602&disk=17&grpcode=hanmoelove&dncnt=N&.jpg\n",
      "====================== 이미지 저장 ======================\n",
      "[18th] image_url = http://cfile249.uf.daum.net/image/207F4F4B4F87777B22331C\n",
      "====================== 이미지 저장 ======================\n",
      "[19th] image_url = http://t1.daumcdn.net/news/200908/01/yonhap/20090801182404221.jpg\n",
      "====================== 이미지 저장 ======================\n",
      "[20th] image_url = https://t1.daumcdn.net/cafeattach/1Z3WG/1b3880c9d4b219b4557de9529b6697172ae1d9ed\n",
      "====================== 이미지 저장 ======================\n",
      "[21th] image_url = http://cfile250.uf.daum.net/image/2622D548538116430C65D7\n",
      "====================== 이미지 저장 ======================\n",
      "[22th] image_url = http://cfile222.uf.daum.net/image/99F1044E5B32F367388CE7\n",
      "====================== 이미지 저장 ======================\n",
      "[23th] image_url = http://postfiles3.naver.net/20160516_98/amd728335_14633590350827hQHx_JPEG/%B0%B9%B8%B6%C0%BB%B0%B9%B9%FA5.jpg?type=w966\n",
      "====================== 이미지 저장 ======================\n",
      "[24th] image_url = http://cfile237.uf.daum.net/image/27027A4B57A3194A0284DE\n",
      "====================== 이미지 저장 ======================\n",
      "[25th] image_url = https://t1.daumcdn.net/cafeattach/1IHuH/f196d6682cf19dba9c20b6b5e3a6a83f52485a14\n",
      "====================== 이미지 저장 ======================\n",
      "[26th] image_url = http://cfile258.uf.daum.net/image/17295F3450F80CA203ECEC\n",
      "====================== 이미지 저장 ======================\n",
      "[27th] image_url = http://t1.daumcdn.net/cafeattach/1Uqwu/07ab9bc769474fe612aa4435ef19d06783b53472\n",
      "====================== 이미지 저장 ======================\n",
      "[28th] image_url = http://postfiles15.naver.net/20160512_254/amd728335_1463021090981agA5d_JPEG/%B0%B9%B8%B6%C0%BB_%B0%B9%B9%FA%C3%BC%C7%E86.jpg?type=w966\n",
      "====================== 이미지 저장 ======================\n",
      "[29th] image_url = http://postfiles6.naver.net/20160512_261/amd728335_1463026084690JHIJr_JPEG/%B0%B9%B8%B6%C0%BB6_%282%29.JPG?type=w966\n",
      "====================== 이미지 저장 ======================\n",
      "[30th] image_url = http://dimg.donga.com/egc/CDB/WEEKLY/Article/20/04/09/30/200409300500030_2.jpg\n",
      "====================== 이미지 저장 ======================\n",
      "[31th] image_url = http://postfiles2.naver.net/20160525_1/amd728335_1464157134087C7ifE_JPEG/%B0%B9%B8%B6%C0%BB_%C3%BC%C7%E8%B8%B6%C2%F76.jpg?type=w966\n",
      "====================== 이미지 저장 ======================\n",
      "[32th] image_url = http://postfiles7.naver.net/20160525_246/amd728335_1464157133807QJ9vq_JPEG/%B0%B9%B8%B6%C0%BB_%C3%BC%C7%E8%B8%B6%C2%F75.jpg?type=w966\n",
      "====================== 이미지 저장 ======================\n",
      "[33th] image_url = http://t1.daumcdn.net/news/201108/09/donga/20110809031626695.jpg\n",
      "====================== 이미지 저장 ======================\n",
      "[34th] image_url = http://cfile264.uf.daum.net/image/171BA81C4ADCB9000A4EA1\n",
      "====================== 이미지 저장 ======================\n",
      "[35th] image_url = http://t1.daumcdn.net/cfile/tistory/2559F33E559C02D020\n",
      "====================== 이미지 저장 ======================\n",
      "[36th] image_url = http://t1.daumcdn.net/cfile/tistory/2164B63E559C02CE1A\n",
      "====================== 이미지 저장 ======================\n",
      "[37th] image_url = http://cfile299.uf.daum.net/image/2666563359780AB309D40A\n",
      "====================== 이미지 저장 ======================\n",
      "[38th] image_url = http://cfile278.uf.daum.net/image/246D56425785F24725F74E\n",
      "====================== 이미지 저장 ======================\n",
      "[39th] image_url = http://cfile297.uf.daum.net/image/2129E93359780AB532E5BD\n",
      "====================== 이미지 저장 ======================\n",
      "[40th] image_url = http://cfile288.uf.daum.net/image/250772455184EE482D917D\n",
      "====================== 이미지 저장 ======================\n",
      "[41th] image_url = http://cfile258.uf.daum.net/image/2474853359780AB20EB0C5\n",
      "====================== 이미지 저장 ======================\n",
      "[42th] image_url = http://cfile288.uf.daum.net/image/243194455785F2442474D6\n",
      "====================== 이미지 저장 ======================\n",
      "[43th] image_url = http://tong.visitkorea.or.kr/cms/resource/29/1984929_image2_1.jpg\n",
      "====================== 이미지 저장 ======================\n",
      "[44th] image_url = http://cfile283.uf.daum.net/image/23A1B03359780AB20806B8\n",
      "====================== 이미지 저장 ======================\n",
      "[45th] image_url = http://cfile274.uf.daum.net/image/24F6CB3359780AB316629B\n",
      "====================== 이미지 저장 ======================\n",
      "[46th] image_url = https://search3.kakaocdn.net/argon/0x200_85_hr/Fq39sZn6Mik\n",
      "====================== 이미지 저장 ======================\n",
      "[47th] image_url = http://t1.daumcdn.net/cfile/tistory/244A8F3555ADE3C424\n",
      "====================== 이미지 저장 ======================\n",
      "[48th] image_url = http://cfile271.uf.daum.net/image/9972C63359858FD2340DC0\n",
      "====================== 이미지 저장 ======================\n",
      "[49th] image_url = https://t1.daumcdn.net/cafeattach/1X510/087826636fc957e30cd1ec36c0156d6ba5460e7f\n",
      "====================== 이미지 저장 ======================\n",
      "[50th] image_url = http://cfile257.uf.daum.net/image/99884C3359858FCE338FB6\n",
      "====================== 이미지 저장 ======================\n",
      "[51th] image_url = http://cfile289.uf.daum.net/image/99164D3359858FD02D9D55\n",
      "====================== 이미지 저장 ======================\n",
      "[52th] image_url = http://postfiles9.naver.net/20160525_24/amd728335_1464157134361PItne_JPEG/%B0%B9%B8%B6%C0%BB_%C3%BC%C7%E8%B8%B6%C2%F77.jpg?type=w966\n",
      "====================== 이미지 저장 ======================\n",
      "[53th] image_url = http://pds102.cafe.daum.net/image/5/cafe/2008/11/10/01/09/49170b3a7b59e\n",
      "====================== 이미지 저장 ======================\n",
      "[54th] image_url = https://t1.daumcdn.net/news/202110/08/entermedia/20211008131011125taex.jpg\n",
      "====================== 이미지 저장 ======================\n",
      "[55th] image_url = https://t1.daumcdn.net/cafeattach/1Z9yN/e806609bf538b65f96d03ce2e62728035ddb0ea3\n"
     ]
    },
    {
     "name": "stdout",
     "output_type": "stream",
     "text": [
      "====================== 이미지 저장 ======================\n",
      "[56th] image_url = http://www.queen.co.kr/news/photo/202110/367833_106842_5540.jpg\n",
      "====================== 이미지 저장 ======================\n",
      "[57th] image_url = http://scrap.kakaocdn.net/dn/TfqAY/hyLUmg3pPU/ozSL5o9jxygpkUGakelXVk/img.jpg?width=1280&height=720&face=228_120_1162_484\n",
      "====================== 이미지 저장 ======================\n",
      "[58th] image_url = http://cfs11.blog.daum.net/image/22/blog/2008/08/01/15/06/4892a7d49ac12&filename=%EA%B0%AF%EB%A7%88%EC%9D%84058.jpg\n",
      "====================== 이미지 저장 ======================\n",
      "[59th] image_url = http://cfile270.uf.daum.net/image/184092364E8C51D7196D98\n",
      "====================== 이미지 저장 ======================\n",
      "[60th] image_url = https://t1.daumcdn.net/cfile/cafe/9950A04A5F5856392D\n",
      "====================== 이미지 저장 ======================\n",
      "[61th] image_url = https://t1.daumcdn.net/news/202110/13/ked/20211013154206338ueok.jpg\n",
      "====================== 이미지 저장 ======================\n",
      "[62th] image_url = https://scrap.kakaocdn.net/dn/boXBUx/hyLNejAw1h/rwLsAsvPyScaRjlCKA8SIk/img.jpg?width=1920&height=1080&face=552_183_981_300\n",
      "====================== 이미지 저장 ======================\n",
      "[63th] image_url = http://postfiles13.naver.net/MjAxNzA4MDlfMjU0/MDAxNTAyMjc2NDIzNTQ0.ZJN4txrZyPm8i-2o5xcDbyjrKSzeF91IVQmHM7AoJYIg.Ymqdekka5FkDQaX1PpC7PMvPLM_j1wEsHvtJWv84pbUg.JPEG.pyj_5004/3.jpg?type=w773\n",
      "====================== 이미지 저장 ======================\n",
      "[64th] image_url = http://cfile283.uf.daum.net/image/240EFA4C55BDB4080CBED3\n",
      "====================== 이미지 저장 ======================\n",
      "[65th] image_url = http://pds102.cafe.daum.net/image/4/cafe/2008/11/10/01/09/49170b3560002\n",
      "====================== 이미지 저장 ======================\n",
      "[66th] image_url = https://t1.daumcdn.net/cafeattach/1KO2R/97e7228f3f48be5ac85b9b4a715c80c523f41ae0\n",
      "====================== 이미지 저장 ======================\n",
      "[67th] image_url = https://t1.daumcdn.net/cfile/blog/997469395A8D82040A\n",
      "====================== 이미지 저장 ======================\n",
      "[68th] image_url = http://cfile279.uf.daum.net/image/9913DB3359858FC905C39C\n",
      "====================== 이미지 저장 ======================\n",
      "[69th] image_url = http://cfile249.uf.daum.net/image/236031425785F24534FC06\n",
      "====================== 이미지 저장 ======================\n",
      "[70th] image_url = http://cfile259.uf.daum.net/image/99F5E43359858FCB0458E6\n",
      "====================== 이미지 저장 ======================\n",
      "[71th] image_url = https://t1.daumcdn.net/cafeattach/1X510/82ea66ed8e44925d1dd83e3681c32242ee3bd633\n",
      "====================== 이미지 저장 ======================\n",
      "[72th] image_url = http://cfile298.uf.daum.net/image/99EE5D3359858FC3064241\n",
      "====================== 이미지 저장 ======================\n",
      "[73th] image_url = http://www.anmyondo.com/board/down/board/etc_gal/20070503194205132007.jpg\n",
      "====================== 이미지 저장 ======================\n",
      "[74th] image_url = https://img.hani.co.kr/imgdb/resize/2019/0614/00500523_20190614.JPG\n",
      "====================== 이미지 저장 ======================\n",
      "[75th] image_url = https://t1.daumcdn.net/cafeattach/1X510/101afe9715f7067570279afef349ad4a3c2afafc\n",
      "====================== 이미지 저장 ======================\n",
      "[76th] image_url = https://img1.daumcdn.net/thumb/S712x400/?fname=https%3A%2F%2Fthumb.kakaocdn.net%2Fdna%2Fkamp%2Fsource%2Frvpn9dymbc33g7blvg9fhrlre%2Fthumbs%2F2.jpg%3Fcredential%3DTuMuFGKUIcirOSjFzOpncbomGFEIdZWK%26expires%3D33185574757%26signature%3DWqdsCe5cbK0hqcPhDFCg3EGAaNc%253D\n",
      "====================== 이미지 저장 ======================\n",
      "[77th] image_url = https://support.visitkorea.or.kr/img/call?cmd=VIEW&id=0270a4d8-5879-4dd9-b949-d5751f93b695\n",
      "====================== 이미지 저장 ======================\n",
      "[78th] image_url = https://t1.daumcdn.net/cafeattach/1X510/69231df37322bd8263169401881e982b3494a836\n",
      "====================== 이미지 저장 ======================\n",
      "[79th] image_url = http://www.daejonilbo.com/admin/news/news_photo/oImg/2013/11/28/20131129010015907000000401.jpg\n",
      "====================== 이미지 저장 ======================\n"
     ]
    }
   ],
   "source": [
    "import requests\n",
    "import json\n",
    "import os \n",
    "\n",
    "\n",
    "# 이미지가 있는 image_url을 통해 file_name 파일로 저장하는 함수\n",
    "def save_image(image_url, file_name):\n",
    "    img_response = requests.get(image_url)\n",
    "    # 요청에 성공했다면,\n",
    "    if img_response.status_code == 200:  # 서버에 접속성공\n",
    "        print('====================== 이미지 저장 ======================')\n",
    "        with open(file_name, \"wb\") as f:\n",
    "            f.write(img_response.content)\n",
    "            \n",
    "# 이미지 검색\n",
    "url = \"https://dapi.kakao.com/v2/search/image\"\n",
    "headers = {\n",
    "#     \"Authorization\" : \"KakaoAK <REST_API 앱 키를 입력하세요>\"\n",
    "        \"Authorization\" :'KakaoAK d14be6002a90d442569859af3ed267bf'\n",
    "}\n",
    "\n",
    "keyword=input('검색 키워드를 입력 하세요 ')\n",
    "\n",
    "# 사진 저장할 폴더 생성 함수를 실행 \n",
    "createFolder(keyword)\n",
    "\n",
    "data = {\n",
    "    \"query\" : keyword\n",
    "}\n",
    "\n",
    "# 이미지 검색 요청\n",
    "response = requests.post(url, headers=headers, data=data)\n",
    "\n",
    "# 요청에 실패했다면,\n",
    "if response.status_code != 200:\n",
    "    print(\"error! because \", response.json())\n",
    "\n",
    "else: # 성공했다면,\n",
    "    count = 0\n",
    "    for image_info in response.json()['documents']:\n",
    "        print(f\"[{count}th] image_url =\", image_info['image_url'])\n",
    "        count = count + 1\n",
    "        # 저장될 이미지 파일명 설정\n",
    "        file_name = f\"{keyword}_{count}.jpg\"\n",
    "        \n",
    "        # 이미지 저장\n",
    "        save_image(image_info['image_url'], f'{keyword}/{file_name}')"
   ]
  },
  {
   "cell_type": "code",
   "execution_count": null,
   "metadata": {},
   "outputs": [],
   "source": []
  },
  {
   "cell_type": "code",
   "execution_count": null,
   "metadata": {},
   "outputs": [],
   "source": []
  }
 ],
 "metadata": {
  "colab": {
   "collapsed_sections": [],
   "name": "image_download.ipynb",
   "provenance": []
  },
  "kernelspec": {
   "display_name": "Python 3",
   "language": "python",
   "name": "python3"
  },
  "language_info": {
   "codemirror_mode": {
    "name": "ipython",
    "version": 3
   },
   "file_extension": ".py",
   "mimetype": "text/x-python",
   "name": "python",
   "nbconvert_exporter": "python",
   "pygments_lexer": "ipython3",
   "version": "3.8.10"
  },
  "toc": {
   "base_numbering": 1,
   "nav_menu": {},
   "number_sections": true,
   "sideBar": true,
   "skip_h1_title": false,
   "title_cell": "Table of Contents",
   "title_sidebar": "Contents",
   "toc_cell": false,
   "toc_position": {},
   "toc_section_display": true,
   "toc_window_display": false
  }
 },
 "nbformat": 4,
 "nbformat_minor": 1
}
