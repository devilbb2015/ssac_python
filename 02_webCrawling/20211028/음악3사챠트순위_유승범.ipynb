{
 "cells": [
  {
   "cell_type": "code",
   "execution_count": 1,
   "id": "fac05c60",
   "metadata": {},
   "outputs": [],
   "source": [
    "from bs4 import BeautifulSoup as bs\n",
    "import urllib.request as ur\n",
    "import pandas as pd\n",
    "import datetime\n",
    "import requests\n",
    "from selenium import webdriver"
   ]
  },
  {
   "cell_type": "code",
   "execution_count": 25,
   "id": "74198c78",
   "metadata": {},
   "outputs": [],
   "source": [
    "#     rank = []\n",
    "#     genie_info_music = []\n",
    "#     genie_info_singer = []\n",
    "#     for i in range(1, 101):\n",
    "#         rank.append(str(i)+\"위\")\n",
    "\n",
    "genie_rank = []\n",
    "genie_info_music = []\n",
    "genie_info_singer = []\n",
    "\n",
    "for i in range(1, 101):\n",
    "    genie_rank.append(str(i)+\"위\") # 순위 추가\n",
    "\n",
    "for page in range(1,3):\n",
    "    headers = {'User-Agent' : 'Mozilla/5.0 (Windows NT 10.0; Win64; x64) AppleWebKit/537.36 (KHTML, like Gecko) Chrome/95.0.4638.54 Safari/537.36'}\n",
    "    url = \"https://www.genie.co.kr/chart/top200?ditc=D&ymd=20211028&hh=16&rtm=Y&pg=%d\" %page\n",
    "    html = requests.get(url, headers = headers).text\n",
    "\n",
    "    soup = bs(html, 'html.parser')\n",
    "\n",
    "    for genie in soup.select('tr.list'):\n",
    "\n",
    "        genie_td = genie.find_all('td')\n",
    "#             genie_rank = genie_td[1].text.strip() # 순위\n",
    "        genie_info = genie_td[4].find_all('a') # 가수 및 곡정보\n",
    "        genie_info_music.append(genie_info[0].text.strip()) # 곡 정보\n",
    "        genie_info_singer.append(genie_info[1].text.strip()) # 가수 정보\n",
    "\n",
    "result_genie = pd.DataFrame([genie_rank, genie_info_music, genie_info_singer], index=['순위', '제목', '가수']).T\n",
    "\n",
    "\n"
   ]
  },
  {
   "cell_type": "code",
   "execution_count": 27,
   "id": "ee008977",
   "metadata": {},
   "outputs": [
    {
     "name": "stderr",
     "output_type": "stream",
     "text": [
      "<ipython-input-27-3cc510ae1122>:6: DeprecationWarning: executable_path has been deprecated, please pass in a Service object\n",
      "  driver = webdriver.Chrome(\"../../chromedriver\")\n"
     ]
    }
   ],
   "source": [
    "rank_title = []\n",
    "rank_singer = []\n",
    "rank_rank = []\n",
    "rank_musician = []\n",
    "\n",
    "driver = webdriver.Chrome(\"../../chromedriver\")\n",
    "driver.get('https://www.melon.com/chart/index.htm')\n",
    "\n",
    "soup = bs(driver.page_source)\n",
    "title = soup.select('div.rank01 > span > a')\n",
    "musician = soup.select('div.rank02 > a')\n",
    "rank = soup.select('span.rank')\n",
    "\n",
    "for i in title:\n",
    "    rank_title.append(i.text)\n",
    "\n",
    "for j in musician:\n",
    "    rank_musician.append(j.text)\n",
    "\n",
    "for k in rank[1:]:\n",
    "    rank_rank.append(k.text+\"위\")\n",
    "\n",
    "result_melon = pd.DataFrame([rank_rank, rank_title, rank_musician], index=['순위', '제목', '가수']).T\n"
   ]
  },
  {
   "cell_type": "code",
   "execution_count": 29,
   "id": "3f41a21e",
   "metadata": {},
   "outputs": [
    {
     "name": "stderr",
     "output_type": "stream",
     "text": [
      "<ipython-input-29-1fcac22e4aae>:9: DeprecationWarning: executable_path has been deprecated, please pass in a Service object\n",
      "  driver = webdriver.Chrome(\"../../chromedriver\")\n"
     ]
    }
   ],
   "source": [
    "# bugs_title = []\n",
    "# bugs_singer = []\n",
    "bugs_li = []\n",
    "bugs_rank = []\n",
    "bugs_title = []\n",
    "bugs_singer = []\n",
    "result = []\n",
    "\n",
    "driver = webdriver.Chrome(\"../../chromedriver\")\n",
    "driver.get('https://music.bugs.co.kr/chart')\n",
    "\n",
    "soup = bs(driver.page_source)\n",
    "tag_tbody = soup.find('tbody')\n",
    "\n",
    "for bugs in tag_tbody.find_all('tr'):\n",
    "    bugs_td = bugs.find_all('td')\n",
    "    bugs_th = bugs.find_all('th')\n",
    "    s1 = bugs_td[1].find('div').text.strip()\n",
    "    bugs_title.append(bugs_th[0].find('a').text)  #제목 추가\n",
    "    bugs_singer.append(bugs_td[4].find('a').text) # 가수 추가\n",
    "\n",
    "\n",
    "for i in range(1, 101):\n",
    "    bugs_rank.append(str(i)+\"위\") # 순위 추가\n",
    "    \n",
    "result_bugs = pd.DataFrame([bugs_rank, bugs_title, bugs_singer], index=['순위', '제목', '가수']).T\n"
   ]
  },
  {
   "cell_type": "markdown",
   "id": "0a7359ae",
   "metadata": {},
   "source": [
    "##  각 음원 사이트 파일은 .csv로 저장하기"
   ]
  },
  {
   "cell_type": "code",
   "execution_count": 30,
   "id": "c25bc1af",
   "metadata": {},
   "outputs": [],
   "source": [
    "result_genie.to_csv('genie.csv', encoding='cp949')\n",
    "result_melon.to_csv('melon.csv', encoding='cp949')\n",
    "result_bugs.to_csv('bugs.csv', encoding='cp949')"
   ]
  },
  {
   "cell_type": "markdown",
   "id": "d7e42501",
   "metadata": {},
   "source": [
    "## 3가지 음원 사이트가 한가지 엑셀 파일(.xlsx)로 저장하여 결과를 출력하기"
   ]
  },
  {
   "cell_type": "code",
   "execution_count": 31,
   "id": "f3d855ae",
   "metadata": {},
   "outputs": [],
   "source": [
    "writer = pd.ExcelWriter('music_chart.xlsx', engine='xlsxwriter')\n",
    "\n",
    "result_genie.to_excel(writer, sheet_name= 'genie')\n",
    "result_melon.to_excel(writer, sheet_name= 'melon')\n",
    "result_bugs.to_excel(writer, sheet_name= 'bugs')\n",
    "\n",
    "writer.save()"
   ]
  },
  {
   "cell_type": "code",
   "execution_count": null,
   "id": "b1b2a006",
   "metadata": {},
   "outputs": [],
   "source": []
  }
 ],
 "metadata": {
  "kernelspec": {
   "display_name": "Python 3",
   "language": "python",
   "name": "python3"
  },
  "language_info": {
   "codemirror_mode": {
    "name": "ipython",
    "version": 3
   },
   "file_extension": ".py",
   "mimetype": "text/x-python",
   "name": "python",
   "nbconvert_exporter": "python",
   "pygments_lexer": "ipython3",
   "version": "3.8.10"
  }
 },
 "nbformat": 4,
 "nbformat_minor": 5
}
