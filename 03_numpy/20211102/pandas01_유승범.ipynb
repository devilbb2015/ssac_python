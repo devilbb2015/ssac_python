{
 "cells": [
  {
   "cell_type": "code",
   "execution_count": 10,
   "id": "8083302c",
   "metadata": {},
   "outputs": [],
   "source": [
    "import pandas as pd"
   ]
  },
  {
   "cell_type": "code",
   "execution_count": 11,
   "id": "180c6956",
   "metadata": {
    "scrolled": true
   },
   "outputs": [
    {
     "data": {
      "text/plain": [
       "0    7\n",
       "1    3\n",
       "2    5\n",
       "3    8\n",
       "dtype: int64"
      ]
     },
     "execution_count": 11,
     "metadata": {},
     "output_type": "execute_result"
    }
   ],
   "source": [
    "pd.Series([7, 3, 5, 8])"
   ]
  },
  {
   "cell_type": "code",
   "execution_count": 15,
   "id": "bb1b79b4",
   "metadata": {},
   "outputs": [
    {
     "name": "stdout",
     "output_type": "stream",
     "text": [
      "서울    7\n",
      "대구    3\n",
      "부산    5\n",
      "광주    8\n",
      "dtype: int64\n"
     ]
    },
    {
     "data": {
      "text/plain": [
       "7"
      ]
     },
     "execution_count": 15,
     "metadata": {},
     "output_type": "execute_result"
    }
   ],
   "source": [
    "x = pd.Series([7, 3, 5, 8], index=['서울', '대구', '부산', '광주'])\n",
    "print(x)\n",
    "x['서울']"
   ]
  },
  {
   "cell_type": "code",
   "execution_count": 16,
   "id": "6ea5a5e5",
   "metadata": {},
   "outputs": [
    {
     "data": {
      "text/plain": [
       "서울    7\n",
       "대구    3\n",
       "dtype: int64"
      ]
     },
     "execution_count": 16,
     "metadata": {},
     "output_type": "execute_result"
    }
   ],
   "source": [
    "x[['서울', '대구']]"
   ]
  },
  {
   "cell_type": "code",
   "execution_count": 17,
   "id": "aee23bf1",
   "metadata": {},
   "outputs": [
    {
     "data": {
      "text/plain": [
       "대구    3\n",
       "부산    5\n",
       "광주    8\n",
       "dtype: int64"
      ]
     },
     "execution_count": 17,
     "metadata": {},
     "output_type": "execute_result"
    }
   ],
   "source": [
    "x[['대구', '부산', '광주']]"
   ]
  },
  {
   "cell_type": "code",
   "execution_count": 19,
   "id": "82b7dc42",
   "metadata": {
    "scrolled": true
   },
   "outputs": [
    {
     "data": {
      "text/plain": [
       "Index(['서울', '대구', '부산', '광주'], dtype='object')"
      ]
     },
     "execution_count": 19,
     "metadata": {},
     "output_type": "execute_result"
    }
   ],
   "source": [
    "x.index"
   ]
  },
  {
   "cell_type": "code",
   "execution_count": 20,
   "id": "83922478",
   "metadata": {},
   "outputs": [
    {
     "data": {
      "text/plain": [
       "'부산'"
      ]
     },
     "execution_count": 20,
     "metadata": {},
     "output_type": "execute_result"
    }
   ],
   "source": [
    "x.index[2]"
   ]
  },
  {
   "cell_type": "code",
   "execution_count": 21,
   "id": "40fd0581",
   "metadata": {},
   "outputs": [
    {
     "data": {
      "text/plain": [
       "array([7, 3, 5, 8], dtype=int64)"
      ]
     },
     "execution_count": 21,
     "metadata": {},
     "output_type": "execute_result"
    }
   ],
   "source": [
    "x.values"
   ]
  },
  {
   "cell_type": "code",
   "execution_count": 22,
   "id": "b1e646ab",
   "metadata": {},
   "outputs": [
    {
     "data": {
      "text/plain": [
       "8"
      ]
     },
     "execution_count": 22,
     "metadata": {},
     "output_type": "execute_result"
    }
   ],
   "source": [
    "x.values[3]"
   ]
  },
  {
   "cell_type": "code",
   "execution_count": 23,
   "id": "596aca1e",
   "metadata": {},
   "outputs": [
    {
     "name": "stdout",
     "output_type": "stream",
     "text": [
      "['광주', '대구', '부산', '서울']\n",
      "[3, 5, 7, 8]\n"
     ]
    }
   ],
   "source": [
    "print(sorted(x.index))\n",
    "print(sorted(x.values))"
   ]
  },
  {
   "cell_type": "code",
   "execution_count": 24,
   "id": "08f8662e",
   "metadata": {},
   "outputs": [
    {
     "data": {
      "text/plain": [
       "서울    7\n",
       "대구    3\n",
       "부산    5\n",
       "광주    8\n",
       "dtype: int64"
      ]
     },
     "execution_count": 24,
     "metadata": {},
     "output_type": "execute_result"
    }
   ],
   "source": [
    "x.reindex(sorted(x.index))\n",
    "x"
   ]
  },
  {
   "cell_type": "code",
   "execution_count": 25,
   "id": "e275243d",
   "metadata": {},
   "outputs": [
    {
     "data": {
      "text/plain": [
       "광주     NaN\n",
       "대구    10.0\n",
       "대전     NaN\n",
       "부산     9.0\n",
       "서울     8.0\n",
       "dtype: float64"
      ]
     },
     "execution_count": 25,
     "metadata": {},
     "output_type": "execute_result"
    }
   ],
   "source": [
    "x = pd.Series([3, 8, 5, 9], index=['서울', '대구', '부산', '광주'])\n",
    "y = pd.Series([2, 4, 5, 1], index=['대구', '부산', '서울', '대전'])\n",
    "x + y"
   ]
  },
  {
   "cell_type": "code",
   "execution_count": 33,
   "id": "64c9c933",
   "metadata": {},
   "outputs": [
    {
     "name": "stdout",
     "output_type": "stream",
     "text": [
      "[1 3 2 4]\n"
     ]
    }
   ],
   "source": [
    "medal = [1, 3, 2, 4, 2, 3]\n",
    "x = pd.Series(medal)\n",
    "print(pd.unique(x))"
   ]
  },
  {
   "cell_type": "code",
   "execution_count": 40,
   "id": "47fd321a",
   "metadata": {},
   "outputs": [
    {
     "name": "stdout",
     "output_type": "stream",
     "text": [
      "['민준' '현우' '서연' '동현']\n"
     ]
    }
   ],
   "source": [
    "medal = ['민준', '현우', '서연', '동현', '서연', '현우']\n",
    "pdata = pd.Series(medal)\n",
    "print(pd.unique(pdata))"
   ]
  },
  {
   "cell_type": "code",
   "execution_count": 41,
   "id": "1fc306d4",
   "metadata": {},
   "outputs": [
    {
     "data": {
      "text/plain": [
       "민준    23\n",
       "현우    43\n",
       "서연    12\n",
       "동현    45\n",
       "dtype: int64"
      ]
     },
     "execution_count": 41,
     "metadata": {},
     "output_type": "execute_result"
    }
   ],
   "source": [
    "age = {\"민준\":23, \"현우\":43, \"서연\":12, \"동현\":45}\n",
    "x = pd.Series(age)\n",
    "x"
   ]
  },
  {
   "cell_type": "code",
   "execution_count": 42,
   "id": "1ea87f1c",
   "metadata": {},
   "outputs": [
    {
     "name": "stdout",
     "output_type": "stream",
     "text": [
      "['동현' '서연' '현우']\n"
     ]
    }
   ],
   "source": [
    "a = pdata[3:6]\n",
    "print(a.values)"
   ]
  },
  {
   "cell_type": "code",
   "execution_count": 43,
   "id": "ef28a551",
   "metadata": {},
   "outputs": [
    {
     "data": {
      "text/html": [
       "<div>\n",
       "<style scoped>\n",
       "    .dataframe tbody tr th:only-of-type {\n",
       "        vertical-align: middle;\n",
       "    }\n",
       "\n",
       "    .dataframe tbody tr th {\n",
       "        vertical-align: top;\n",
       "    }\n",
       "\n",
       "    .dataframe thead th {\n",
       "        text-align: right;\n",
       "    }\n",
       "</style>\n",
       "<table border=\"1\" class=\"dataframe\">\n",
       "  <thead>\n",
       "    <tr style=\"text-align: right;\">\n",
       "      <th></th>\n",
       "      <th>name</th>\n",
       "      <th>age</th>\n",
       "      <th>height</th>\n",
       "    </tr>\n",
       "  </thead>\n",
       "  <tbody>\n",
       "    <tr>\n",
       "      <th>0</th>\n",
       "      <td>민준</td>\n",
       "      <td>23</td>\n",
       "      <td>175.3</td>\n",
       "    </tr>\n",
       "    <tr>\n",
       "      <th>1</th>\n",
       "      <td>현우</td>\n",
       "      <td>43</td>\n",
       "      <td>180.3</td>\n",
       "    </tr>\n",
       "    <tr>\n",
       "      <th>2</th>\n",
       "      <td>서연</td>\n",
       "      <td>12</td>\n",
       "      <td>165.8</td>\n",
       "    </tr>\n",
       "    <tr>\n",
       "      <th>3</th>\n",
       "      <td>동현</td>\n",
       "      <td>45</td>\n",
       "      <td>172.7</td>\n",
       "    </tr>\n",
       "  </tbody>\n",
       "</table>\n",
       "</div>"
      ],
      "text/plain": [
       "  name  age  height\n",
       "0   민준   23   175.3\n",
       "1   현우   43   180.3\n",
       "2   서연   12   165.8\n",
       "3   동현   45   172.7"
      ]
     },
     "execution_count": 43,
     "metadata": {},
     "output_type": "execute_result"
    }
   ],
   "source": [
    "data = {'age' : [23, 43, 12, 45], \n",
    "        'name' : ['민준', '현우', '서연', '동현'], \n",
    "        'height' : [175.3, 180.3, 165.8, 172.7]}\n",
    "x = pd.DataFrame(data, columns = ['name', 'age', 'height'])\n",
    "x"
   ]
  },
  {
   "cell_type": "code",
   "execution_count": 44,
   "id": "15074a2a",
   "metadata": {},
   "outputs": [
    {
     "data": {
      "text/plain": [
       "0    민준\n",
       "1    현우\n",
       "2    서연\n",
       "3    동현\n",
       "Name: name, dtype: object"
      ]
     },
     "execution_count": 44,
     "metadata": {},
     "output_type": "execute_result"
    }
   ],
   "source": [
    "x.name"
   ]
  },
  {
   "cell_type": "code",
   "execution_count": 45,
   "id": "731d8ab9",
   "metadata": {},
   "outputs": [
    {
     "data": {
      "text/html": [
       "<div>\n",
       "<style scoped>\n",
       "    .dataframe tbody tr th:only-of-type {\n",
       "        vertical-align: middle;\n",
       "    }\n",
       "\n",
       "    .dataframe tbody tr th {\n",
       "        vertical-align: top;\n",
       "    }\n",
       "\n",
       "    .dataframe thead th {\n",
       "        text-align: right;\n",
       "    }\n",
       "</style>\n",
       "<table border=\"1\" class=\"dataframe\">\n",
       "  <thead>\n",
       "    <tr style=\"text-align: right;\">\n",
       "      <th></th>\n",
       "      <th>First</th>\n",
       "      <th>Second</th>\n",
       "    </tr>\n",
       "  </thead>\n",
       "  <tbody>\n",
       "    <tr>\n",
       "      <th>0</th>\n",
       "      <td>1</td>\n",
       "      <td>2</td>\n",
       "    </tr>\n",
       "    <tr>\n",
       "      <th>1</th>\n",
       "      <td>3</td>\n",
       "      <td>4</td>\n",
       "    </tr>\n",
       "    <tr>\n",
       "      <th>2</th>\n",
       "      <td>5</td>\n",
       "      <td>6</td>\n",
       "    </tr>\n",
       "  </tbody>\n",
       "</table>\n",
       "</div>"
      ],
      "text/plain": [
       "   First  Second\n",
       "0      1       2\n",
       "1      3       4\n",
       "2      5       6"
      ]
     },
     "execution_count": 45,
     "metadata": {},
     "output_type": "execute_result"
    }
   ],
   "source": [
    "ary = [[1, 2],[3, 4], [5, 6]]\n",
    "data = pd.DataFrame(ary, columns=['First', 'Second'])\n",
    "data"
   ]
  },
  {
   "cell_type": "code",
   "execution_count": 46,
   "id": "b22e41eb",
   "metadata": {},
   "outputs": [
    {
     "data": {
      "text/plain": [
       "First     3\n",
       "Second    4\n",
       "Name: 1, dtype: int64"
      ]
     },
     "execution_count": 46,
     "metadata": {},
     "output_type": "execute_result"
    }
   ],
   "source": [
    "data.iloc[1]"
   ]
  },
  {
   "cell_type": "code",
   "execution_count": 49,
   "id": "c115bc88",
   "metadata": {},
   "outputs": [
    {
     "data": {
      "text/plain": [
       "0    2\n",
       "1    4\n",
       "2    6\n",
       "Name: Second, dtype: int64"
      ]
     },
     "execution_count": 49,
     "metadata": {},
     "output_type": "execute_result"
    }
   ],
   "source": [
    "data.iloc[:, -1]"
   ]
  },
  {
   "cell_type": "code",
   "execution_count": 52,
   "id": "3722a7d6",
   "metadata": {},
   "outputs": [
    {
     "data": {
      "text/html": [
       "<div>\n",
       "<style scoped>\n",
       "    .dataframe tbody tr th:only-of-type {\n",
       "        vertical-align: middle;\n",
       "    }\n",
       "\n",
       "    .dataframe tbody tr th {\n",
       "        vertical-align: top;\n",
       "    }\n",
       "\n",
       "    .dataframe thead th {\n",
       "        text-align: right;\n",
       "    }\n",
       "</style>\n",
       "<table border=\"1\" class=\"dataframe\">\n",
       "  <thead>\n",
       "    <tr style=\"text-align: right;\">\n",
       "      <th></th>\n",
       "      <th>First</th>\n",
       "      <th>Second</th>\n",
       "    </tr>\n",
       "  </thead>\n",
       "  <tbody>\n",
       "    <tr>\n",
       "      <th>0</th>\n",
       "      <td>1</td>\n",
       "      <td>2</td>\n",
       "    </tr>\n",
       "    <tr>\n",
       "      <th>1</th>\n",
       "      <td>3</td>\n",
       "      <td>4</td>\n",
       "    </tr>\n",
       "    <tr>\n",
       "      <th>2</th>\n",
       "      <td>5</td>\n",
       "      <td>6</td>\n",
       "    </tr>\n",
       "  </tbody>\n",
       "</table>\n",
       "</div>"
      ],
      "text/plain": [
       "   First  Second\n",
       "0      1       2\n",
       "1      3       4\n",
       "2      5       6"
      ]
     },
     "execution_count": 52,
     "metadata": {},
     "output_type": "execute_result"
    }
   ],
   "source": [
    "ary = [[1, 2], [3, 4], [5, 6], [7, 8], [9, 10], [11,12]]\n",
    "data = pd.DataFrame(ary, columns=['First', 'Second'])\n",
    "data.head(3)"
   ]
  },
  {
   "cell_type": "code",
   "execution_count": 53,
   "id": "9ac94eb7",
   "metadata": {},
   "outputs": [
    {
     "data": {
      "text/html": [
       "<div>\n",
       "<style scoped>\n",
       "    .dataframe tbody tr th:only-of-type {\n",
       "        vertical-align: middle;\n",
       "    }\n",
       "\n",
       "    .dataframe tbody tr th {\n",
       "        vertical-align: top;\n",
       "    }\n",
       "\n",
       "    .dataframe thead th {\n",
       "        text-align: right;\n",
       "    }\n",
       "</style>\n",
       "<table border=\"1\" class=\"dataframe\">\n",
       "  <thead>\n",
       "    <tr style=\"text-align: right;\">\n",
       "      <th></th>\n",
       "      <th>First</th>\n",
       "      <th>Second</th>\n",
       "    </tr>\n",
       "  </thead>\n",
       "  <tbody>\n",
       "    <tr>\n",
       "      <th>3</th>\n",
       "      <td>7</td>\n",
       "      <td>8</td>\n",
       "    </tr>\n",
       "    <tr>\n",
       "      <th>4</th>\n",
       "      <td>9</td>\n",
       "      <td>10</td>\n",
       "    </tr>\n",
       "    <tr>\n",
       "      <th>5</th>\n",
       "      <td>11</td>\n",
       "      <td>12</td>\n",
       "    </tr>\n",
       "  </tbody>\n",
       "</table>\n",
       "</div>"
      ],
      "text/plain": [
       "   First  Second\n",
       "3      7       8\n",
       "4      9      10\n",
       "5     11      12"
      ]
     },
     "execution_count": 53,
     "metadata": {},
     "output_type": "execute_result"
    }
   ],
   "source": [
    "data.tail(3)"
   ]
  },
  {
   "cell_type": "code",
   "execution_count": 55,
   "id": "e8262c87",
   "metadata": {},
   "outputs": [
    {
     "data": {
      "text/plain": [
       "1     4\n",
       "2     6\n",
       "4    10\n",
       "Name: Second, dtype: int64"
      ]
     },
     "execution_count": 55,
     "metadata": {},
     "output_type": "execute_result"
    }
   ],
   "source": [
    "ary = [[1, 2], [3, 4], [5, 6], [7, 8], [9, 10]]\n",
    "data = pd.DataFrame(ary, columns=['First', 'Second'])\n",
    "bools = [False, True, True, False, True]\n",
    "data.Second[bools]"
   ]
  },
  {
   "cell_type": "code",
   "execution_count": 56,
   "id": "ff64aeaf",
   "metadata": {
    "scrolled": true
   },
   "outputs": [
    {
     "name": "stdout",
     "output_type": "stream",
     "text": [
      "age        30.750\n",
      "height    173.525\n",
      "dtype: float64\n"
     ]
    }
   ],
   "source": [
    "print(x.mean(axis=0))"
   ]
  },
  {
   "cell_type": "code",
   "execution_count": 57,
   "id": "4e4fd1f2",
   "metadata": {},
   "outputs": [
    {
     "data": {
      "text/html": [
       "<div>\n",
       "<style scoped>\n",
       "    .dataframe tbody tr th:only-of-type {\n",
       "        vertical-align: middle;\n",
       "    }\n",
       "\n",
       "    .dataframe tbody tr th {\n",
       "        vertical-align: top;\n",
       "    }\n",
       "\n",
       "    .dataframe thead th {\n",
       "        text-align: right;\n",
       "    }\n",
       "</style>\n",
       "<table border=\"1\" class=\"dataframe\">\n",
       "  <thead>\n",
       "    <tr style=\"text-align: right;\">\n",
       "      <th></th>\n",
       "      <th>수온</th>\n",
       "      <th>상온</th>\n",
       "    </tr>\n",
       "  </thead>\n",
       "  <tbody>\n",
       "    <tr>\n",
       "      <th>0</th>\n",
       "      <td>1</td>\n",
       "      <td>2</td>\n",
       "    </tr>\n",
       "    <tr>\n",
       "      <th>1</th>\n",
       "      <td>3</td>\n",
       "      <td>4</td>\n",
       "    </tr>\n",
       "    <tr>\n",
       "      <th>2</th>\n",
       "      <td>5</td>\n",
       "      <td>6</td>\n",
       "    </tr>\n",
       "    <tr>\n",
       "      <th>3</th>\n",
       "      <td>7</td>\n",
       "      <td>8</td>\n",
       "    </tr>\n",
       "    <tr>\n",
       "      <th>4</th>\n",
       "      <td>9</td>\n",
       "      <td>10</td>\n",
       "    </tr>\n",
       "  </tbody>\n",
       "</table>\n",
       "</div>"
      ],
      "text/plain": [
       "   수온  상온\n",
       "0   1   2\n",
       "1   3   4\n",
       "2   5   6\n",
       "3   7   8\n",
       "4   9  10"
      ]
     },
     "execution_count": 57,
     "metadata": {},
     "output_type": "execute_result"
    }
   ],
   "source": [
    "data = pd.DataFrame(ary, columns=['수온', '상온'])\n",
    "data"
   ]
  },
  {
   "cell_type": "code",
   "execution_count": 58,
   "id": "32789666",
   "metadata": {},
   "outputs": [
    {
     "data": {
      "text/html": [
       "<div>\n",
       "<style scoped>\n",
       "    .dataframe tbody tr th:only-of-type {\n",
       "        vertical-align: middle;\n",
       "    }\n",
       "\n",
       "    .dataframe tbody tr th {\n",
       "        vertical-align: top;\n",
       "    }\n",
       "\n",
       "    .dataframe thead th {\n",
       "        text-align: right;\n",
       "    }\n",
       "</style>\n",
       "<table border=\"1\" class=\"dataframe\">\n",
       "  <thead>\n",
       "    <tr style=\"text-align: right;\">\n",
       "      <th></th>\n",
       "      <th>수온</th>\n",
       "      <th>상온</th>\n",
       "    </tr>\n",
       "  </thead>\n",
       "  <tbody>\n",
       "    <tr>\n",
       "      <th>0</th>\n",
       "      <td>1.0</td>\n",
       "      <td>2</td>\n",
       "    </tr>\n",
       "    <tr>\n",
       "      <th>1</th>\n",
       "      <td>3.0</td>\n",
       "      <td>4</td>\n",
       "    </tr>\n",
       "    <tr>\n",
       "      <th>2</th>\n",
       "      <td>5.0</td>\n",
       "      <td>6</td>\n",
       "    </tr>\n",
       "    <tr>\n",
       "      <th>3</th>\n",
       "      <td>7.0</td>\n",
       "      <td>8</td>\n",
       "    </tr>\n",
       "    <tr>\n",
       "      <th>4</th>\n",
       "      <td>9.0</td>\n",
       "      <td>10</td>\n",
       "    </tr>\n",
       "  </tbody>\n",
       "</table>\n",
       "</div>"
      ],
      "text/plain": [
       "    수온  상온\n",
       "0  1.0   2\n",
       "1  3.0   4\n",
       "2  5.0   6\n",
       "3  7.0   8\n",
       "4  9.0  10"
      ]
     },
     "execution_count": 58,
     "metadata": {},
     "output_type": "execute_result"
    }
   ],
   "source": [
    "data['수온'] =  data['수온'].astype('float')\n",
    "data"
   ]
  },
  {
   "cell_type": "code",
   "execution_count": 59,
   "id": "49b6a46c",
   "metadata": {},
   "outputs": [
    {
     "data": {
      "text/html": [
       "<div>\n",
       "<style scoped>\n",
       "    .dataframe tbody tr th:only-of-type {\n",
       "        vertical-align: middle;\n",
       "    }\n",
       "\n",
       "    .dataframe tbody tr th {\n",
       "        vertical-align: top;\n",
       "    }\n",
       "\n",
       "    .dataframe thead th {\n",
       "        text-align: right;\n",
       "    }\n",
       "</style>\n",
       "<table border=\"1\" class=\"dataframe\">\n",
       "  <thead>\n",
       "    <tr style=\"text-align: right;\">\n",
       "      <th></th>\n",
       "      <th>Series_reference</th>\n",
       "      <th>Period</th>\n",
       "      <th>Data_value</th>\n",
       "      <th>STATUS</th>\n",
       "      <th>UNITS</th>\n",
       "      <th>Subject</th>\n",
       "      <th>Group</th>\n",
       "      <th>Series_title_1</th>\n",
       "    </tr>\n",
       "  </thead>\n",
       "  <tbody>\n",
       "    <tr>\n",
       "      <th>0</th>\n",
       "      <td>CPIM.SE9S01</td>\n",
       "      <td>1999.06</td>\n",
       "      <td>645</td>\n",
       "      <td>REVISED</td>\n",
       "      <td>Index</td>\n",
       "      <td>Consumers Price Index - CPI</td>\n",
       "      <td>Food Price Index for New Zealand, Seasonally a...</td>\n",
       "      <td>Seasonally adjusted</td>\n",
       "    </tr>\n",
       "    <tr>\n",
       "      <th>1</th>\n",
       "      <td>CPIM.SE9S01</td>\n",
       "      <td>1999.07</td>\n",
       "      <td>647</td>\n",
       "      <td>REVISED</td>\n",
       "      <td>Index</td>\n",
       "      <td>Consumers Price Index - CPI</td>\n",
       "      <td>Food Price Index for New Zealand, Seasonally a...</td>\n",
       "      <td>Seasonally adjusted</td>\n",
       "    </tr>\n",
       "    <tr>\n",
       "      <th>2</th>\n",
       "      <td>CPIM.SE9S01</td>\n",
       "      <td>1999.08</td>\n",
       "      <td>645</td>\n",
       "      <td>REVISED</td>\n",
       "      <td>Index</td>\n",
       "      <td>Consumers Price Index - CPI</td>\n",
       "      <td>Food Price Index for New Zealand, Seasonally a...</td>\n",
       "      <td>Seasonally adjusted</td>\n",
       "    </tr>\n",
       "    <tr>\n",
       "      <th>3</th>\n",
       "      <td>CPIM.SE9S01</td>\n",
       "      <td>1999.09</td>\n",
       "      <td>644</td>\n",
       "      <td>REVISED</td>\n",
       "      <td>Index</td>\n",
       "      <td>Consumers Price Index - CPI</td>\n",
       "      <td>Food Price Index for New Zealand, Seasonally a...</td>\n",
       "      <td>Seasonally adjusted</td>\n",
       "    </tr>\n",
       "    <tr>\n",
       "      <th>4</th>\n",
       "      <td>CPIM.SE9S01</td>\n",
       "      <td>1999.10</td>\n",
       "      <td>641</td>\n",
       "      <td>REVISED</td>\n",
       "      <td>Index</td>\n",
       "      <td>Consumers Price Index - CPI</td>\n",
       "      <td>Food Price Index for New Zealand, Seasonally a...</td>\n",
       "      <td>Seasonally adjusted</td>\n",
       "    </tr>\n",
       "  </tbody>\n",
       "</table>\n",
       "</div>"
      ],
      "text/plain": [
       "  Series_reference   Period  Data_value   STATUS  UNITS  \\\n",
       "0      CPIM.SE9S01  1999.06         645  REVISED  Index   \n",
       "1      CPIM.SE9S01  1999.07         647  REVISED  Index   \n",
       "2      CPIM.SE9S01  1999.08         645  REVISED  Index   \n",
       "3      CPIM.SE9S01  1999.09         644  REVISED  Index   \n",
       "4      CPIM.SE9S01  1999.10         641  REVISED  Index   \n",
       "\n",
       "                       Subject  \\\n",
       "0  Consumers Price Index - CPI   \n",
       "1  Consumers Price Index - CPI   \n",
       "2  Consumers Price Index - CPI   \n",
       "3  Consumers Price Index - CPI   \n",
       "4  Consumers Price Index - CPI   \n",
       "\n",
       "                                               Group       Series_title_1  \n",
       "0  Food Price Index for New Zealand, Seasonally a...  Seasonally adjusted  \n",
       "1  Food Price Index for New Zealand, Seasonally a...  Seasonally adjusted  \n",
       "2  Food Price Index for New Zealand, Seasonally a...  Seasonally adjusted  \n",
       "3  Food Price Index for New Zealand, Seasonally a...  Seasonally adjusted  \n",
       "4  Food Price Index for New Zealand, Seasonally a...  Seasonally adjusted  "
      ]
     },
     "execution_count": 59,
     "metadata": {},
     "output_type": "execute_result"
    }
   ],
   "source": [
    "food = pd.read_csv('./datafile/food.csv')\n",
    "food.head()"
   ]
  },
  {
   "cell_type": "code",
   "execution_count": 61,
   "id": "81698636",
   "metadata": {},
   "outputs": [
    {
     "data": {
      "text/html": [
       "<div>\n",
       "<style scoped>\n",
       "    .dataframe tbody tr th:only-of-type {\n",
       "        vertical-align: middle;\n",
       "    }\n",
       "\n",
       "    .dataframe tbody tr th {\n",
       "        vertical-align: top;\n",
       "    }\n",
       "\n",
       "    .dataframe thead th {\n",
       "        text-align: right;\n",
       "    }\n",
       "</style>\n",
       "<table border=\"1\" class=\"dataframe\">\n",
       "  <thead>\n",
       "    <tr style=\"text-align: right;\">\n",
       "      <th></th>\n",
       "      <th>법규위반</th>\n",
       "      <th>주야</th>\n",
       "      <th>발생건수</th>\n",
       "      <th>사망자수</th>\n",
       "      <th>부상자수</th>\n",
       "      <th>중상</th>\n",
       "      <th>경상</th>\n",
       "      <th>부상신고</th>\n",
       "    </tr>\n",
       "  </thead>\n",
       "  <tbody>\n",
       "    <tr>\n",
       "      <th>0</th>\n",
       "      <td>과속</td>\n",
       "      <td>주</td>\n",
       "      <td>159</td>\n",
       "      <td>34</td>\n",
       "      <td>334</td>\n",
       "      <td>140</td>\n",
       "      <td>178</td>\n",
       "      <td>16</td>\n",
       "    </tr>\n",
       "    <tr>\n",
       "      <th>1</th>\n",
       "      <td>과속</td>\n",
       "      <td>야</td>\n",
       "      <td>218</td>\n",
       "      <td>73</td>\n",
       "      <td>348</td>\n",
       "      <td>200</td>\n",
       "      <td>139</td>\n",
       "      <td>9</td>\n",
       "    </tr>\n",
       "    <tr>\n",
       "      <th>2</th>\n",
       "      <td>교차로 통행방법 위반</td>\n",
       "      <td>주</td>\n",
       "      <td>8817</td>\n",
       "      <td>82</td>\n",
       "      <td>14031</td>\n",
       "      <td>3915</td>\n",
       "      <td>9530</td>\n",
       "      <td>586</td>\n",
       "    </tr>\n",
       "    <tr>\n",
       "      <th>3</th>\n",
       "      <td>교차로 통행방법 위반</td>\n",
       "      <td>야</td>\n",
       "      <td>5904</td>\n",
       "      <td>29</td>\n",
       "      <td>9728</td>\n",
       "      <td>2401</td>\n",
       "      <td>6884</td>\n",
       "      <td>443</td>\n",
       "    </tr>\n",
       "    <tr>\n",
       "      <th>4</th>\n",
       "      <td>기타</td>\n",
       "      <td>주</td>\n",
       "      <td>9388</td>\n",
       "      <td>141</td>\n",
       "      <td>14070</td>\n",
       "      <td>4271</td>\n",
       "      <td>9217</td>\n",
       "      <td>582</td>\n",
       "    </tr>\n",
       "  </tbody>\n",
       "</table>\n",
       "</div>"
      ],
      "text/plain": [
       "          법규위반 주야  발생건수  사망자수   부상자수    중상    경상  부상신고\n",
       "0           과속  주   159    34    334   140   178    16\n",
       "1           과속  야   218    73    348   200   139     9\n",
       "2  교차로 통행방법 위반  주  8817    82  14031  3915  9530   586\n",
       "3  교차로 통행방법 위반  야  5904    29   9728  2401  6884   443\n",
       "4           기타  주  9388   141  14070  4271  9217   582"
      ]
     },
     "execution_count": 61,
     "metadata": {},
     "output_type": "execute_result"
    }
   ],
   "source": [
    "acci = pd.read_csv('./datafile/acci.csv', encoding ='cp949')\n",
    "acci.head()"
   ]
  },
  {
   "cell_type": "code",
   "execution_count": null,
   "id": "f932e974",
   "metadata": {},
   "outputs": [],
   "source": []
  }
 ],
 "metadata": {
  "kernelspec": {
   "display_name": "Python 3",
   "language": "python",
   "name": "python3"
  },
  "language_info": {
   "codemirror_mode": {
    "name": "ipython",
    "version": 3
   },
   "file_extension": ".py",
   "mimetype": "text/x-python",
   "name": "python",
   "nbconvert_exporter": "python",
   "pygments_lexer": "ipython3",
   "version": "3.8.10"
  }
 },
 "nbformat": 4,
 "nbformat_minor": 5
}
