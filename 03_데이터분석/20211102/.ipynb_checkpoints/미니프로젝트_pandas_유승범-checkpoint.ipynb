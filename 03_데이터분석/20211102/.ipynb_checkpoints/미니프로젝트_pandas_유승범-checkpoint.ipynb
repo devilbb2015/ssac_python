{
 "cells": [
  {
   "cell_type": "code",
   "execution_count": 1,
   "id": "604662bc",
   "metadata": {},
   "outputs": [],
   "source": [
    "import pandas as pd\n",
    "import numpy as np"
   ]
  },
  {
   "cell_type": "code",
   "execution_count": 3,
   "id": "9dd666c6",
   "metadata": {},
   "outputs": [
    {
     "data": {
      "text/html": [
       "<div>\n",
       "<style scoped>\n",
       "    .dataframe tbody tr th:only-of-type {\n",
       "        vertical-align: middle;\n",
       "    }\n",
       "\n",
       "    .dataframe tbody tr th {\n",
       "        vertical-align: top;\n",
       "    }\n",
       "\n",
       "    .dataframe thead th {\n",
       "        text-align: right;\n",
       "    }\n",
       "</style>\n",
       "<table border=\"1\" class=\"dataframe\">\n",
       "  <thead>\n",
       "    <tr style=\"text-align: right;\">\n",
       "      <th></th>\n",
       "      <th>컴퓨터</th>\n",
       "      <th>모니터</th>\n",
       "      <th>노트북</th>\n",
       "      <th>스마트폰</th>\n",
       "    </tr>\n",
       "  </thead>\n",
       "  <tbody>\n",
       "    <tr>\n",
       "      <th>서울지점</th>\n",
       "      <td>869</td>\n",
       "      <td>374</td>\n",
       "      <td>569</td>\n",
       "      <td>197</td>\n",
       "    </tr>\n",
       "    <tr>\n",
       "      <th>부산지점</th>\n",
       "      <td>578</td>\n",
       "      <td>286</td>\n",
       "      <td>427</td>\n",
       "      <td>89</td>\n",
       "    </tr>\n",
       "    <tr>\n",
       "      <th>제주지점</th>\n",
       "      <td>321</td>\n",
       "      <td>148</td>\n",
       "      <td>335</td>\n",
       "      <td>66</td>\n",
       "    </tr>\n",
       "  </tbody>\n",
       "</table>\n",
       "</div>"
      ],
      "text/plain": [
       "      컴퓨터  모니터  노트북  스마트폰\n",
       "서울지점  869  374  569   197\n",
       "부산지점  578  286  427    89\n",
       "제주지점  321  148  335    66"
      ]
     },
     "execution_count": 3,
     "metadata": {},
     "output_type": "execute_result"
    }
   ],
   "source": [
    "arr = ([869, 374, 569, 197],\n",
    "      [578, 286, 427, 89],\n",
    "      [321, 148, 335, 66])\n",
    "\n",
    "df = pd.DataFrame(arr, \n",
    "                  index=['서울지점','부산지점','제주지점'], \n",
    "                  columns=['컴퓨터','모니터','노트북','스마트폰'])\n",
    "\n",
    "df"
   ]
  },
  {
   "cell_type": "code",
   "execution_count": 5,
   "id": "34df0aa1",
   "metadata": {},
   "outputs": [
    {
     "data": {
      "text/plain": [
       "컴퓨터     869\n",
       "모니터     374\n",
       "노트북     569\n",
       "스마트폰    197\n",
       "Name: 서울지점, dtype: int64"
      ]
     },
     "execution_count": 5,
     "metadata": {},
     "output_type": "execute_result"
    }
   ],
   "source": [
    "df.loc['서울지점']"
   ]
  },
  {
   "cell_type": "code",
   "execution_count": 7,
   "id": "f5ebacee",
   "metadata": {},
   "outputs": [
    {
     "data": {
      "text/plain": [
       "컴퓨터     578\n",
       "모니터     286\n",
       "노트북     427\n",
       "스마트폰     89\n",
       "Name: 부산지점, dtype: int64"
      ]
     },
     "execution_count": 7,
     "metadata": {},
     "output_type": "execute_result"
    }
   ],
   "source": [
    "df.iloc[1]"
   ]
  },
  {
   "cell_type": "code",
   "execution_count": 13,
   "id": "6d0df37c",
   "metadata": {},
   "outputs": [
    {
     "data": {
      "text/plain": [
       "서울지점    869\n",
       "부산지점    578\n",
       "제주지점    321\n",
       "Name: 컴퓨터, dtype: int64"
      ]
     },
     "execution_count": 13,
     "metadata": {},
     "output_type": "execute_result"
    }
   ],
   "source": [
    "df.컴퓨터"
   ]
  },
  {
   "cell_type": "code",
   "execution_count": 10,
   "id": "fcf50df4",
   "metadata": {},
   "outputs": [
    {
     "data": {
      "text/html": [
       "<div>\n",
       "<style scoped>\n",
       "    .dataframe tbody tr th:only-of-type {\n",
       "        vertical-align: middle;\n",
       "    }\n",
       "\n",
       "    .dataframe tbody tr th {\n",
       "        vertical-align: top;\n",
       "    }\n",
       "\n",
       "    .dataframe thead th {\n",
       "        text-align: right;\n",
       "    }\n",
       "</style>\n",
       "<table border=\"1\" class=\"dataframe\">\n",
       "  <thead>\n",
       "    <tr style=\"text-align: right;\">\n",
       "      <th></th>\n",
       "      <th>노트북</th>\n",
       "    </tr>\n",
       "  </thead>\n",
       "  <tbody>\n",
       "    <tr>\n",
       "      <th>서울지점</th>\n",
       "      <td>569</td>\n",
       "    </tr>\n",
       "    <tr>\n",
       "      <th>부산지점</th>\n",
       "      <td>427</td>\n",
       "    </tr>\n",
       "    <tr>\n",
       "      <th>제주지점</th>\n",
       "      <td>335</td>\n",
       "    </tr>\n",
       "  </tbody>\n",
       "</table>\n",
       "</div>"
      ],
      "text/plain": [
       "      노트북\n",
       "서울지점  569\n",
       "부산지점  427\n",
       "제주지점  335"
      ]
     },
     "execution_count": 10,
     "metadata": {},
     "output_type": "execute_result"
    }
   ],
   "source": [
    "df[['노트북']]"
   ]
  },
  {
   "cell_type": "code",
   "execution_count": 15,
   "id": "b28b8fdc",
   "metadata": {},
   "outputs": [
    {
     "data": {
      "text/html": [
       "<div>\n",
       "<style scoped>\n",
       "    .dataframe tbody tr th:only-of-type {\n",
       "        vertical-align: middle;\n",
       "    }\n",
       "\n",
       "    .dataframe tbody tr th {\n",
       "        vertical-align: top;\n",
       "    }\n",
       "\n",
       "    .dataframe thead th {\n",
       "        text-align: right;\n",
       "    }\n",
       "</style>\n",
       "<table border=\"1\" class=\"dataframe\">\n",
       "  <thead>\n",
       "    <tr style=\"text-align: right;\">\n",
       "      <th></th>\n",
       "      <th>지점명</th>\n",
       "      <th>컴퓨터</th>\n",
       "      <th>모니터</th>\n",
       "      <th>노트북</th>\n",
       "      <th>스마트폰</th>\n",
       "    </tr>\n",
       "  </thead>\n",
       "  <tbody>\n",
       "    <tr>\n",
       "      <th>0</th>\n",
       "      <td>서울지점</td>\n",
       "      <td>869</td>\n",
       "      <td>374</td>\n",
       "      <td>569</td>\n",
       "      <td>197</td>\n",
       "    </tr>\n",
       "    <tr>\n",
       "      <th>1</th>\n",
       "      <td>부산지점</td>\n",
       "      <td>578</td>\n",
       "      <td>286</td>\n",
       "      <td>427</td>\n",
       "      <td>89</td>\n",
       "    </tr>\n",
       "    <tr>\n",
       "      <th>2</th>\n",
       "      <td>제주지점</td>\n",
       "      <td>321</td>\n",
       "      <td>148</td>\n",
       "      <td>335</td>\n",
       "      <td>66</td>\n",
       "    </tr>\n",
       "  </tbody>\n",
       "</table>\n",
       "</div>"
      ],
      "text/plain": [
       "    지점명  컴퓨터  모니터  노트북  스마트폰\n",
       "0  서울지점  869  374  569   197\n",
       "1  부산지점  578  286  427    89\n",
       "2  제주지점  321  148  335    66"
      ]
     },
     "execution_count": 15,
     "metadata": {},
     "output_type": "execute_result"
    }
   ],
   "source": [
    "arr = (['서울지점', 869, 374, 569, 197],\n",
    "      ['부산지점', 578, 286, 427, 89],\n",
    "      ['제주지점', 321, 148, 335, 66])\n",
    "\n",
    "df = pd.DataFrame(arr, \n",
    "                  columns=['지점명', '컴퓨터','모니터','노트북','스마트폰'])\n",
    "\n",
    "df"
   ]
  },
  {
   "cell_type": "code",
   "execution_count": 17,
   "id": "eb32f29f",
   "metadata": {},
   "outputs": [
    {
     "data": {
      "text/plain": [
       "869"
      ]
     },
     "execution_count": 17,
     "metadata": {},
     "output_type": "execute_result"
    }
   ],
   "source": [
    "df.컴퓨터[0]"
   ]
  },
  {
   "cell_type": "code",
   "execution_count": 18,
   "id": "f50d733a",
   "metadata": {},
   "outputs": [
    {
     "data": {
      "text/html": [
       "<div>\n",
       "<style scoped>\n",
       "    .dataframe tbody tr th:only-of-type {\n",
       "        vertical-align: middle;\n",
       "    }\n",
       "\n",
       "    .dataframe tbody tr th {\n",
       "        vertical-align: top;\n",
       "    }\n",
       "\n",
       "    .dataframe thead th {\n",
       "        text-align: right;\n",
       "    }\n",
       "</style>\n",
       "<table border=\"1\" class=\"dataframe\">\n",
       "  <thead>\n",
       "    <tr style=\"text-align: right;\">\n",
       "      <th></th>\n",
       "      <th>지점명</th>\n",
       "      <th>노트북</th>\n",
       "    </tr>\n",
       "  </thead>\n",
       "  <tbody>\n",
       "    <tr>\n",
       "      <th>0</th>\n",
       "      <td>서울지점</td>\n",
       "      <td>569</td>\n",
       "    </tr>\n",
       "    <tr>\n",
       "      <th>1</th>\n",
       "      <td>부산지점</td>\n",
       "      <td>427</td>\n",
       "    </tr>\n",
       "    <tr>\n",
       "      <th>2</th>\n",
       "      <td>제주지점</td>\n",
       "      <td>335</td>\n",
       "    </tr>\n",
       "  </tbody>\n",
       "</table>\n",
       "</div>"
      ],
      "text/plain": [
       "    지점명  노트북\n",
       "0  서울지점  569\n",
       "1  부산지점  427\n",
       "2  제주지점  335"
      ]
     },
     "execution_count": 18,
     "metadata": {},
     "output_type": "execute_result"
    }
   ],
   "source": [
    "df[['지점명', '노트북']]"
   ]
  },
  {
   "cell_type": "code",
   "execution_count": 19,
   "id": "38e104ea",
   "metadata": {},
   "outputs": [
    {
     "data": {
      "text/plain": [
       "0    서울지점\n",
       "1    부산지점\n",
       "2    제주지점\n",
       "Name: 지점명, dtype: object"
      ]
     },
     "execution_count": 19,
     "metadata": {},
     "output_type": "execute_result"
    }
   ],
   "source": [
    "df.지점명"
   ]
  },
  {
   "cell_type": "code",
   "execution_count": 20,
   "id": "6c480476",
   "metadata": {},
   "outputs": [],
   "source": [
    "df.set_index('지점명', inplace=True)"
   ]
  },
  {
   "cell_type": "code",
   "execution_count": 21,
   "id": "16412b9c",
   "metadata": {},
   "outputs": [
    {
     "data": {
      "text/html": [
       "<div>\n",
       "<style scoped>\n",
       "    .dataframe tbody tr th:only-of-type {\n",
       "        vertical-align: middle;\n",
       "    }\n",
       "\n",
       "    .dataframe tbody tr th {\n",
       "        vertical-align: top;\n",
       "    }\n",
       "\n",
       "    .dataframe thead th {\n",
       "        text-align: right;\n",
       "    }\n",
       "</style>\n",
       "<table border=\"1\" class=\"dataframe\">\n",
       "  <thead>\n",
       "    <tr style=\"text-align: right;\">\n",
       "      <th></th>\n",
       "      <th>컴퓨터</th>\n",
       "      <th>모니터</th>\n",
       "      <th>노트북</th>\n",
       "      <th>스마트폰</th>\n",
       "    </tr>\n",
       "    <tr>\n",
       "      <th>지점명</th>\n",
       "      <th></th>\n",
       "      <th></th>\n",
       "      <th></th>\n",
       "      <th></th>\n",
       "    </tr>\n",
       "  </thead>\n",
       "  <tbody>\n",
       "    <tr>\n",
       "      <th>서울지점</th>\n",
       "      <td>869</td>\n",
       "      <td>374</td>\n",
       "      <td>569</td>\n",
       "      <td>197</td>\n",
       "    </tr>\n",
       "    <tr>\n",
       "      <th>부산지점</th>\n",
       "      <td>578</td>\n",
       "      <td>286</td>\n",
       "      <td>427</td>\n",
       "      <td>89</td>\n",
       "    </tr>\n",
       "    <tr>\n",
       "      <th>제주지점</th>\n",
       "      <td>321</td>\n",
       "      <td>148</td>\n",
       "      <td>335</td>\n",
       "      <td>66</td>\n",
       "    </tr>\n",
       "  </tbody>\n",
       "</table>\n",
       "</div>"
      ],
      "text/plain": [
       "      컴퓨터  모니터  노트북  스마트폰\n",
       "지점명                      \n",
       "서울지점  869  374  569   197\n",
       "부산지점  578  286  427    89\n",
       "제주지점  321  148  335    66"
      ]
     },
     "execution_count": 21,
     "metadata": {},
     "output_type": "execute_result"
    }
   ],
   "source": [
    "df"
   ]
  },
  {
   "cell_type": "code",
   "execution_count": 22,
   "id": "24025cfd",
   "metadata": {},
   "outputs": [],
   "source": [
    "df['스마트폰'] = 0"
   ]
  },
  {
   "cell_type": "code",
   "execution_count": 23,
   "id": "ba0f7b83",
   "metadata": {},
   "outputs": [
    {
     "data": {
      "text/html": [
       "<div>\n",
       "<style scoped>\n",
       "    .dataframe tbody tr th:only-of-type {\n",
       "        vertical-align: middle;\n",
       "    }\n",
       "\n",
       "    .dataframe tbody tr th {\n",
       "        vertical-align: top;\n",
       "    }\n",
       "\n",
       "    .dataframe thead th {\n",
       "        text-align: right;\n",
       "    }\n",
       "</style>\n",
       "<table border=\"1\" class=\"dataframe\">\n",
       "  <thead>\n",
       "    <tr style=\"text-align: right;\">\n",
       "      <th></th>\n",
       "      <th>컴퓨터</th>\n",
       "      <th>모니터</th>\n",
       "      <th>노트북</th>\n",
       "      <th>스마트폰</th>\n",
       "    </tr>\n",
       "    <tr>\n",
       "      <th>지점명</th>\n",
       "      <th></th>\n",
       "      <th></th>\n",
       "      <th></th>\n",
       "      <th></th>\n",
       "    </tr>\n",
       "  </thead>\n",
       "  <tbody>\n",
       "    <tr>\n",
       "      <th>서울지점</th>\n",
       "      <td>869</td>\n",
       "      <td>374</td>\n",
       "      <td>569</td>\n",
       "      <td>0</td>\n",
       "    </tr>\n",
       "    <tr>\n",
       "      <th>부산지점</th>\n",
       "      <td>578</td>\n",
       "      <td>286</td>\n",
       "      <td>427</td>\n",
       "      <td>0</td>\n",
       "    </tr>\n",
       "    <tr>\n",
       "      <th>제주지점</th>\n",
       "      <td>321</td>\n",
       "      <td>148</td>\n",
       "      <td>335</td>\n",
       "      <td>0</td>\n",
       "    </tr>\n",
       "  </tbody>\n",
       "</table>\n",
       "</div>"
      ],
      "text/plain": [
       "      컴퓨터  모니터  노트북  스마트폰\n",
       "지점명                      \n",
       "서울지점  869  374  569     0\n",
       "부산지점  578  286  427     0\n",
       "제주지점  321  148  335     0"
      ]
     },
     "execution_count": 23,
     "metadata": {},
     "output_type": "execute_result"
    }
   ],
   "source": [
    "df"
   ]
  },
  {
   "cell_type": "code",
   "execution_count": 26,
   "id": "c5b9f11d",
   "metadata": {},
   "outputs": [],
   "source": [
    "df.loc['서울지점', '스마트폰'] = 197"
   ]
  },
  {
   "cell_type": "code",
   "execution_count": 27,
   "id": "2ec70db2",
   "metadata": {},
   "outputs": [
    {
     "data": {
      "text/plain": [
       "197"
      ]
     },
     "execution_count": 27,
     "metadata": {},
     "output_type": "execute_result"
    }
   ],
   "source": [
    "df.loc['서울지점', '스마트폰']"
   ]
  },
  {
   "cell_type": "code",
   "execution_count": 43,
   "id": "90c21449",
   "metadata": {},
   "outputs": [],
   "source": [
    "df.iloc[2, 3] = 66"
   ]
  },
  {
   "cell_type": "code",
   "execution_count": 44,
   "id": "b35a2673",
   "metadata": {},
   "outputs": [
    {
     "data": {
      "text/html": [
       "<div>\n",
       "<style scoped>\n",
       "    .dataframe tbody tr th:only-of-type {\n",
       "        vertical-align: middle;\n",
       "    }\n",
       "\n",
       "    .dataframe tbody tr th {\n",
       "        vertical-align: top;\n",
       "    }\n",
       "\n",
       "    .dataframe thead th {\n",
       "        text-align: right;\n",
       "    }\n",
       "</style>\n",
       "<table border=\"1\" class=\"dataframe\">\n",
       "  <thead>\n",
       "    <tr style=\"text-align: right;\">\n",
       "      <th></th>\n",
       "      <th>컴퓨터</th>\n",
       "      <th>모니터</th>\n",
       "      <th>노트북</th>\n",
       "      <th>스마트폰</th>\n",
       "    </tr>\n",
       "    <tr>\n",
       "      <th>지점명</th>\n",
       "      <th></th>\n",
       "      <th></th>\n",
       "      <th></th>\n",
       "      <th></th>\n",
       "    </tr>\n",
       "  </thead>\n",
       "  <tbody>\n",
       "    <tr>\n",
       "      <th>서울지점</th>\n",
       "      <td>869</td>\n",
       "      <td>374</td>\n",
       "      <td>569</td>\n",
       "      <td>197</td>\n",
       "    </tr>\n",
       "    <tr>\n",
       "      <th>부산지점</th>\n",
       "      <td>578</td>\n",
       "      <td>286</td>\n",
       "      <td>427</td>\n",
       "      <td>0</td>\n",
       "    </tr>\n",
       "    <tr>\n",
       "      <th>제주지점</th>\n",
       "      <td>321</td>\n",
       "      <td>148</td>\n",
       "      <td>335</td>\n",
       "      <td>66</td>\n",
       "    </tr>\n",
       "  </tbody>\n",
       "</table>\n",
       "</div>"
      ],
      "text/plain": [
       "      컴퓨터  모니터  노트북  스마트폰\n",
       "지점명                      \n",
       "서울지점  869  374  569   197\n",
       "부산지점  578  286  427     0\n",
       "제주지점  321  148  335    66"
      ]
     },
     "execution_count": 44,
     "metadata": {},
     "output_type": "execute_result"
    }
   ],
   "source": [
    "df"
   ]
  },
  {
   "cell_type": "code",
   "execution_count": null,
   "id": "6df744e5",
   "metadata": {},
   "outputs": [],
   "source": []
  }
 ],
 "metadata": {
  "kernelspec": {
   "display_name": "Python 3",
   "language": "python",
   "name": "python3"
  },
  "language_info": {
   "codemirror_mode": {
    "name": "ipython",
    "version": 3
   },
   "file_extension": ".py",
   "mimetype": "text/x-python",
   "name": "python",
   "nbconvert_exporter": "python",
   "pygments_lexer": "ipython3",
   "version": "3.8.10"
  },
  "toc": {
   "base_numbering": 1,
   "nav_menu": {},
   "number_sections": true,
   "sideBar": true,
   "skip_h1_title": false,
   "title_cell": "Table of Contents",
   "title_sidebar": "Contents",
   "toc_cell": false,
   "toc_position": {},
   "toc_section_display": true,
   "toc_window_display": false
  }
 },
 "nbformat": 4,
 "nbformat_minor": 5
}
