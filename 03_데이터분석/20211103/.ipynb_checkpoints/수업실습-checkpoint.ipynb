{
 "cells": [
  {
   "cell_type": "code",
   "execution_count": 1,
   "id": "1d728a05",
   "metadata": {},
   "outputs": [],
   "source": [
    "import pandas as pd\n",
    "import numpy as np"
   ]
  },
  {
   "cell_type": "code",
   "execution_count": 39,
   "id": "aa365933",
   "metadata": {},
   "outputs": [
    {
     "data": {
      "text/html": [
       "<div>\n",
       "<style scoped>\n",
       "    .dataframe tbody tr th:only-of-type {\n",
       "        vertical-align: middle;\n",
       "    }\n",
       "\n",
       "    .dataframe tbody tr th {\n",
       "        vertical-align: top;\n",
       "    }\n",
       "\n",
       "    .dataframe thead th {\n",
       "        text-align: right;\n",
       "    }\n",
       "</style>\n",
       "<table border=\"1\" class=\"dataframe\">\n",
       "  <thead>\n",
       "    <tr style=\"text-align: right;\">\n",
       "      <th></th>\n",
       "      <th>나이</th>\n",
       "      <th>성별</th>\n",
       "      <th>키</th>\n",
       "      <th>체중</th>\n",
       "    </tr>\n",
       "  </thead>\n",
       "  <tbody>\n",
       "    <tr>\n",
       "      <th>0</th>\n",
       "      <td>25</td>\n",
       "      <td>남</td>\n",
       "      <td>185</td>\n",
       "      <td>89</td>\n",
       "    </tr>\n",
       "    <tr>\n",
       "      <th>1</th>\n",
       "      <td>19</td>\n",
       "      <td>여</td>\n",
       "      <td>163</td>\n",
       "      <td>53</td>\n",
       "    </tr>\n",
       "    <tr>\n",
       "      <th>2</th>\n",
       "      <td>27</td>\n",
       "      <td>남</td>\n",
       "      <td>177</td>\n",
       "      <td>63</td>\n",
       "    </tr>\n",
       "  </tbody>\n",
       "</table>\n",
       "</div>"
      ],
      "text/plain": [
       "   나이 성별    키  체중\n",
       "0  25  남  185  89\n",
       "1  19  여  163  53\n",
       "2  27  남  177  63"
      ]
     },
     "execution_count": 39,
     "metadata": {},
     "output_type": "execute_result"
    }
   ],
   "source": [
    "arr = ([25, '남', 185, 89],\n",
    "      [19, '여', 163, 53],\n",
    "      [27, '남', 177, 63],)\n",
    "index = (['이겨레', '조약돌', '강산애'])\n",
    "\n",
    "df = pd.DataFrame(arr, index = index, columns = ['나이','성별', '키', '체중'])\n",
    "\n",
    "df"
   ]
  },
  {
   "cell_type": "code",
   "execution_count": 40,
   "id": "69a44b6f",
   "metadata": {},
   "outputs": [
    {
     "data": {
      "text/html": [
       "<div>\n",
       "<style scoped>\n",
       "    .dataframe tbody tr th:only-of-type {\n",
       "        vertical-align: middle;\n",
       "    }\n",
       "\n",
       "    .dataframe tbody tr th {\n",
       "        vertical-align: top;\n",
       "    }\n",
       "\n",
       "    .dataframe thead th {\n",
       "        text-align: right;\n",
       "    }\n",
       "</style>\n",
       "<table border=\"1\" class=\"dataframe\">\n",
       "  <thead>\n",
       "    <tr style=\"text-align: right;\">\n",
       "      <th></th>\n",
       "      <th>성명</th>\n",
       "      <th>나이</th>\n",
       "      <th>성별</th>\n",
       "      <th>키</th>\n",
       "      <th>체중</th>\n",
       "    </tr>\n",
       "  </thead>\n",
       "  <tbody>\n",
       "    <tr>\n",
       "      <th>이겨레</th>\n",
       "      <td>이겨레</td>\n",
       "      <td>25</td>\n",
       "      <td>남</td>\n",
       "      <td>185</td>\n",
       "      <td>89</td>\n",
       "    </tr>\n",
       "    <tr>\n",
       "      <th>조약돌</th>\n",
       "      <td>조약돌</td>\n",
       "      <td>19</td>\n",
       "      <td>여</td>\n",
       "      <td>163</td>\n",
       "      <td>53</td>\n",
       "    </tr>\n",
       "    <tr>\n",
       "      <th>강산애</th>\n",
       "      <td>강산애</td>\n",
       "      <td>27</td>\n",
       "      <td>남</td>\n",
       "      <td>177</td>\n",
       "      <td>63</td>\n",
       "    </tr>\n",
       "  </tbody>\n",
       "</table>\n",
       "</div>"
      ],
      "text/plain": [
       "      성명  나이 성별    키  체중\n",
       "이겨레  이겨레  25  남  185  89\n",
       "조약돌  조약돌  19  여  163  53\n",
       "강산애  강산애  27  남  177  63"
      ]
     },
     "execution_count": 40,
     "metadata": {},
     "output_type": "execute_result"
    }
   ],
   "source": [
    "arr = (['이겨레', 25, '남', 185, 89],\n",
    "      ['조약돌', 19, '여', 163, 53],\n",
    "      ['강산애', 27, '남', 177, 63],)\n",
    "\n",
    "df = pd.DataFrame(arr, index = index, columns = ['성명', '나이','성별', '키', '체중'])\n",
    "\n",
    "df"
   ]
  },
  {
   "cell_type": "markdown",
   "id": "620080cc",
   "metadata": {},
   "source": [
    "### 행과 열 위치 변경"
   ]
  },
  {
   "cell_type": "code",
   "execution_count": 6,
   "id": "33e95efd",
   "metadata": {},
   "outputs": [
    {
     "data": {
      "text/html": [
       "<div>\n",
       "<style scoped>\n",
       "    .dataframe tbody tr th:only-of-type {\n",
       "        vertical-align: middle;\n",
       "    }\n",
       "\n",
       "    .dataframe tbody tr th {\n",
       "        vertical-align: top;\n",
       "    }\n",
       "\n",
       "    .dataframe thead th {\n",
       "        text-align: right;\n",
       "    }\n",
       "</style>\n",
       "<table border=\"1\" class=\"dataframe\">\n",
       "  <thead>\n",
       "    <tr style=\"text-align: right;\">\n",
       "      <th></th>\n",
       "      <th>이겨레</th>\n",
       "      <th>조약돌</th>\n",
       "      <th>강산애</th>\n",
       "    </tr>\n",
       "  </thead>\n",
       "  <tbody>\n",
       "    <tr>\n",
       "      <th>나이</th>\n",
       "      <td>25</td>\n",
       "      <td>19</td>\n",
       "      <td>27</td>\n",
       "    </tr>\n",
       "    <tr>\n",
       "      <th>성별</th>\n",
       "      <td>남</td>\n",
       "      <td>여</td>\n",
       "      <td>남</td>\n",
       "    </tr>\n",
       "    <tr>\n",
       "      <th>키</th>\n",
       "      <td>185</td>\n",
       "      <td>163</td>\n",
       "      <td>177</td>\n",
       "    </tr>\n",
       "    <tr>\n",
       "      <th>체중</th>\n",
       "      <td>89</td>\n",
       "      <td>53</td>\n",
       "      <td>63</td>\n",
       "    </tr>\n",
       "  </tbody>\n",
       "</table>\n",
       "</div>"
      ],
      "text/plain": [
       "    이겨레  조약돌  강산애\n",
       "나이   25   19   27\n",
       "성별    남    여    남\n",
       "키   185  163  177\n",
       "체중   89   53   63"
      ]
     },
     "execution_count": 6,
     "metadata": {},
     "output_type": "execute_result"
    }
   ],
   "source": [
    "df.T"
   ]
  },
  {
   "cell_type": "markdown",
   "id": "eaaa0ac3",
   "metadata": {},
   "source": [
    "### 행 삭제"
   ]
  },
  {
   "cell_type": "code",
   "execution_count": 7,
   "id": "0d341f62",
   "metadata": {},
   "outputs": [],
   "source": [
    "df01 = df.copy()"
   ]
  },
  {
   "cell_type": "code",
   "execution_count": 10,
   "id": "a408f865",
   "metadata": {},
   "outputs": [],
   "source": [
    "df01.drop(['이겨레', '조약돌'], inplace = True)"
   ]
  },
  {
   "cell_type": "code",
   "execution_count": 11,
   "id": "a28d3926",
   "metadata": {},
   "outputs": [
    {
     "data": {
      "text/html": [
       "<div>\n",
       "<style scoped>\n",
       "    .dataframe tbody tr th:only-of-type {\n",
       "        vertical-align: middle;\n",
       "    }\n",
       "\n",
       "    .dataframe tbody tr th {\n",
       "        vertical-align: top;\n",
       "    }\n",
       "\n",
       "    .dataframe thead th {\n",
       "        text-align: right;\n",
       "    }\n",
       "</style>\n",
       "<table border=\"1\" class=\"dataframe\">\n",
       "  <thead>\n",
       "    <tr style=\"text-align: right;\">\n",
       "      <th></th>\n",
       "      <th>나이</th>\n",
       "      <th>성별</th>\n",
       "      <th>키</th>\n",
       "      <th>체중</th>\n",
       "    </tr>\n",
       "  </thead>\n",
       "  <tbody>\n",
       "    <tr>\n",
       "      <th>강산애</th>\n",
       "      <td>27</td>\n",
       "      <td>남</td>\n",
       "      <td>177</td>\n",
       "      <td>63</td>\n",
       "    </tr>\n",
       "  </tbody>\n",
       "</table>\n",
       "</div>"
      ],
      "text/plain": [
       "     나이 성별    키  체중\n",
       "강산애  27  남  177  63"
      ]
     },
     "execution_count": 11,
     "metadata": {},
     "output_type": "execute_result"
    }
   ],
   "source": [
    "df01"
   ]
  },
  {
   "cell_type": "markdown",
   "id": "9054ba7b",
   "metadata": {},
   "source": [
    "### 열 삭제"
   ]
  },
  {
   "cell_type": "code",
   "execution_count": 13,
   "id": "f740e65f",
   "metadata": {},
   "outputs": [
    {
     "data": {
      "text/html": [
       "<div>\n",
       "<style scoped>\n",
       "    .dataframe tbody tr th:only-of-type {\n",
       "        vertical-align: middle;\n",
       "    }\n",
       "\n",
       "    .dataframe tbody tr th {\n",
       "        vertical-align: top;\n",
       "    }\n",
       "\n",
       "    .dataframe thead th {\n",
       "        text-align: right;\n",
       "    }\n",
       "</style>\n",
       "<table border=\"1\" class=\"dataframe\">\n",
       "  <thead>\n",
       "    <tr style=\"text-align: right;\">\n",
       "      <th></th>\n",
       "      <th>키</th>\n",
       "      <th>체중</th>\n",
       "    </tr>\n",
       "  </thead>\n",
       "  <tbody>\n",
       "    <tr>\n",
       "      <th>이겨레</th>\n",
       "      <td>185</td>\n",
       "      <td>89</td>\n",
       "    </tr>\n",
       "    <tr>\n",
       "      <th>조약돌</th>\n",
       "      <td>163</td>\n",
       "      <td>53</td>\n",
       "    </tr>\n",
       "    <tr>\n",
       "      <th>강산애</th>\n",
       "      <td>177</td>\n",
       "      <td>63</td>\n",
       "    </tr>\n",
       "  </tbody>\n",
       "</table>\n",
       "</div>"
      ],
      "text/plain": [
       "       키  체중\n",
       "이겨레  185  89\n",
       "조약돌  163  53\n",
       "강산애  177  63"
      ]
     },
     "execution_count": 13,
     "metadata": {},
     "output_type": "execute_result"
    }
   ],
   "source": [
    "df02 = df.copy()\n",
    "df02. drop(['나이', '성별'], axis= 1, inplace=True)\n",
    "\n",
    "df02"
   ]
  },
  {
   "cell_type": "markdown",
   "id": "93f59f28",
   "metadata": {},
   "source": [
    "### excel, csv, json 로 저장하기"
   ]
  },
  {
   "cell_type": "code",
   "execution_count": 14,
   "id": "8159d846",
   "metadata": {},
   "outputs": [],
   "source": [
    "df.to_excel('df.patient.xlsx')"
   ]
  },
  {
   "cell_type": "code",
   "execution_count": 16,
   "id": "f3dad6bb",
   "metadata": {},
   "outputs": [],
   "source": [
    "df.to_csv('df.patient.csv', encoding='cp949')"
   ]
  },
  {
   "cell_type": "code",
   "execution_count": 20,
   "id": "b37e17a9",
   "metadata": {},
   "outputs": [],
   "source": [
    "df.to_json('df.patient.json')"
   ]
  },
  {
   "cell_type": "code",
   "execution_count": 24,
   "id": "b2316fbf",
   "metadata": {},
   "outputs": [],
   "source": [
    "exWriter = pd.ExcelWriter('excelWriter.xlsx')\n",
    "df01.to_excel(exWriter, sheet_name=\"01\")\n",
    "df02.to_excel(exWriter, sheet_name=\"02\")"
   ]
  },
  {
   "cell_type": "code",
   "execution_count": 25,
   "id": "379738ad",
   "metadata": {},
   "outputs": [],
   "source": [
    "bio_data = {'성명' : ['이겨레','조약돌'],\n",
    "           '나이' : [25, 19], '성별' : ['남', '여'],\n",
    "           '키' : [185, 163], '체중' : [89, 53]}\n",
    "\n",
    "pulse_data = {'환자코드' : ['A00301', 'D00809'],\n",
    "             '수축기' : [123, 118], '이완기' : [88, 79]}"
   ]
  },
  {
   "cell_type": "code",
   "execution_count": 26,
   "id": "5213d276",
   "metadata": {},
   "outputs": [
    {
     "data": {
      "text/html": [
       "<div>\n",
       "<style scoped>\n",
       "    .dataframe tbody tr th:only-of-type {\n",
       "        vertical-align: middle;\n",
       "    }\n",
       "\n",
       "    .dataframe tbody tr th {\n",
       "        vertical-align: top;\n",
       "    }\n",
       "\n",
       "    .dataframe thead th {\n",
       "        text-align: right;\n",
       "    }\n",
       "</style>\n",
       "<table border=\"1\" class=\"dataframe\">\n",
       "  <thead>\n",
       "    <tr style=\"text-align: right;\">\n",
       "      <th></th>\n",
       "      <th>나이</th>\n",
       "      <th>성별</th>\n",
       "      <th>키</th>\n",
       "      <th>체중</th>\n",
       "    </tr>\n",
       "    <tr>\n",
       "      <th>성명</th>\n",
       "      <th></th>\n",
       "      <th></th>\n",
       "      <th></th>\n",
       "      <th></th>\n",
       "    </tr>\n",
       "  </thead>\n",
       "  <tbody>\n",
       "    <tr>\n",
       "      <th>이겨레</th>\n",
       "      <td>25</td>\n",
       "      <td>남</td>\n",
       "      <td>185</td>\n",
       "      <td>89</td>\n",
       "    </tr>\n",
       "    <tr>\n",
       "      <th>조약돌</th>\n",
       "      <td>19</td>\n",
       "      <td>여</td>\n",
       "      <td>163</td>\n",
       "      <td>53</td>\n",
       "    </tr>\n",
       "  </tbody>\n",
       "</table>\n",
       "</div>"
      ],
      "text/plain": [
       "     나이 성별    키  체중\n",
       "성명                 \n",
       "이겨레  25  남  185  89\n",
       "조약돌  19  여  163  53"
      ]
     },
     "metadata": {},
     "output_type": "display_data"
    },
    {
     "data": {
      "text/html": [
       "<div>\n",
       "<style scoped>\n",
       "    .dataframe tbody tr th:only-of-type {\n",
       "        vertical-align: middle;\n",
       "    }\n",
       "\n",
       "    .dataframe tbody tr th {\n",
       "        vertical-align: top;\n",
       "    }\n",
       "\n",
       "    .dataframe thead th {\n",
       "        text-align: right;\n",
       "    }\n",
       "</style>\n",
       "<table border=\"1\" class=\"dataframe\">\n",
       "  <thead>\n",
       "    <tr style=\"text-align: right;\">\n",
       "      <th></th>\n",
       "      <th>수축기</th>\n",
       "      <th>이완기</th>\n",
       "    </tr>\n",
       "    <tr>\n",
       "      <th>환자코드</th>\n",
       "      <th></th>\n",
       "      <th></th>\n",
       "    </tr>\n",
       "  </thead>\n",
       "  <tbody>\n",
       "    <tr>\n",
       "      <th>A00301</th>\n",
       "      <td>123</td>\n",
       "      <td>88</td>\n",
       "    </tr>\n",
       "    <tr>\n",
       "      <th>D00809</th>\n",
       "      <td>118</td>\n",
       "      <td>79</td>\n",
       "    </tr>\n",
       "  </tbody>\n",
       "</table>\n",
       "</div>"
      ],
      "text/plain": [
       "        수축기  이완기\n",
       "환자코드            \n",
       "A00301  123   88\n",
       "D00809  118   79"
      ]
     },
     "metadata": {},
     "output_type": "display_data"
    }
   ],
   "source": [
    "df_01 = pd.DataFrame(bio_data)\n",
    "df_01.set_index('성명', inplace=True)\n",
    "\n",
    "df_02 = pd.DataFrame(pulse_data)\n",
    "df_02.set_index('환자코드', inplace=True)\n",
    "\n",
    "d_save = pd.ExcelWriter('df_blood.xlsx')\n",
    "df_01.to_excel(d_save, sheet_name='생체 데이터')\n",
    "df_02.to_excel(d_save, sheet_name='혈압 데이터')\n",
    "d_save.save()\n",
    "\n",
    "display(df_01)\n",
    "display(df_02)"
   ]
  },
  {
   "cell_type": "markdown",
   "id": "7a266906",
   "metadata": {},
   "source": [
    "### 파일 읽어오기"
   ]
  },
  {
   "cell_type": "code",
   "execution_count": 27,
   "id": "a489bc8e",
   "metadata": {},
   "outputs": [],
   "source": [
    "data = './file/health_data.xlsx'\n",
    "\n",
    "df_01 = pd.read_excel(data)\n",
    "df_02 = pd.read_excel(data, header=None)"
   ]
  },
  {
   "cell_type": "code",
   "execution_count": 28,
   "id": "af8e9482",
   "metadata": {},
   "outputs": [
    {
     "data": {
      "text/html": [
       "<div>\n",
       "<style scoped>\n",
       "    .dataframe tbody tr th:only-of-type {\n",
       "        vertical-align: middle;\n",
       "    }\n",
       "\n",
       "    .dataframe tbody tr th {\n",
       "        vertical-align: top;\n",
       "    }\n",
       "\n",
       "    .dataframe thead th {\n",
       "        text-align: right;\n",
       "    }\n",
       "</style>\n",
       "<table border=\"1\" class=\"dataframe\">\n",
       "  <thead>\n",
       "    <tr style=\"text-align: right;\">\n",
       "      <th></th>\n",
       "      <th>코드번호</th>\n",
       "      <th>성별</th>\n",
       "      <th>키</th>\n",
       "      <th>체중</th>\n",
       "      <th>BMI</th>\n",
       "      <th>수축기</th>\n",
       "      <th>이완기</th>\n",
       "    </tr>\n",
       "  </thead>\n",
       "  <tbody>\n",
       "    <tr>\n",
       "      <th>0</th>\n",
       "      <td>33001</td>\n",
       "      <td>남</td>\n",
       "      <td>175</td>\n",
       "      <td>65</td>\n",
       "      <td>21.22</td>\n",
       "      <td>143</td>\n",
       "      <td>110</td>\n",
       "    </tr>\n",
       "    <tr>\n",
       "      <th>1</th>\n",
       "      <td>34037</td>\n",
       "      <td>여</td>\n",
       "      <td>165</td>\n",
       "      <td>52</td>\n",
       "      <td>19.10</td>\n",
       "      <td>119</td>\n",
       "      <td>78</td>\n",
       "    </tr>\n",
       "    <tr>\n",
       "      <th>2</th>\n",
       "      <td>35123</td>\n",
       "      <td>여</td>\n",
       "      <td>159</td>\n",
       "      <td>67</td>\n",
       "      <td>26.50</td>\n",
       "      <td>130</td>\n",
       "      <td>83</td>\n",
       "    </tr>\n",
       "  </tbody>\n",
       "</table>\n",
       "</div>"
      ],
      "text/plain": [
       "    코드번호 성별    키  체중    BMI  수축기  이완기\n",
       "0  33001  남  175  65  21.22  143  110\n",
       "1  34037  여  165  52  19.10  119   78\n",
       "2  35123  여  159  67  26.50  130   83"
      ]
     },
     "execution_count": 28,
     "metadata": {},
     "output_type": "execute_result"
    }
   ],
   "source": [
    "df_01"
   ]
  },
  {
   "cell_type": "code",
   "execution_count": 29,
   "id": "d2a0b200",
   "metadata": {},
   "outputs": [
    {
     "data": {
      "text/html": [
       "<div>\n",
       "<style scoped>\n",
       "    .dataframe tbody tr th:only-of-type {\n",
       "        vertical-align: middle;\n",
       "    }\n",
       "\n",
       "    .dataframe tbody tr th {\n",
       "        vertical-align: top;\n",
       "    }\n",
       "\n",
       "    .dataframe thead th {\n",
       "        text-align: right;\n",
       "    }\n",
       "</style>\n",
       "<table border=\"1\" class=\"dataframe\">\n",
       "  <thead>\n",
       "    <tr style=\"text-align: right;\">\n",
       "      <th></th>\n",
       "      <th>0</th>\n",
       "      <th>1</th>\n",
       "      <th>2</th>\n",
       "      <th>3</th>\n",
       "      <th>4</th>\n",
       "      <th>5</th>\n",
       "      <th>6</th>\n",
       "    </tr>\n",
       "  </thead>\n",
       "  <tbody>\n",
       "    <tr>\n",
       "      <th>0</th>\n",
       "      <td>코드번호</td>\n",
       "      <td>성별</td>\n",
       "      <td>키</td>\n",
       "      <td>체중</td>\n",
       "      <td>BMI</td>\n",
       "      <td>수축기</td>\n",
       "      <td>이완기</td>\n",
       "    </tr>\n",
       "    <tr>\n",
       "      <th>1</th>\n",
       "      <td>33001</td>\n",
       "      <td>남</td>\n",
       "      <td>175</td>\n",
       "      <td>65</td>\n",
       "      <td>21.22</td>\n",
       "      <td>143</td>\n",
       "      <td>110</td>\n",
       "    </tr>\n",
       "    <tr>\n",
       "      <th>2</th>\n",
       "      <td>34037</td>\n",
       "      <td>여</td>\n",
       "      <td>165</td>\n",
       "      <td>52</td>\n",
       "      <td>19.1</td>\n",
       "      <td>119</td>\n",
       "      <td>78</td>\n",
       "    </tr>\n",
       "    <tr>\n",
       "      <th>3</th>\n",
       "      <td>35123</td>\n",
       "      <td>여</td>\n",
       "      <td>159</td>\n",
       "      <td>67</td>\n",
       "      <td>26.5</td>\n",
       "      <td>130</td>\n",
       "      <td>83</td>\n",
       "    </tr>\n",
       "  </tbody>\n",
       "</table>\n",
       "</div>"
      ],
      "text/plain": [
       "       0   1    2   3      4    5    6\n",
       "0   코드번호  성별    키  체중    BMI  수축기  이완기\n",
       "1  33001   남  175  65  21.22  143  110\n",
       "2  34037   여  165  52   19.1  119   78\n",
       "3  35123   여  159  67   26.5  130   83"
      ]
     },
     "execution_count": 29,
     "metadata": {},
     "output_type": "execute_result"
    }
   ],
   "source": [
    "df_02"
   ]
  },
  {
   "cell_type": "code",
   "execution_count": 31,
   "id": "5247bdb3",
   "metadata": {},
   "outputs": [],
   "source": [
    "data = './file/health_data_01.csv'\n",
    "df_03 = pd.read_csv(data, encoding='cp949')"
   ]
  },
  {
   "cell_type": "code",
   "execution_count": 32,
   "id": "89f05be5",
   "metadata": {},
   "outputs": [
    {
     "data": {
      "text/html": [
       "<div>\n",
       "<style scoped>\n",
       "    .dataframe tbody tr th:only-of-type {\n",
       "        vertical-align: middle;\n",
       "    }\n",
       "\n",
       "    .dataframe tbody tr th {\n",
       "        vertical-align: top;\n",
       "    }\n",
       "\n",
       "    .dataframe thead th {\n",
       "        text-align: right;\n",
       "    }\n",
       "</style>\n",
       "<table border=\"1\" class=\"dataframe\">\n",
       "  <thead>\n",
       "    <tr style=\"text-align: right;\">\n",
       "      <th></th>\n",
       "      <th>코드번호</th>\n",
       "      <th>성별</th>\n",
       "      <th>키</th>\n",
       "      <th>체중</th>\n",
       "      <th>BMI</th>\n",
       "      <th>수축기</th>\n",
       "      <th>이완기</th>\n",
       "    </tr>\n",
       "  </thead>\n",
       "  <tbody>\n",
       "    <tr>\n",
       "      <th>0</th>\n",
       "      <td>33001</td>\n",
       "      <td>남</td>\n",
       "      <td>175</td>\n",
       "      <td>65</td>\n",
       "      <td>21.22</td>\n",
       "      <td>143</td>\n",
       "      <td>110</td>\n",
       "    </tr>\n",
       "    <tr>\n",
       "      <th>1</th>\n",
       "      <td>34037</td>\n",
       "      <td>여</td>\n",
       "      <td>165</td>\n",
       "      <td>52</td>\n",
       "      <td>19.10</td>\n",
       "      <td>119</td>\n",
       "      <td>78</td>\n",
       "    </tr>\n",
       "    <tr>\n",
       "      <th>2</th>\n",
       "      <td>35123</td>\n",
       "      <td>여</td>\n",
       "      <td>159</td>\n",
       "      <td>67</td>\n",
       "      <td>26.50</td>\n",
       "      <td>130</td>\n",
       "      <td>83</td>\n",
       "    </tr>\n",
       "  </tbody>\n",
       "</table>\n",
       "</div>"
      ],
      "text/plain": [
       "    코드번호 성별    키  체중    BMI  수축기  이완기\n",
       "0  33001  남  175  65  21.22  143  110\n",
       "1  34037  여  165  52  19.10  119   78\n",
       "2  35123  여  159  67  26.50  130   83"
      ]
     },
     "execution_count": 32,
     "metadata": {},
     "output_type": "execute_result"
    }
   ],
   "source": [
    "df_03"
   ]
  },
  {
   "cell_type": "code",
   "execution_count": 34,
   "id": "2418a65f",
   "metadata": {},
   "outputs": [],
   "source": [
    "data = './file/health_data_02.csv'\n",
    "df_04 = pd.read_csv(data, encoding='utf-8')"
   ]
  },
  {
   "cell_type": "code",
   "execution_count": 35,
   "id": "8e1c2b6c",
   "metadata": {},
   "outputs": [
    {
     "data": {
      "text/html": [
       "<div>\n",
       "<style scoped>\n",
       "    .dataframe tbody tr th:only-of-type {\n",
       "        vertical-align: middle;\n",
       "    }\n",
       "\n",
       "    .dataframe tbody tr th {\n",
       "        vertical-align: top;\n",
       "    }\n",
       "\n",
       "    .dataframe thead th {\n",
       "        text-align: right;\n",
       "    }\n",
       "</style>\n",
       "<table border=\"1\" class=\"dataframe\">\n",
       "  <thead>\n",
       "    <tr style=\"text-align: right;\">\n",
       "      <th></th>\n",
       "      <th>코드번호</th>\n",
       "      <th>성별</th>\n",
       "      <th>키</th>\n",
       "      <th>체중</th>\n",
       "      <th>BMI</th>\n",
       "      <th>수축기</th>\n",
       "      <th>이완기</th>\n",
       "    </tr>\n",
       "  </thead>\n",
       "  <tbody>\n",
       "    <tr>\n",
       "      <th>0</th>\n",
       "      <td>33001</td>\n",
       "      <td>남</td>\n",
       "      <td>175</td>\n",
       "      <td>65</td>\n",
       "      <td>21.22</td>\n",
       "      <td>143</td>\n",
       "      <td>110</td>\n",
       "    </tr>\n",
       "    <tr>\n",
       "      <th>1</th>\n",
       "      <td>34037</td>\n",
       "      <td>여</td>\n",
       "      <td>165</td>\n",
       "      <td>52</td>\n",
       "      <td>19.10</td>\n",
       "      <td>119</td>\n",
       "      <td>78</td>\n",
       "    </tr>\n",
       "    <tr>\n",
       "      <th>2</th>\n",
       "      <td>35123</td>\n",
       "      <td>여</td>\n",
       "      <td>159</td>\n",
       "      <td>67</td>\n",
       "      <td>26.50</td>\n",
       "      <td>130</td>\n",
       "      <td>83</td>\n",
       "    </tr>\n",
       "  </tbody>\n",
       "</table>\n",
       "</div>"
      ],
      "text/plain": [
       "    코드번호 성별    키  체중    BMI  수축기  이완기\n",
       "0  33001  남  175  65  21.22  143  110\n",
       "1  34037  여  165  52  19.10  119   78\n",
       "2  35123  여  159  67  26.50  130   83"
      ]
     },
     "execution_count": 35,
     "metadata": {},
     "output_type": "execute_result"
    }
   ],
   "source": [
    "df_04"
   ]
  },
  {
   "cell_type": "code",
   "execution_count": 36,
   "id": "ba923a42",
   "metadata": {},
   "outputs": [],
   "source": [
    "data_json = './file/df_patient.json'\n",
    "df_05 = pd.read_json(data_json, encoding='cp949')"
   ]
  },
  {
   "cell_type": "code",
   "execution_count": 37,
   "id": "61b12abd",
   "metadata": {},
   "outputs": [
    {
     "data": {
      "text/html": [
       "<div>\n",
       "<style scoped>\n",
       "    .dataframe tbody tr th:only-of-type {\n",
       "        vertical-align: middle;\n",
       "    }\n",
       "\n",
       "    .dataframe tbody tr th {\n",
       "        vertical-align: top;\n",
       "    }\n",
       "\n",
       "    .dataframe thead th {\n",
       "        text-align: right;\n",
       "    }\n",
       "</style>\n",
       "<table border=\"1\" class=\"dataframe\">\n",
       "  <thead>\n",
       "    <tr style=\"text-align: right;\">\n",
       "      <th></th>\n",
       "      <th>나이</th>\n",
       "      <th>성별</th>\n",
       "      <th>키</th>\n",
       "      <th>체중</th>\n",
       "    </tr>\n",
       "  </thead>\n",
       "  <tbody>\n",
       "    <tr>\n",
       "      <th>이겨레</th>\n",
       "      <td>25</td>\n",
       "      <td>남</td>\n",
       "      <td>185</td>\n",
       "      <td>89</td>\n",
       "    </tr>\n",
       "    <tr>\n",
       "      <th>조약돌</th>\n",
       "      <td>19</td>\n",
       "      <td>여</td>\n",
       "      <td>163</td>\n",
       "      <td>53</td>\n",
       "    </tr>\n",
       "  </tbody>\n",
       "</table>\n",
       "</div>"
      ],
      "text/plain": [
       "     나이 성별    키  체중\n",
       "이겨레  25  남  185  89\n",
       "조약돌  19  여  163  53"
      ]
     },
     "execution_count": 37,
     "metadata": {},
     "output_type": "execute_result"
    }
   ],
   "source": [
    "df_05"
   ]
  },
  {
   "cell_type": "code",
   "execution_count": 41,
   "id": "3df6cca8",
   "metadata": {},
   "outputs": [
    {
     "data": {
      "text/html": [
       "<div>\n",
       "<style scoped>\n",
       "    .dataframe tbody tr th:only-of-type {\n",
       "        vertical-align: middle;\n",
       "    }\n",
       "\n",
       "    .dataframe tbody tr th {\n",
       "        vertical-align: top;\n",
       "    }\n",
       "\n",
       "    .dataframe thead th {\n",
       "        text-align: right;\n",
       "    }\n",
       "</style>\n",
       "<table border=\"1\" class=\"dataframe\">\n",
       "  <thead>\n",
       "    <tr style=\"text-align: right;\">\n",
       "      <th></th>\n",
       "      <th>성명</th>\n",
       "      <th>나이</th>\n",
       "      <th>성별</th>\n",
       "      <th>키</th>\n",
       "      <th>체중</th>\n",
       "    </tr>\n",
       "  </thead>\n",
       "  <tbody>\n",
       "    <tr>\n",
       "      <th>이겨레</th>\n",
       "      <td>이겨레</td>\n",
       "      <td>25</td>\n",
       "      <td>남</td>\n",
       "      <td>185</td>\n",
       "      <td>89</td>\n",
       "    </tr>\n",
       "    <tr>\n",
       "      <th>조약돌</th>\n",
       "      <td>조약돌</td>\n",
       "      <td>19</td>\n",
       "      <td>여</td>\n",
       "      <td>163</td>\n",
       "      <td>53</td>\n",
       "    </tr>\n",
       "    <tr>\n",
       "      <th>강산애</th>\n",
       "      <td>강산애</td>\n",
       "      <td>27</td>\n",
       "      <td>남</td>\n",
       "      <td>177</td>\n",
       "      <td>63</td>\n",
       "    </tr>\n",
       "  </tbody>\n",
       "</table>\n",
       "</div>"
      ],
      "text/plain": [
       "      성명  나이 성별    키  체중\n",
       "이겨레  이겨레  25  남  185  89\n",
       "조약돌  조약돌  19  여  163  53\n",
       "강산애  강산애  27  남  177  63"
      ]
     },
     "execution_count": 41,
     "metadata": {},
     "output_type": "execute_result"
    }
   ],
   "source": [
    "df"
   ]
  },
  {
   "cell_type": "code",
   "execution_count": 48,
   "id": "ee06704d",
   "metadata": {},
   "outputs": [
    {
     "data": {
      "text/html": [
       "<div>\n",
       "<style scoped>\n",
       "    .dataframe tbody tr th:only-of-type {\n",
       "        vertical-align: middle;\n",
       "    }\n",
       "\n",
       "    .dataframe tbody tr th {\n",
       "        vertical-align: top;\n",
       "    }\n",
       "\n",
       "    .dataframe thead th {\n",
       "        text-align: right;\n",
       "    }\n",
       "</style>\n",
       "<table border=\"1\" class=\"dataframe\">\n",
       "  <thead>\n",
       "    <tr style=\"text-align: right;\">\n",
       "      <th></th>\n",
       "      <th>A</th>\n",
       "      <th>B</th>\n",
       "      <th>C</th>\n",
       "    </tr>\n",
       "  </thead>\n",
       "  <tbody>\n",
       "    <tr>\n",
       "      <th>R0</th>\n",
       "      <td>10</td>\n",
       "      <td>40</td>\n",
       "      <td>70</td>\n",
       "    </tr>\n",
       "    <tr>\n",
       "      <th>R1</th>\n",
       "      <td>20</td>\n",
       "      <td>50</td>\n",
       "      <td>80</td>\n",
       "    </tr>\n",
       "    <tr>\n",
       "      <th>R2</th>\n",
       "      <td>30</td>\n",
       "      <td>60</td>\n",
       "      <td>90</td>\n",
       "    </tr>\n",
       "  </tbody>\n",
       "</table>\n",
       "</div>"
      ],
      "text/plain": [
       "     A   B   C\n",
       "R0  10  40  70\n",
       "R1  20  50  80\n",
       "R2  30  60  90"
      ]
     },
     "execution_count": 48,
     "metadata": {},
     "output_type": "execute_result"
    }
   ],
   "source": [
    "dic_data = {'A': [10, 20, 30], 'B':[40, 50, 60], 'C':[70,80,90]}\n",
    "\n",
    "df = pd.DataFrame(dic_data, index=['R0', 'R1', 'R2'])\n",
    "\n",
    "df"
   ]
  },
  {
   "cell_type": "markdown",
   "id": "35d97442",
   "metadata": {},
   "source": [
    "### reindex()"
   ]
  },
  {
   "cell_type": "code",
   "execution_count": 49,
   "id": "89c80510",
   "metadata": {},
   "outputs": [],
   "source": [
    "new_index = ['R0', 'R1', 'R2', 'R3', 'R4', 'R5']\n",
    "df_01 = df.reindex(new_index)\n",
    "\n",
    "df_02 = df.reindex(new_index, fill_value=0)"
   ]
  },
  {
   "cell_type": "code",
   "execution_count": 51,
   "id": "4d4fb024",
   "metadata": {},
   "outputs": [
    {
     "data": {
      "text/html": [
       "<div>\n",
       "<style scoped>\n",
       "    .dataframe tbody tr th:only-of-type {\n",
       "        vertical-align: middle;\n",
       "    }\n",
       "\n",
       "    .dataframe tbody tr th {\n",
       "        vertical-align: top;\n",
       "    }\n",
       "\n",
       "    .dataframe thead th {\n",
       "        text-align: right;\n",
       "    }\n",
       "</style>\n",
       "<table border=\"1\" class=\"dataframe\">\n",
       "  <thead>\n",
       "    <tr style=\"text-align: right;\">\n",
       "      <th></th>\n",
       "      <th>A</th>\n",
       "      <th>B</th>\n",
       "      <th>C</th>\n",
       "    </tr>\n",
       "  </thead>\n",
       "  <tbody>\n",
       "    <tr>\n",
       "      <th>R0</th>\n",
       "      <td>10.0</td>\n",
       "      <td>40.0</td>\n",
       "      <td>70.0</td>\n",
       "    </tr>\n",
       "    <tr>\n",
       "      <th>R1</th>\n",
       "      <td>20.0</td>\n",
       "      <td>50.0</td>\n",
       "      <td>80.0</td>\n",
       "    </tr>\n",
       "    <tr>\n",
       "      <th>R2</th>\n",
       "      <td>30.0</td>\n",
       "      <td>60.0</td>\n",
       "      <td>90.0</td>\n",
       "    </tr>\n",
       "    <tr>\n",
       "      <th>R3</th>\n",
       "      <td>NaN</td>\n",
       "      <td>NaN</td>\n",
       "      <td>NaN</td>\n",
       "    </tr>\n",
       "    <tr>\n",
       "      <th>R4</th>\n",
       "      <td>NaN</td>\n",
       "      <td>NaN</td>\n",
       "      <td>NaN</td>\n",
       "    </tr>\n",
       "    <tr>\n",
       "      <th>R5</th>\n",
       "      <td>NaN</td>\n",
       "      <td>NaN</td>\n",
       "      <td>NaN</td>\n",
       "    </tr>\n",
       "  </tbody>\n",
       "</table>\n",
       "</div>"
      ],
      "text/plain": [
       "       A     B     C\n",
       "R0  10.0  40.0  70.0\n",
       "R1  20.0  50.0  80.0\n",
       "R2  30.0  60.0  90.0\n",
       "R3   NaN   NaN   NaN\n",
       "R4   NaN   NaN   NaN\n",
       "R5   NaN   NaN   NaN"
      ]
     },
     "metadata": {},
     "output_type": "display_data"
    },
    {
     "data": {
      "text/html": [
       "<div>\n",
       "<style scoped>\n",
       "    .dataframe tbody tr th:only-of-type {\n",
       "        vertical-align: middle;\n",
       "    }\n",
       "\n",
       "    .dataframe tbody tr th {\n",
       "        vertical-align: top;\n",
       "    }\n",
       "\n",
       "    .dataframe thead th {\n",
       "        text-align: right;\n",
       "    }\n",
       "</style>\n",
       "<table border=\"1\" class=\"dataframe\">\n",
       "  <thead>\n",
       "    <tr style=\"text-align: right;\">\n",
       "      <th></th>\n",
       "      <th>A</th>\n",
       "      <th>B</th>\n",
       "      <th>C</th>\n",
       "    </tr>\n",
       "  </thead>\n",
       "  <tbody>\n",
       "    <tr>\n",
       "      <th>R0</th>\n",
       "      <td>10</td>\n",
       "      <td>40</td>\n",
       "      <td>70</td>\n",
       "    </tr>\n",
       "    <tr>\n",
       "      <th>R1</th>\n",
       "      <td>20</td>\n",
       "      <td>50</td>\n",
       "      <td>80</td>\n",
       "    </tr>\n",
       "    <tr>\n",
       "      <th>R2</th>\n",
       "      <td>30</td>\n",
       "      <td>60</td>\n",
       "      <td>90</td>\n",
       "    </tr>\n",
       "    <tr>\n",
       "      <th>R3</th>\n",
       "      <td>0</td>\n",
       "      <td>0</td>\n",
       "      <td>0</td>\n",
       "    </tr>\n",
       "    <tr>\n",
       "      <th>R4</th>\n",
       "      <td>0</td>\n",
       "      <td>0</td>\n",
       "      <td>0</td>\n",
       "    </tr>\n",
       "    <tr>\n",
       "      <th>R5</th>\n",
       "      <td>0</td>\n",
       "      <td>0</td>\n",
       "      <td>0</td>\n",
       "    </tr>\n",
       "  </tbody>\n",
       "</table>\n",
       "</div>"
      ],
      "text/plain": [
       "     A   B   C\n",
       "R0  10  40  70\n",
       "R1  20  50  80\n",
       "R2  30  60  90\n",
       "R3   0   0   0\n",
       "R4   0   0   0\n",
       "R5   0   0   0"
      ]
     },
     "metadata": {},
     "output_type": "display_data"
    }
   ],
   "source": [
    "display(df_01)\n",
    "display(df_02)"
   ]
  },
  {
   "cell_type": "markdown",
   "id": "fa0e7aa3",
   "metadata": {},
   "source": [
    "### reset_index()"
   ]
  },
  {
   "cell_type": "code",
   "execution_count": 43,
   "id": "0418df0e",
   "metadata": {
    "scrolled": true
   },
   "outputs": [
    {
     "data": {
      "text/html": [
       "<div>\n",
       "<style scoped>\n",
       "    .dataframe tbody tr th:only-of-type {\n",
       "        vertical-align: middle;\n",
       "    }\n",
       "\n",
       "    .dataframe tbody tr th {\n",
       "        vertical-align: top;\n",
       "    }\n",
       "\n",
       "    .dataframe thead th {\n",
       "        text-align: right;\n",
       "    }\n",
       "</style>\n",
       "<table border=\"1\" class=\"dataframe\">\n",
       "  <thead>\n",
       "    <tr style=\"text-align: right;\">\n",
       "      <th></th>\n",
       "      <th>index</th>\n",
       "      <th>A</th>\n",
       "      <th>B</th>\n",
       "      <th>C</th>\n",
       "    </tr>\n",
       "  </thead>\n",
       "  <tbody>\n",
       "    <tr>\n",
       "      <th>0</th>\n",
       "      <td>R0</td>\n",
       "      <td>10</td>\n",
       "      <td>40</td>\n",
       "      <td>70</td>\n",
       "    </tr>\n",
       "    <tr>\n",
       "      <th>1</th>\n",
       "      <td>R1</td>\n",
       "      <td>20</td>\n",
       "      <td>50</td>\n",
       "      <td>80</td>\n",
       "    </tr>\n",
       "    <tr>\n",
       "      <th>2</th>\n",
       "      <td>R2</td>\n",
       "      <td>30</td>\n",
       "      <td>60</td>\n",
       "      <td>90</td>\n",
       "    </tr>\n",
       "  </tbody>\n",
       "</table>\n",
       "</div>"
      ],
      "text/plain": [
       "  index   A   B   C\n",
       "0    R0  10  40  70\n",
       "1    R1  20  50  80\n",
       "2    R2  30  60  90"
      ]
     },
     "execution_count": 43,
     "metadata": {},
     "output_type": "execute_result"
    }
   ],
   "source": [
    "df.reset_index()"
   ]
  },
  {
   "cell_type": "code",
   "execution_count": 52,
   "id": "c11b26bd",
   "metadata": {},
   "outputs": [],
   "source": [
    "data = './file/member.csv'\n",
    "\n",
    "df_member = pd.read_csv(data)"
   ]
  },
  {
   "cell_type": "code",
   "execution_count": 53,
   "id": "e99bd02f",
   "metadata": {},
   "outputs": [
    {
     "data": {
      "text/html": [
       "<div>\n",
       "<style scoped>\n",
       "    .dataframe tbody tr th:only-of-type {\n",
       "        vertical-align: middle;\n",
       "    }\n",
       "\n",
       "    .dataframe tbody tr th {\n",
       "        vertical-align: top;\n",
       "    }\n",
       "\n",
       "    .dataframe thead th {\n",
       "        text-align: right;\n",
       "    }\n",
       "</style>\n",
       "<table border=\"1\" class=\"dataframe\">\n",
       "  <thead>\n",
       "    <tr style=\"text-align: right;\">\n",
       "      <th></th>\n",
       "      <th>코드</th>\n",
       "      <th>이름</th>\n",
       "      <th>성별</th>\n",
       "      <th>연령</th>\n",
       "      <th>혈액형</th>\n",
       "      <th>키</th>\n",
       "      <th>체중</th>\n",
       "      <th>BMI</th>\n",
       "      <th>운동시작일</th>\n",
       "    </tr>\n",
       "  </thead>\n",
       "  <tbody>\n",
       "    <tr>\n",
       "      <th>0</th>\n",
       "      <td>330531</td>\n",
       "      <td>이겨레</td>\n",
       "      <td>남</td>\n",
       "      <td>26</td>\n",
       "      <td>A</td>\n",
       "      <td>181</td>\n",
       "      <td>76</td>\n",
       "      <td>23.20</td>\n",
       "      <td>2021-01-01</td>\n",
       "    </tr>\n",
       "    <tr>\n",
       "      <th>1</th>\n",
       "      <td>340037</td>\n",
       "      <td>조약돌</td>\n",
       "      <td>여</td>\n",
       "      <td>25</td>\n",
       "      <td>B</td>\n",
       "      <td>185</td>\n",
       "      <td>89</td>\n",
       "      <td>26.00</td>\n",
       "      <td>2020-12-25</td>\n",
       "    </tr>\n",
       "    <tr>\n",
       "      <th>2</th>\n",
       "      <td>194563</td>\n",
       "      <td>강산애</td>\n",
       "      <td>남</td>\n",
       "      <td>27</td>\n",
       "      <td>A</td>\n",
       "      <td>177</td>\n",
       "      <td>63</td>\n",
       "      <td>20.11</td>\n",
       "      <td>NaN</td>\n",
       "    </tr>\n",
       "    <tr>\n",
       "      <th>3</th>\n",
       "      <td>503546</td>\n",
       "      <td>원미연</td>\n",
       "      <td>여</td>\n",
       "      <td>48</td>\n",
       "      <td>O</td>\n",
       "      <td>166</td>\n",
       "      <td>55</td>\n",
       "      <td>19.96</td>\n",
       "      <td>2021-03-05</td>\n",
       "    </tr>\n",
       "    <tr>\n",
       "      <th>4</th>\n",
       "      <td>330543</td>\n",
       "      <td>오대양</td>\n",
       "      <td>남</td>\n",
       "      <td>31</td>\n",
       "      <td>AB</td>\n",
       "      <td>193</td>\n",
       "      <td>95</td>\n",
       "      <td>25.50</td>\n",
       "      <td>NaN</td>\n",
       "    </tr>\n",
       "    <tr>\n",
       "      <th>5</th>\n",
       "      <td>341257</td>\n",
       "      <td>송가인</td>\n",
       "      <td>여</td>\n",
       "      <td>45</td>\n",
       "      <td>O</td>\n",
       "      <td>157</td>\n",
       "      <td>48</td>\n",
       "      <td>19.47</td>\n",
       "      <td>NaN</td>\n",
       "    </tr>\n",
       "    <tr>\n",
       "      <th>6</th>\n",
       "      <td>472358</td>\n",
       "      <td>성공찬</td>\n",
       "      <td>여</td>\n",
       "      <td>53</td>\n",
       "      <td>B</td>\n",
       "      <td>159</td>\n",
       "      <td>50</td>\n",
       "      <td>19.78</td>\n",
       "      <td>1997-10-24</td>\n",
       "    </tr>\n",
       "    <tr>\n",
       "      <th>7</th>\n",
       "      <td>185823</td>\n",
       "      <td>황산성</td>\n",
       "      <td>남</td>\n",
       "      <td>52</td>\n",
       "      <td>B</td>\n",
       "      <td>178</td>\n",
       "      <td>87</td>\n",
       "      <td>27.46</td>\n",
       "      <td>NaN</td>\n",
       "    </tr>\n",
       "    <tr>\n",
       "      <th>8</th>\n",
       "      <td>232305</td>\n",
       "      <td>신영웅</td>\n",
       "      <td>남</td>\n",
       "      <td>19</td>\n",
       "      <td>AB</td>\n",
       "      <td>163</td>\n",
       "      <td>53</td>\n",
       "      <td>19.95</td>\n",
       "      <td>2021-05-08</td>\n",
       "    </tr>\n",
       "    <tr>\n",
       "      <th>9</th>\n",
       "      <td>489602</td>\n",
       "      <td>최고봉</td>\n",
       "      <td>남</td>\n",
       "      <td>64</td>\n",
       "      <td>A</td>\n",
       "      <td>168</td>\n",
       "      <td>57</td>\n",
       "      <td>20.20</td>\n",
       "      <td>1988-08-15</td>\n",
       "    </tr>\n",
       "  </tbody>\n",
       "</table>\n",
       "</div>"
      ],
      "text/plain": [
       "       코드   이름 성별  연령 혈액형    키  체중    BMI       운동시작일\n",
       "0  330531  이겨레  남  26   A  181  76  23.20  2021-01-01\n",
       "1  340037  조약돌  여  25   B  185  89  26.00  2020-12-25\n",
       "2  194563  강산애  남  27   A  177  63  20.11         NaN\n",
       "3  503546  원미연  여  48   O  166  55  19.96  2021-03-05\n",
       "4  330543  오대양  남  31  AB  193  95  25.50         NaN\n",
       "5  341257  송가인  여  45   O  157  48  19.47         NaN\n",
       "6  472358  성공찬  여  53   B  159  50  19.78  1997-10-24\n",
       "7  185823  황산성  남  52   B  178  87  27.46         NaN\n",
       "8  232305  신영웅  남  19  AB  163  53  19.95  2021-05-08\n",
       "9  489602  최고봉  남  64   A  168  57  20.20  1988-08-15"
      ]
     },
     "execution_count": 53,
     "metadata": {},
     "output_type": "execute_result"
    }
   ],
   "source": [
    "df_member"
   ]
  },
  {
   "cell_type": "code",
   "execution_count": 54,
   "id": "f439aa3b",
   "metadata": {},
   "outputs": [
    {
     "data": {
      "text/html": [
       "<div>\n",
       "<style scoped>\n",
       "    .dataframe tbody tr th:only-of-type {\n",
       "        vertical-align: middle;\n",
       "    }\n",
       "\n",
       "    .dataframe tbody tr th {\n",
       "        vertical-align: top;\n",
       "    }\n",
       "\n",
       "    .dataframe thead th {\n",
       "        text-align: right;\n",
       "    }\n",
       "</style>\n",
       "<table border=\"1\" class=\"dataframe\">\n",
       "  <thead>\n",
       "    <tr style=\"text-align: right;\">\n",
       "      <th></th>\n",
       "      <th>코드</th>\n",
       "      <th>이름</th>\n",
       "      <th>성별</th>\n",
       "      <th>연령</th>\n",
       "      <th>혈액형</th>\n",
       "      <th>키</th>\n",
       "      <th>체중</th>\n",
       "      <th>BMI</th>\n",
       "      <th>운동시작일</th>\n",
       "    </tr>\n",
       "  </thead>\n",
       "  <tbody>\n",
       "    <tr>\n",
       "      <th>0</th>\n",
       "      <td>330531</td>\n",
       "      <td>이겨레</td>\n",
       "      <td>남</td>\n",
       "      <td>26</td>\n",
       "      <td>A</td>\n",
       "      <td>181</td>\n",
       "      <td>76</td>\n",
       "      <td>23.2</td>\n",
       "      <td>2021-01-01</td>\n",
       "    </tr>\n",
       "    <tr>\n",
       "      <th>1</th>\n",
       "      <td>340037</td>\n",
       "      <td>조약돌</td>\n",
       "      <td>여</td>\n",
       "      <td>25</td>\n",
       "      <td>B</td>\n",
       "      <td>185</td>\n",
       "      <td>89</td>\n",
       "      <td>26.0</td>\n",
       "      <td>2020-12-25</td>\n",
       "    </tr>\n",
       "  </tbody>\n",
       "</table>\n",
       "</div>"
      ],
      "text/plain": [
       "       코드   이름 성별  연령 혈액형    키  체중   BMI       운동시작일\n",
       "0  330531  이겨레  남  26   A  181  76  23.2  2021-01-01\n",
       "1  340037  조약돌  여  25   B  185  89  26.0  2020-12-25"
      ]
     },
     "metadata": {},
     "output_type": "display_data"
    },
    {
     "data": {
      "text/html": [
       "<div>\n",
       "<style scoped>\n",
       "    .dataframe tbody tr th:only-of-type {\n",
       "        vertical-align: middle;\n",
       "    }\n",
       "\n",
       "    .dataframe tbody tr th {\n",
       "        vertical-align: top;\n",
       "    }\n",
       "\n",
       "    .dataframe thead th {\n",
       "        text-align: right;\n",
       "    }\n",
       "</style>\n",
       "<table border=\"1\" class=\"dataframe\">\n",
       "  <thead>\n",
       "    <tr style=\"text-align: right;\">\n",
       "      <th></th>\n",
       "      <th>코드</th>\n",
       "      <th>이름</th>\n",
       "      <th>성별</th>\n",
       "      <th>연령</th>\n",
       "      <th>혈액형</th>\n",
       "      <th>키</th>\n",
       "      <th>체중</th>\n",
       "      <th>BMI</th>\n",
       "      <th>운동시작일</th>\n",
       "    </tr>\n",
       "  </thead>\n",
       "  <tbody>\n",
       "    <tr>\n",
       "      <th>5</th>\n",
       "      <td>341257</td>\n",
       "      <td>송가인</td>\n",
       "      <td>여</td>\n",
       "      <td>45</td>\n",
       "      <td>O</td>\n",
       "      <td>157</td>\n",
       "      <td>48</td>\n",
       "      <td>19.47</td>\n",
       "      <td>NaN</td>\n",
       "    </tr>\n",
       "    <tr>\n",
       "      <th>6</th>\n",
       "      <td>472358</td>\n",
       "      <td>성공찬</td>\n",
       "      <td>여</td>\n",
       "      <td>53</td>\n",
       "      <td>B</td>\n",
       "      <td>159</td>\n",
       "      <td>50</td>\n",
       "      <td>19.78</td>\n",
       "      <td>1997-10-24</td>\n",
       "    </tr>\n",
       "    <tr>\n",
       "      <th>7</th>\n",
       "      <td>185823</td>\n",
       "      <td>황산성</td>\n",
       "      <td>남</td>\n",
       "      <td>52</td>\n",
       "      <td>B</td>\n",
       "      <td>178</td>\n",
       "      <td>87</td>\n",
       "      <td>27.46</td>\n",
       "      <td>NaN</td>\n",
       "    </tr>\n",
       "    <tr>\n",
       "      <th>8</th>\n",
       "      <td>232305</td>\n",
       "      <td>신영웅</td>\n",
       "      <td>남</td>\n",
       "      <td>19</td>\n",
       "      <td>AB</td>\n",
       "      <td>163</td>\n",
       "      <td>53</td>\n",
       "      <td>19.95</td>\n",
       "      <td>2021-05-08</td>\n",
       "    </tr>\n",
       "    <tr>\n",
       "      <th>9</th>\n",
       "      <td>489602</td>\n",
       "      <td>최고봉</td>\n",
       "      <td>남</td>\n",
       "      <td>64</td>\n",
       "      <td>A</td>\n",
       "      <td>168</td>\n",
       "      <td>57</td>\n",
       "      <td>20.20</td>\n",
       "      <td>1988-08-15</td>\n",
       "    </tr>\n",
       "  </tbody>\n",
       "</table>\n",
       "</div>"
      ],
      "text/plain": [
       "       코드   이름 성별  연령 혈액형    키  체중    BMI       운동시작일\n",
       "5  341257  송가인  여  45   O  157  48  19.47         NaN\n",
       "6  472358  성공찬  여  53   B  159  50  19.78  1997-10-24\n",
       "7  185823  황산성  남  52   B  178  87  27.46         NaN\n",
       "8  232305  신영웅  남  19  AB  163  53  19.95  2021-05-08\n",
       "9  489602  최고봉  남  64   A  168  57  20.20  1988-08-15"
      ]
     },
     "metadata": {},
     "output_type": "display_data"
    }
   ],
   "source": [
    "display(df_member.head(2))\n",
    "display(df_member.tail())"
   ]
  },
  {
   "cell_type": "code",
   "execution_count": 55,
   "id": "a56d95af",
   "metadata": {},
   "outputs": [
    {
     "data": {
      "text/plain": [
       "(10, 9)"
      ]
     },
     "execution_count": 55,
     "metadata": {},
     "output_type": "execute_result"
    }
   ],
   "source": [
    "df_member.shape"
   ]
  },
  {
   "cell_type": "code",
   "execution_count": 56,
   "id": "70f526f4",
   "metadata": {},
   "outputs": [
    {
     "name": "stdout",
     "output_type": "stream",
     "text": [
      "<class 'pandas.core.frame.DataFrame'>\n",
      "RangeIndex: 10 entries, 0 to 9\n",
      "Data columns (total 9 columns):\n",
      " #   Column  Non-Null Count  Dtype  \n",
      "---  ------  --------------  -----  \n",
      " 0   코드      10 non-null     int64  \n",
      " 1   이름      10 non-null     object \n",
      " 2   성별      10 non-null     object \n",
      " 3   연령      10 non-null     int64  \n",
      " 4   혈액형     10 non-null     object \n",
      " 5   키       10 non-null     int64  \n",
      " 6   체중      10 non-null     int64  \n",
      " 7   BMI     10 non-null     float64\n",
      " 8   운동시작일   6 non-null      object \n",
      "dtypes: float64(1), int64(4), object(4)\n",
      "memory usage: 848.0+ bytes\n"
     ]
    }
   ],
   "source": [
    "df_member.info()"
   ]
  },
  {
   "cell_type": "code",
   "execution_count": 61,
   "id": "6bb823f6",
   "metadata": {},
   "outputs": [
    {
     "data": {
      "text/plain": [
       "dtype('O')"
      ]
     },
     "execution_count": 61,
     "metadata": {},
     "output_type": "execute_result"
    }
   ],
   "source": [
    "df_member.성별.dtypes"
   ]
  },
  {
   "cell_type": "code",
   "execution_count": 63,
   "id": "5bc31e6b",
   "metadata": {},
   "outputs": [
    {
     "data": {
      "text/plain": [
       "dtype('int64')"
      ]
     },
     "execution_count": 63,
     "metadata": {},
     "output_type": "execute_result"
    }
   ],
   "source": [
    "df_member.연령.dtypes"
   ]
  },
  {
   "cell_type": "code",
   "execution_count": 64,
   "id": "8f73f4ce",
   "metadata": {},
   "outputs": [
    {
     "data": {
      "text/plain": [
       "dtype('O')"
      ]
     },
     "execution_count": 64,
     "metadata": {},
     "output_type": "execute_result"
    }
   ],
   "source": [
    "df_member.운동시작일.dtypes"
   ]
  },
  {
   "cell_type": "code",
   "execution_count": 65,
   "id": "e61282c4",
   "metadata": {},
   "outputs": [
    {
     "data": {
      "text/html": [
       "<div>\n",
       "<style scoped>\n",
       "    .dataframe tbody tr th:only-of-type {\n",
       "        vertical-align: middle;\n",
       "    }\n",
       "\n",
       "    .dataframe tbody tr th {\n",
       "        vertical-align: top;\n",
       "    }\n",
       "\n",
       "    .dataframe thead th {\n",
       "        text-align: right;\n",
       "    }\n",
       "</style>\n",
       "<table border=\"1\" class=\"dataframe\">\n",
       "  <thead>\n",
       "    <tr style=\"text-align: right;\">\n",
       "      <th></th>\n",
       "      <th>코드</th>\n",
       "      <th>연령</th>\n",
       "      <th>키</th>\n",
       "      <th>체중</th>\n",
       "      <th>BMI</th>\n",
       "    </tr>\n",
       "  </thead>\n",
       "  <tbody>\n",
       "    <tr>\n",
       "      <th>count</th>\n",
       "      <td>10.000000</td>\n",
       "      <td>10.000000</td>\n",
       "      <td>10.000000</td>\n",
       "      <td>10.000000</td>\n",
       "      <td>10.000000</td>\n",
       "    </tr>\n",
       "    <tr>\n",
       "      <th>mean</th>\n",
       "      <td>342056.500000</td>\n",
       "      <td>39.000000</td>\n",
       "      <td>172.700000</td>\n",
       "      <td>67.300000</td>\n",
       "      <td>22.163000</td>\n",
       "    </tr>\n",
       "    <tr>\n",
       "      <th>std</th>\n",
       "      <td>117049.733168</td>\n",
       "      <td>15.202339</td>\n",
       "      <td>11.898179</td>\n",
       "      <td>17.807926</td>\n",
       "      <td>3.086555</td>\n",
       "    </tr>\n",
       "    <tr>\n",
       "      <th>min</th>\n",
       "      <td>185823.000000</td>\n",
       "      <td>19.000000</td>\n",
       "      <td>157.000000</td>\n",
       "      <td>48.000000</td>\n",
       "      <td>19.470000</td>\n",
       "    </tr>\n",
       "    <tr>\n",
       "      <th>25%</th>\n",
       "      <td>256861.500000</td>\n",
       "      <td>26.250000</td>\n",
       "      <td>163.750000</td>\n",
       "      <td>53.500000</td>\n",
       "      <td>19.952500</td>\n",
       "    </tr>\n",
       "    <tr>\n",
       "      <th>50%</th>\n",
       "      <td>335290.000000</td>\n",
       "      <td>38.000000</td>\n",
       "      <td>172.500000</td>\n",
       "      <td>60.000000</td>\n",
       "      <td>20.155000</td>\n",
       "    </tr>\n",
       "    <tr>\n",
       "      <th>75%</th>\n",
       "      <td>439582.750000</td>\n",
       "      <td>51.000000</td>\n",
       "      <td>180.250000</td>\n",
       "      <td>84.250000</td>\n",
       "      <td>24.925000</td>\n",
       "    </tr>\n",
       "    <tr>\n",
       "      <th>max</th>\n",
       "      <td>503546.000000</td>\n",
       "      <td>64.000000</td>\n",
       "      <td>193.000000</td>\n",
       "      <td>95.000000</td>\n",
       "      <td>27.460000</td>\n",
       "    </tr>\n",
       "  </tbody>\n",
       "</table>\n",
       "</div>"
      ],
      "text/plain": [
       "                  코드         연령           키         체중        BMI\n",
       "count      10.000000  10.000000   10.000000  10.000000  10.000000\n",
       "mean   342056.500000  39.000000  172.700000  67.300000  22.163000\n",
       "std    117049.733168  15.202339   11.898179  17.807926   3.086555\n",
       "min    185823.000000  19.000000  157.000000  48.000000  19.470000\n",
       "25%    256861.500000  26.250000  163.750000  53.500000  19.952500\n",
       "50%    335290.000000  38.000000  172.500000  60.000000  20.155000\n",
       "75%    439582.750000  51.000000  180.250000  84.250000  24.925000\n",
       "max    503546.000000  64.000000  193.000000  95.000000  27.460000"
      ]
     },
     "execution_count": 65,
     "metadata": {},
     "output_type": "execute_result"
    }
   ],
   "source": [
    "df_member.describe()"
   ]
  },
  {
   "cell_type": "code",
   "execution_count": 67,
   "id": "e2eacaf1",
   "metadata": {},
   "outputs": [
    {
     "data": {
      "text/html": [
       "<div>\n",
       "<style scoped>\n",
       "    .dataframe tbody tr th:only-of-type {\n",
       "        vertical-align: middle;\n",
       "    }\n",
       "\n",
       "    .dataframe tbody tr th {\n",
       "        vertical-align: top;\n",
       "    }\n",
       "\n",
       "    .dataframe thead th {\n",
       "        text-align: right;\n",
       "    }\n",
       "</style>\n",
       "<table border=\"1\" class=\"dataframe\">\n",
       "  <thead>\n",
       "    <tr style=\"text-align: right;\">\n",
       "      <th></th>\n",
       "      <th>코드</th>\n",
       "      <th>이름</th>\n",
       "      <th>성별</th>\n",
       "      <th>연령</th>\n",
       "      <th>혈액형</th>\n",
       "      <th>키</th>\n",
       "      <th>체중</th>\n",
       "      <th>BMI</th>\n",
       "      <th>운동시작일</th>\n",
       "    </tr>\n",
       "  </thead>\n",
       "  <tbody>\n",
       "    <tr>\n",
       "      <th>count</th>\n",
       "      <td>10.000000</td>\n",
       "      <td>10</td>\n",
       "      <td>10</td>\n",
       "      <td>10.000000</td>\n",
       "      <td>10</td>\n",
       "      <td>10.000000</td>\n",
       "      <td>10.000000</td>\n",
       "      <td>10.000000</td>\n",
       "      <td>6</td>\n",
       "    </tr>\n",
       "    <tr>\n",
       "      <th>unique</th>\n",
       "      <td>NaN</td>\n",
       "      <td>10</td>\n",
       "      <td>2</td>\n",
       "      <td>NaN</td>\n",
       "      <td>4</td>\n",
       "      <td>NaN</td>\n",
       "      <td>NaN</td>\n",
       "      <td>NaN</td>\n",
       "      <td>6</td>\n",
       "    </tr>\n",
       "    <tr>\n",
       "      <th>top</th>\n",
       "      <td>NaN</td>\n",
       "      <td>이겨레</td>\n",
       "      <td>남</td>\n",
       "      <td>NaN</td>\n",
       "      <td>A</td>\n",
       "      <td>NaN</td>\n",
       "      <td>NaN</td>\n",
       "      <td>NaN</td>\n",
       "      <td>1997-10-24</td>\n",
       "    </tr>\n",
       "    <tr>\n",
       "      <th>freq</th>\n",
       "      <td>NaN</td>\n",
       "      <td>1</td>\n",
       "      <td>6</td>\n",
       "      <td>NaN</td>\n",
       "      <td>3</td>\n",
       "      <td>NaN</td>\n",
       "      <td>NaN</td>\n",
       "      <td>NaN</td>\n",
       "      <td>1</td>\n",
       "    </tr>\n",
       "    <tr>\n",
       "      <th>mean</th>\n",
       "      <td>342056.500000</td>\n",
       "      <td>NaN</td>\n",
       "      <td>NaN</td>\n",
       "      <td>39.000000</td>\n",
       "      <td>NaN</td>\n",
       "      <td>172.700000</td>\n",
       "      <td>67.300000</td>\n",
       "      <td>22.163000</td>\n",
       "      <td>NaN</td>\n",
       "    </tr>\n",
       "    <tr>\n",
       "      <th>std</th>\n",
       "      <td>117049.733168</td>\n",
       "      <td>NaN</td>\n",
       "      <td>NaN</td>\n",
       "      <td>15.202339</td>\n",
       "      <td>NaN</td>\n",
       "      <td>11.898179</td>\n",
       "      <td>17.807926</td>\n",
       "      <td>3.086555</td>\n",
       "      <td>NaN</td>\n",
       "    </tr>\n",
       "    <tr>\n",
       "      <th>min</th>\n",
       "      <td>185823.000000</td>\n",
       "      <td>NaN</td>\n",
       "      <td>NaN</td>\n",
       "      <td>19.000000</td>\n",
       "      <td>NaN</td>\n",
       "      <td>157.000000</td>\n",
       "      <td>48.000000</td>\n",
       "      <td>19.470000</td>\n",
       "      <td>NaN</td>\n",
       "    </tr>\n",
       "    <tr>\n",
       "      <th>25%</th>\n",
       "      <td>256861.500000</td>\n",
       "      <td>NaN</td>\n",
       "      <td>NaN</td>\n",
       "      <td>26.250000</td>\n",
       "      <td>NaN</td>\n",
       "      <td>163.750000</td>\n",
       "      <td>53.500000</td>\n",
       "      <td>19.952500</td>\n",
       "      <td>NaN</td>\n",
       "    </tr>\n",
       "    <tr>\n",
       "      <th>50%</th>\n",
       "      <td>335290.000000</td>\n",
       "      <td>NaN</td>\n",
       "      <td>NaN</td>\n",
       "      <td>38.000000</td>\n",
       "      <td>NaN</td>\n",
       "      <td>172.500000</td>\n",
       "      <td>60.000000</td>\n",
       "      <td>20.155000</td>\n",
       "      <td>NaN</td>\n",
       "    </tr>\n",
       "    <tr>\n",
       "      <th>75%</th>\n",
       "      <td>439582.750000</td>\n",
       "      <td>NaN</td>\n",
       "      <td>NaN</td>\n",
       "      <td>51.000000</td>\n",
       "      <td>NaN</td>\n",
       "      <td>180.250000</td>\n",
       "      <td>84.250000</td>\n",
       "      <td>24.925000</td>\n",
       "      <td>NaN</td>\n",
       "    </tr>\n",
       "    <tr>\n",
       "      <th>max</th>\n",
       "      <td>503546.000000</td>\n",
       "      <td>NaN</td>\n",
       "      <td>NaN</td>\n",
       "      <td>64.000000</td>\n",
       "      <td>NaN</td>\n",
       "      <td>193.000000</td>\n",
       "      <td>95.000000</td>\n",
       "      <td>27.460000</td>\n",
       "      <td>NaN</td>\n",
       "    </tr>\n",
       "  </tbody>\n",
       "</table>\n",
       "</div>"
      ],
      "text/plain": [
       "                   코드   이름   성별         연령  혈액형           키         체중  \\\n",
       "count       10.000000   10   10  10.000000   10   10.000000  10.000000   \n",
       "unique            NaN   10    2        NaN    4         NaN        NaN   \n",
       "top               NaN  이겨레    남        NaN    A         NaN        NaN   \n",
       "freq              NaN    1    6        NaN    3         NaN        NaN   \n",
       "mean    342056.500000  NaN  NaN  39.000000  NaN  172.700000  67.300000   \n",
       "std     117049.733168  NaN  NaN  15.202339  NaN   11.898179  17.807926   \n",
       "min     185823.000000  NaN  NaN  19.000000  NaN  157.000000  48.000000   \n",
       "25%     256861.500000  NaN  NaN  26.250000  NaN  163.750000  53.500000   \n",
       "50%     335290.000000  NaN  NaN  38.000000  NaN  172.500000  60.000000   \n",
       "75%     439582.750000  NaN  NaN  51.000000  NaN  180.250000  84.250000   \n",
       "max     503546.000000  NaN  NaN  64.000000  NaN  193.000000  95.000000   \n",
       "\n",
       "              BMI       운동시작일  \n",
       "count   10.000000           6  \n",
       "unique        NaN           6  \n",
       "top           NaN  1997-10-24  \n",
       "freq          NaN           1  \n",
       "mean    22.163000         NaN  \n",
       "std      3.086555         NaN  \n",
       "min     19.470000         NaN  \n",
       "25%     19.952500         NaN  \n",
       "50%     20.155000         NaN  \n",
       "75%     24.925000         NaN  \n",
       "max     27.460000         NaN  "
      ]
     },
     "execution_count": 67,
     "metadata": {},
     "output_type": "execute_result"
    }
   ],
   "source": [
    "df_member.describe(include='all')"
   ]
  },
  {
   "cell_type": "code",
   "execution_count": 74,
   "id": "99533715",
   "metadata": {},
   "outputs": [
    {
     "data": {
      "text/html": [
       "<div>\n",
       "<style scoped>\n",
       "    .dataframe tbody tr th:only-of-type {\n",
       "        vertical-align: middle;\n",
       "    }\n",
       "\n",
       "    .dataframe tbody tr th {\n",
       "        vertical-align: top;\n",
       "    }\n",
       "\n",
       "    .dataframe thead th {\n",
       "        text-align: right;\n",
       "    }\n",
       "</style>\n",
       "<table border=\"1\" class=\"dataframe\">\n",
       "  <thead>\n",
       "    <tr style=\"text-align: right;\">\n",
       "      <th></th>\n",
       "      <th>코드</th>\n",
       "      <th>이름</th>\n",
       "      <th>성별</th>\n",
       "      <th>연령</th>\n",
       "      <th>혈액형</th>\n",
       "      <th>키</th>\n",
       "      <th>체중</th>\n",
       "      <th>BMI</th>\n",
       "      <th>운동시작일</th>\n",
       "    </tr>\n",
       "  </thead>\n",
       "  <tbody>\n",
       "    <tr>\n",
       "      <th>count</th>\n",
       "      <td>10.0</td>\n",
       "      <td>10</td>\n",
       "      <td>10</td>\n",
       "      <td>10.0</td>\n",
       "      <td>10</td>\n",
       "      <td>10.0</td>\n",
       "      <td>10.0</td>\n",
       "      <td>10.0</td>\n",
       "      <td>6</td>\n",
       "    </tr>\n",
       "    <tr>\n",
       "      <th>unique</th>\n",
       "      <td>NaN</td>\n",
       "      <td>10</td>\n",
       "      <td>2</td>\n",
       "      <td>NaN</td>\n",
       "      <td>4</td>\n",
       "      <td>NaN</td>\n",
       "      <td>NaN</td>\n",
       "      <td>NaN</td>\n",
       "      <td>6</td>\n",
       "    </tr>\n",
       "    <tr>\n",
       "      <th>top</th>\n",
       "      <td>NaN</td>\n",
       "      <td>이겨레</td>\n",
       "      <td>남</td>\n",
       "      <td>NaN</td>\n",
       "      <td>A</td>\n",
       "      <td>NaN</td>\n",
       "      <td>NaN</td>\n",
       "      <td>NaN</td>\n",
       "      <td>1997-10-24</td>\n",
       "    </tr>\n",
       "  </tbody>\n",
       "</table>\n",
       "</div>"
      ],
      "text/plain": [
       "          코드   이름  성별    연령 혈액형     키    체중   BMI       운동시작일\n",
       "count   10.0   10  10  10.0  10  10.0  10.0  10.0           6\n",
       "unique   NaN   10   2   NaN   4   NaN   NaN   NaN           6\n",
       "top      NaN  이겨레   남   NaN   A   NaN   NaN   NaN  1997-10-24"
      ]
     },
     "execution_count": 74,
     "metadata": {},
     "output_type": "execute_result"
    }
   ],
   "source": [
    "df_loc = df_member.describe(include='all')\n",
    "df_loc.iloc[0:3]"
   ]
  },
  {
   "cell_type": "code",
   "execution_count": 77,
   "id": "07eab1b6",
   "metadata": {},
   "outputs": [
    {
     "data": {
      "text/plain": [
       "172.5"
      ]
     },
     "execution_count": 77,
     "metadata": {},
     "output_type": "execute_result"
    }
   ],
   "source": [
    "df_loc.loc['50%', '키']"
   ]
  },
  {
   "cell_type": "code",
   "execution_count": 78,
   "id": "0720fdae",
   "metadata": {},
   "outputs": [
    {
     "data": {
      "text/plain": [
       "10.0"
      ]
     },
     "execution_count": 78,
     "metadata": {},
     "output_type": "execute_result"
    }
   ],
   "source": [
    "df_loc.iloc[0, 3]"
   ]
  },
  {
   "cell_type": "code",
   "execution_count": 80,
   "id": "9fd19ac4",
   "metadata": {},
   "outputs": [
    {
     "data": {
      "text/plain": [
       "'1997-10-24'"
      ]
     },
     "execution_count": 80,
     "metadata": {},
     "output_type": "execute_result"
    }
   ],
   "source": [
    "df_loc.iloc[2, 8]"
   ]
  },
  {
   "cell_type": "code",
   "execution_count": 81,
   "id": "a28a9063",
   "metadata": {},
   "outputs": [
    {
     "data": {
      "text/plain": [
       "'1997-10-24'"
      ]
     },
     "execution_count": 81,
     "metadata": {},
     "output_type": "execute_result"
    }
   ],
   "source": [
    "df_loc.loc['top', '운동시작일']"
   ]
  },
  {
   "cell_type": "markdown",
   "id": "f75cc707",
   "metadata": {},
   "source": [
    "### 데이터 개수 count()"
   ]
  },
  {
   "cell_type": "code",
   "execution_count": 82,
   "id": "a7b5af62",
   "metadata": {
    "scrolled": false
   },
   "outputs": [
    {
     "data": {
      "text/plain": [
       "코드       10\n",
       "이름       10\n",
       "성별       10\n",
       "연령       10\n",
       "혈액형      10\n",
       "키        10\n",
       "체중       10\n",
       "BMI      10\n",
       "운동시작일     6\n",
       "dtype: int64"
      ]
     },
     "execution_count": 82,
     "metadata": {},
     "output_type": "execute_result"
    }
   ],
   "source": [
    "df_member.count()"
   ]
  },
  {
   "cell_type": "code",
   "execution_count": 88,
   "id": "88539e99",
   "metadata": {},
   "outputs": [
    {
     "data": {
      "text/plain": [
       "A     3\n",
       "B     3\n",
       "O     2\n",
       "AB    2\n",
       "Name: 혈액형, dtype: int64"
      ]
     },
     "execution_count": 88,
     "metadata": {},
     "output_type": "execute_result"
    }
   ],
   "source": [
    "df_member['혈액형'].value_counts()"
   ]
  },
  {
   "cell_type": "code",
   "execution_count": 86,
   "id": "a73c609e",
   "metadata": {},
   "outputs": [
    {
     "data": {
      "text/plain": [
       "1997-10-24    1\n",
       "1988-08-15    1\n",
       "2020-12-25    1\n",
       "2021-05-08    1\n",
       "2021-03-05    1\n",
       "2021-01-01    1\n",
       "Name: 운동시작일, dtype: int64"
      ]
     },
     "execution_count": 86,
     "metadata": {},
     "output_type": "execute_result"
    }
   ],
   "source": [
    "df_member['운동시작일'].value_counts(dropna=True)"
   ]
  },
  {
   "cell_type": "markdown",
   "id": "20118af4",
   "metadata": {},
   "source": [
    "### 평균값과 중간값"
   ]
  },
  {
   "cell_type": "code",
   "execution_count": 105,
   "id": "22ef01a6",
   "metadata": {},
   "outputs": [
    {
     "data": {
      "text/plain": [
       "코드     342056.500\n",
       "연령         39.000\n",
       "키         172.700\n",
       "체중         67.300\n",
       "BMI        22.163\n",
       "dtype: float64"
      ]
     },
     "execution_count": 105,
     "metadata": {},
     "output_type": "execute_result"
    }
   ],
   "source": [
    "df_member.mean()"
   ]
  },
  {
   "cell_type": "code",
   "execution_count": 111,
   "id": "bef87277",
   "metadata": {},
   "outputs": [
    {
     "data": {
      "text/plain": [
       "BMI    22.163\n",
       "dtype: float64"
      ]
     },
     "execution_count": 111,
     "metadata": {},
     "output_type": "execute_result"
    }
   ],
   "source": [
    "df_member[['BMI']].mean()"
   ]
  },
  {
   "cell_type": "code",
   "execution_count": 113,
   "id": "65d93a89",
   "metadata": {},
   "outputs": [
    {
     "data": {
      "text/plain": [
       "키     172.7\n",
       "체중     67.3\n",
       "dtype: float64"
      ]
     },
     "execution_count": 113,
     "metadata": {},
     "output_type": "execute_result"
    }
   ],
   "source": [
    "df_member[['키', '체중']].mean()"
   ]
  },
  {
   "cell_type": "code",
   "execution_count": 114,
   "id": "2c671ff5",
   "metadata": {},
   "outputs": [
    {
     "data": {
      "text/plain": [
       "코드     335290.000\n",
       "연령         38.000\n",
       "키         172.500\n",
       "체중         60.000\n",
       "BMI        20.155\n",
       "dtype: float64"
      ]
     },
     "execution_count": 114,
     "metadata": {},
     "output_type": "execute_result"
    }
   ],
   "source": [
    "df_member.median()"
   ]
  },
  {
   "cell_type": "code",
   "execution_count": 117,
   "id": "560d18ef",
   "metadata": {},
   "outputs": [
    {
     "data": {
      "text/plain": [
       "키    172.5\n",
       "dtype: float64"
      ]
     },
     "execution_count": 117,
     "metadata": {},
     "output_type": "execute_result"
    }
   ],
   "source": [
    "df_member[['키']].median()"
   ]
  },
  {
   "cell_type": "code",
   "execution_count": 116,
   "id": "1f32938e",
   "metadata": {},
   "outputs": [
    {
     "data": {
      "text/plain": [
       "키     172.5\n",
       "체중     60.0\n",
       "dtype: float64"
      ]
     },
     "execution_count": 116,
     "metadata": {},
     "output_type": "execute_result"
    }
   ],
   "source": [
    "df_member[['키','체중']].median()"
   ]
  },
  {
   "cell_type": "markdown",
   "id": "7597dd85",
   "metadata": {},
   "source": [
    "### 최대값과 최소값"
   ]
  },
  {
   "cell_type": "code",
   "execution_count": 119,
   "id": "400ad0ca",
   "metadata": {},
   "outputs": [
    {
     "data": {
      "text/plain": [
       "64"
      ]
     },
     "execution_count": 119,
     "metadata": {},
     "output_type": "execute_result"
    }
   ],
   "source": [
    "df_member['연령'].max()"
   ]
  },
  {
   "cell_type": "code",
   "execution_count": 120,
   "id": "93ccec11",
   "metadata": {},
   "outputs": [
    {
     "data": {
      "text/plain": [
       "키     193\n",
       "체중     95\n",
       "dtype: int64"
      ]
     },
     "execution_count": 120,
     "metadata": {},
     "output_type": "execute_result"
    }
   ],
   "source": [
    "df_member[['키', '체중']].max()"
   ]
  },
  {
   "cell_type": "code",
   "execution_count": 121,
   "id": "0bbe1c7a",
   "metadata": {},
   "outputs": [
    {
     "data": {
      "text/plain": [
       "19"
      ]
     },
     "execution_count": 121,
     "metadata": {},
     "output_type": "execute_result"
    }
   ],
   "source": [
    "df_member['연령'].min()"
   ]
  },
  {
   "cell_type": "code",
   "execution_count": 122,
   "id": "6203c22e",
   "metadata": {},
   "outputs": [
    {
     "data": {
      "text/plain": [
       "키     157\n",
       "체중     48\n",
       "dtype: int64"
      ]
     },
     "execution_count": 122,
     "metadata": {},
     "output_type": "execute_result"
    }
   ],
   "source": [
    "df_member[['키', '체중']].min()"
   ]
  },
  {
   "cell_type": "markdown",
   "id": "e51469a0",
   "metadata": {},
   "source": [
    "### 표준편차와 상관계수"
   ]
  },
  {
   "cell_type": "code",
   "execution_count": 123,
   "id": "436b3c53",
   "metadata": {},
   "outputs": [
    {
     "data": {
      "text/plain": [
       "코드     117049.733168\n",
       "연령         15.202339\n",
       "키          11.898179\n",
       "체중         17.807926\n",
       "BMI         3.086555\n",
       "dtype: float64"
      ]
     },
     "execution_count": 123,
     "metadata": {},
     "output_type": "execute_result"
    }
   ],
   "source": [
    "df_member.std()"
   ]
  },
  {
   "cell_type": "code",
   "execution_count": 125,
   "id": "d7e15b3b",
   "metadata": {},
   "outputs": [
    {
     "data": {
      "text/plain": [
       "키     11.898179\n",
       "체중    17.807926\n",
       "dtype: float64"
      ]
     },
     "execution_count": 125,
     "metadata": {},
     "output_type": "execute_result"
    }
   ],
   "source": [
    "df_member[['키', '체중']].std()"
   ]
  },
  {
   "cell_type": "code",
   "execution_count": 126,
   "id": "6dd0c65b",
   "metadata": {},
   "outputs": [
    {
     "data": {
      "text/html": [
       "<div>\n",
       "<style scoped>\n",
       "    .dataframe tbody tr th:only-of-type {\n",
       "        vertical-align: middle;\n",
       "    }\n",
       "\n",
       "    .dataframe tbody tr th {\n",
       "        vertical-align: top;\n",
       "    }\n",
       "\n",
       "    .dataframe thead th {\n",
       "        text-align: right;\n",
       "    }\n",
       "</style>\n",
       "<table border=\"1\" class=\"dataframe\">\n",
       "  <thead>\n",
       "    <tr style=\"text-align: right;\">\n",
       "      <th></th>\n",
       "      <th>코드</th>\n",
       "      <th>연령</th>\n",
       "      <th>키</th>\n",
       "      <th>체중</th>\n",
       "      <th>BMI</th>\n",
       "    </tr>\n",
       "  </thead>\n",
       "  <tbody>\n",
       "    <tr>\n",
       "      <th>코드</th>\n",
       "      <td>1.000000</td>\n",
       "      <td>0.572318</td>\n",
       "      <td>-0.343057</td>\n",
       "      <td>-0.377510</td>\n",
       "      <td>-0.397892</td>\n",
       "    </tr>\n",
       "    <tr>\n",
       "      <th>연령</th>\n",
       "      <td>0.572318</td>\n",
       "      <td>1.000000</td>\n",
       "      <td>-0.426925</td>\n",
       "      <td>-0.316438</td>\n",
       "      <td>-0.176555</td>\n",
       "    </tr>\n",
       "    <tr>\n",
       "      <th>키</th>\n",
       "      <td>-0.343057</td>\n",
       "      <td>-0.426925</td>\n",
       "      <td>1.000000</td>\n",
       "      <td>0.942296</td>\n",
       "      <td>0.796228</td>\n",
       "    </tr>\n",
       "    <tr>\n",
       "      <th>체중</th>\n",
       "      <td>-0.377510</td>\n",
       "      <td>-0.316438</td>\n",
       "      <td>0.942296</td>\n",
       "      <td>1.000000</td>\n",
       "      <td>0.950220</td>\n",
       "    </tr>\n",
       "    <tr>\n",
       "      <th>BMI</th>\n",
       "      <td>-0.397892</td>\n",
       "      <td>-0.176555</td>\n",
       "      <td>0.796228</td>\n",
       "      <td>0.950220</td>\n",
       "      <td>1.000000</td>\n",
       "    </tr>\n",
       "  </tbody>\n",
       "</table>\n",
       "</div>"
      ],
      "text/plain": [
       "           코드        연령         키        체중       BMI\n",
       "코드   1.000000  0.572318 -0.343057 -0.377510 -0.397892\n",
       "연령   0.572318  1.000000 -0.426925 -0.316438 -0.176555\n",
       "키   -0.343057 -0.426925  1.000000  0.942296  0.796228\n",
       "체중  -0.377510 -0.316438  0.942296  1.000000  0.950220\n",
       "BMI -0.397892 -0.176555  0.796228  0.950220  1.000000"
      ]
     },
     "execution_count": 126,
     "metadata": {},
     "output_type": "execute_result"
    }
   ],
   "source": [
    "df_member.corr()"
   ]
  },
  {
   "cell_type": "code",
   "execution_count": 128,
   "id": "891c917f",
   "metadata": {},
   "outputs": [
    {
     "data": {
      "text/html": [
       "<div>\n",
       "<style scoped>\n",
       "    .dataframe tbody tr th:only-of-type {\n",
       "        vertical-align: middle;\n",
       "    }\n",
       "\n",
       "    .dataframe tbody tr th {\n",
       "        vertical-align: top;\n",
       "    }\n",
       "\n",
       "    .dataframe thead th {\n",
       "        text-align: right;\n",
       "    }\n",
       "</style>\n",
       "<table border=\"1\" class=\"dataframe\">\n",
       "  <thead>\n",
       "    <tr style=\"text-align: right;\">\n",
       "      <th></th>\n",
       "      <th>키</th>\n",
       "      <th>체중</th>\n",
       "    </tr>\n",
       "  </thead>\n",
       "  <tbody>\n",
       "    <tr>\n",
       "      <th>키</th>\n",
       "      <td>1.000000</td>\n",
       "      <td>0.942296</td>\n",
       "    </tr>\n",
       "    <tr>\n",
       "      <th>체중</th>\n",
       "      <td>0.942296</td>\n",
       "      <td>1.000000</td>\n",
       "    </tr>\n",
       "  </tbody>\n",
       "</table>\n",
       "</div>"
      ],
      "text/plain": [
       "           키        체중\n",
       "키   1.000000  0.942296\n",
       "체중  0.942296  1.000000"
      ]
     },
     "execution_count": 128,
     "metadata": {},
     "output_type": "execute_result"
    }
   ],
   "source": [
    "df_member[['키', '체중']].corr()"
   ]
  },
  {
   "cell_type": "code",
   "execution_count": null,
   "id": "8208cc8f",
   "metadata": {},
   "outputs": [],
   "source": []
  }
 ],
 "metadata": {
  "kernelspec": {
   "display_name": "Python 3",
   "language": "python",
   "name": "python3"
  },
  "language_info": {
   "codemirror_mode": {
    "name": "ipython",
    "version": 3
   },
   "file_extension": ".py",
   "mimetype": "text/x-python",
   "name": "python",
   "nbconvert_exporter": "python",
   "pygments_lexer": "ipython3",
   "version": "3.8.10"
  },
  "toc": {
   "base_numbering": 1,
   "nav_menu": {},
   "number_sections": true,
   "sideBar": true,
   "skip_h1_title": false,
   "title_cell": "Table of Contents",
   "title_sidebar": "Contents",
   "toc_cell": false,
   "toc_position": {},
   "toc_section_display": true,
   "toc_window_display": false
  }
 },
 "nbformat": 4,
 "nbformat_minor": 5
}
