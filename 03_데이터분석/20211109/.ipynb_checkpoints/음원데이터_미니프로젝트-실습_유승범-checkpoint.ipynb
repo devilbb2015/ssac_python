{
 "cells": [
  {
   "cell_type": "code",
   "execution_count": 1,
   "id": "7bc0289b",
   "metadata": {},
   "outputs": [],
   "source": [
    "import pandas as pd \n",
    "import numpy as np\n"
   ]
  },
  {
   "cell_type": "markdown",
   "id": "89165771",
   "metadata": {},
   "source": [
    "# 벅스, 멜론, 지니의 탑100 음원 데이터를 불러오시오 \n",
    "- Bugs_Chart.csv, Genie_Chart.csv, Melon_Chart.csv"
   ]
  },
  {
   "cell_type": "code",
   "execution_count": null,
   "id": "bf70f231",
   "metadata": {},
   "outputs": [],
   "source": [
    "bugs_data = pd.read_csv('./data/spotify_global_2019_most_streamed_tracks_audio_features.csv')\n",
    "\n",
    "\n",
    "Bugs_Chart.csv\n",
    "Genie_Chart.csv\n",
    "Melon_Chart.csv"
   ]
  },
  {
   "cell_type": "code",
   "execution_count": null,
   "id": "03209039",
   "metadata": {},
   "outputs": [],
   "source": []
  },
  {
   "cell_type": "markdown",
   "id": "8760f5f4",
   "metadata": {},
   "source": [
    "# 각 음원사이트에서 10위권 안의 노래들을 출력하시오 "
   ]
  },
  {
   "cell_type": "code",
   "execution_count": null,
   "id": "0d9bdbed",
   "metadata": {},
   "outputs": [],
   "source": []
  },
  {
   "cell_type": "code",
   "execution_count": null,
   "id": "f8d587fd",
   "metadata": {},
   "outputs": [],
   "source": []
  },
  {
   "cell_type": "markdown",
   "id": "3d74e674",
   "metadata": {},
   "source": [
    "# 각 음원사이트에서 35위의 노래를 확인하시오 "
   ]
  },
  {
   "cell_type": "code",
   "execution_count": null,
   "id": "118d94f2",
   "metadata": {},
   "outputs": [],
   "source": []
  },
  {
   "cell_type": "code",
   "execution_count": null,
   "id": "bd5bb5a8",
   "metadata": {},
   "outputs": [],
   "source": []
  },
  {
   "cell_type": "markdown",
   "id": "a1466d17",
   "metadata": {},
   "source": [
    "# 각 사이트별로 탑100 순위에 있는 가수들의 이름을 구하시오 "
   ]
  },
  {
   "cell_type": "code",
   "execution_count": null,
   "id": "cb7be15a",
   "metadata": {},
   "outputs": [],
   "source": []
  },
  {
   "cell_type": "code",
   "execution_count": null,
   "id": "52a43c65",
   "metadata": {},
   "outputs": [],
   "source": []
  },
  {
   "cell_type": "markdown",
   "id": "d446d807",
   "metadata": {},
   "source": [
    "# 각 사이트별로 탑100 순위에 있는 가수들의 수를 구하시오 "
   ]
  },
  {
   "cell_type": "code",
   "execution_count": null,
   "id": "1a01c88a",
   "metadata": {},
   "outputs": [],
   "source": []
  },
  {
   "cell_type": "code",
   "execution_count": null,
   "id": "a30c03e1",
   "metadata": {},
   "outputs": [],
   "source": []
  },
  {
   "cell_type": "markdown",
   "id": "6f97befc",
   "metadata": {},
   "source": [
    "# 각 사이트별로 각 가수들이 몇 곡씩 탑100안에 순위를 올렸는지 수를 구하시오 "
   ]
  },
  {
   "cell_type": "code",
   "execution_count": null,
   "id": "45fbb875",
   "metadata": {},
   "outputs": [],
   "source": []
  },
  {
   "cell_type": "code",
   "execution_count": null,
   "id": "1d4f71c7",
   "metadata": {},
   "outputs": [],
   "source": []
  },
  {
   "cell_type": "markdown",
   "id": "130d4d5d",
   "metadata": {},
   "source": [
    "# 전체 사이트를 합산하여 가장 인기가 있는 가수 10팀을 구하시오. "
   ]
  },
  {
   "cell_type": "code",
   "execution_count": null,
   "id": "f57bc0f4",
   "metadata": {},
   "outputs": [],
   "source": []
  },
  {
   "cell_type": "code",
   "execution_count": null,
   "id": "9c2021ec",
   "metadata": {},
   "outputs": [],
   "source": []
  },
  {
   "cell_type": "markdown",
   "id": "7b252c30",
   "metadata": {},
   "source": [
    "# 각 사이트별 차트에 아이유의 곡들을 출력하시오 "
   ]
  },
  {
   "cell_type": "code",
   "execution_count": null,
   "id": "f07aa26b",
   "metadata": {},
   "outputs": [],
   "source": []
  },
  {
   "cell_type": "code",
   "execution_count": null,
   "id": "01759f5d",
   "metadata": {},
   "outputs": [],
   "source": []
  },
  {
   "cell_type": "markdown",
   "id": "f4820d13",
   "metadata": {},
   "source": [
    "# 각 사이트별로 아이유 노래들의 평균순위를 구하시오. (정수값) "
   ]
  },
  {
   "cell_type": "code",
   "execution_count": null,
   "id": "55746b5b",
   "metadata": {},
   "outputs": [],
   "source": []
  },
  {
   "cell_type": "code",
   "execution_count": null,
   "id": "ab955858",
   "metadata": {},
   "outputs": [],
   "source": []
  },
  {
   "cell_type": "markdown",
   "id": "81f35c6b",
   "metadata": {},
   "source": [
    "# 제목에  '사랑'이라는 단어가 들어가는 곡들을  출력하시오. "
   ]
  },
  {
   "cell_type": "code",
   "execution_count": null,
   "id": "8f0acfb2",
   "metadata": {},
   "outputs": [],
   "source": []
  },
  {
   "cell_type": "code",
   "execution_count": null,
   "id": "99fb1def",
   "metadata": {},
   "outputs": [],
   "source": []
  },
  {
   "cell_type": "code",
   "execution_count": null,
   "id": "a3b906cd",
   "metadata": {},
   "outputs": [],
   "source": []
  }
 ],
 "metadata": {
  "kernelspec": {
   "display_name": "Python 3",
   "language": "python",
   "name": "python3"
  },
  "language_info": {
   "codemirror_mode": {
    "name": "ipython",
    "version": 3
   },
   "file_extension": ".py",
   "mimetype": "text/x-python",
   "name": "python",
   "nbconvert_exporter": "python",
   "pygments_lexer": "ipython3",
   "version": "3.8.10"
  },
  "toc": {
   "base_numbering": 1,
   "nav_menu": {},
   "number_sections": true,
   "sideBar": true,
   "skip_h1_title": false,
   "title_cell": "Table of Contents",
   "title_sidebar": "Contents",
   "toc_cell": false,
   "toc_position": {
    "height": "calc(100% - 180px)",
    "left": "10px",
    "top": "150px",
    "width": "313px"
   },
   "toc_section_display": true,
   "toc_window_display": true
  }
 },
 "nbformat": 4,
 "nbformat_minor": 5
}
