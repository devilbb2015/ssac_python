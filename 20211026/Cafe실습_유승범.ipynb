{
 "cells": [
  {
   "cell_type": "code",
   "execution_count": 3,
   "id": "b9c63a66",
   "metadata": {},
   "outputs": [],
   "source": [
    "from bs4 import BeautifulSoup\n",
    "import urllib.request\n",
    "import pandas as pd\n",
    "import datetime"
   ]
  },
  {
   "cell_type": "code",
   "execution_count": 66,
   "id": "38b9e151",
   "metadata": {},
   "outputs": [],
   "source": [
    "def pascucci_store(result):\n",
    "#     smoking = \"\"\n",
    "#     parking = \"\"\n",
    "#     internet = \"\"\n",
    "#     area = \"20041000\"\n",
    "    \n",
    "    for page in range(1,10):\n",
    "        Pascucci_url = \"https://www.caffe-pascucci.co.kr/store/storeList.asp?page=%d\" %page\n",
    "#         Pascucci_url2 = \"https://www.caffe-pascucci.co.kr/store/storeList.asp?searchSmoking=%s&searchParking=%s&searchInternet=%s&searchNewStore=&search24Store=&searchCatering=&searchDrivethrough=&searchKey=&page=%d&searchRegion=%d&searchGugun=&searchValue=\"%smoking %parking %internet %area %page\n",
    "        \n",
    "# smoking = Y  parking = Y  internet = Y \n",
    "# area = 경기도 : 20041000 \n",
    "# page\n",
    "\n",
    "        print(Pascucci_url)\n",
    "        html = urllib.request.urlopen(Pascucci_url)\n",
    "        soupPascucci = BeautifulSoup(html, 'html.parser')\n",
    "        tag_tbody = soupPascucci.find('tbody')\n",
    "        \n",
    "        for store in tag_tbody.find_all('tr'):\n",
    "            if len(store) <= 3:\n",
    "                break\n",
    "                \n",
    "            store_td = store.find_all('td')\n",
    "            store_img = store_td[3].find_all('li', {\"alt\":\"주차가능\"})\n",
    "            store_p = store_td[4].find_all('p')\n",
    "            store_span = store_td[5].find_all('span')\n",
    "            stroe_img = \"주차가능\"\n",
    "                        \n",
    "            store_name = store_td[1].string # 지점명\n",
    "            store_sido = store_td[2].string # 시도\n",
    "            store_park = store_img          # 주차가능\n",
    "            store_address = store_p[0].string # 주소\n",
    "            store_phone = store_span[0].string #전화번호\n",
    "            result.append([store_name]+[store_sido]+[store_park]+[store_address]+[store_phone])\n",
    "    \n",
    "    return"
   ]
  },
  {
   "cell_type": "code",
   "execution_count": 67,
   "id": "2b4c8ad0",
   "metadata": {},
   "outputs": [],
   "source": [
    "def main():\n",
    "    result = []\n",
    "    print('파스쿠찌 매장 crawling >>>>>>>>>>>>>>>>>>>>>>>>>>>>>>>>>>>>>>>>')\n",
    "    pascucci_store(result)  # [Code 1] 호출\n",
    "    print('crawling 끝 >>>>>>>>>>>>>>>>>>>>>>>>>>>>>>>>>>>>>>>>>>>>>>>>>')\n",
    "    pascucci_tbl = pd.DataFrame(result, columns = ('store', 'sido-gu', 'park', 'address', 'phone'))\n",
    "    pascucci_tbl.to_csv(\"pascucci.csv\", encoding='cp949', mode='w', index=True)\n",
    "    del result[:]"
   ]
  },
  {
   "cell_type": "code",
   "execution_count": 68,
   "id": "ec460b3f",
   "metadata": {},
   "outputs": [],
   "source": [
    "# def main2():\n",
    "#     result = []"
   ]
  },
  {
   "cell_type": "code",
   "execution_count": 69,
   "id": "0608c646",
   "metadata": {},
   "outputs": [
    {
     "name": "stdout",
     "output_type": "stream",
     "text": [
      "파스쿠찌 매장 crawling >>>>>>>>>>>>>>>>>>>>>>>>>>>>>>>>>>>>>>>>\n",
      "https://www.caffe-pascucci.co.kr/store/storeList.asp?page=1\n",
      "https://www.caffe-pascucci.co.kr/store/storeList.asp?page=2\n",
      "https://www.caffe-pascucci.co.kr/store/storeList.asp?page=3\n",
      "https://www.caffe-pascucci.co.kr/store/storeList.asp?page=4\n",
      "https://www.caffe-pascucci.co.kr/store/storeList.asp?page=5\n",
      "https://www.caffe-pascucci.co.kr/store/storeList.asp?page=6\n",
      "https://www.caffe-pascucci.co.kr/store/storeList.asp?page=7\n",
      "https://www.caffe-pascucci.co.kr/store/storeList.asp?page=8\n",
      "https://www.caffe-pascucci.co.kr/store/storeList.asp?page=9\n",
      "crawling 끝 >>>>>>>>>>>>>>>>>>>>>>>>>>>>>>>>>>>>>>>>>>>>>>>>>\n"
     ]
    }
   ],
   "source": [
    "main()"
   ]
  },
  {
   "cell_type": "code",
   "execution_count": null,
   "id": "cc5ef85d",
   "metadata": {},
   "outputs": [],
   "source": []
  }
 ],
 "metadata": {
  "kernelspec": {
   "display_name": "Python 3",
   "language": "python",
   "name": "python3"
  },
  "language_info": {
   "codemirror_mode": {
    "name": "ipython",
    "version": 3
   },
   "file_extension": ".py",
   "mimetype": "text/x-python",
   "name": "python",
   "nbconvert_exporter": "python",
   "pygments_lexer": "ipython3",
   "version": "3.8.10"
  }
 },
 "nbformat": 4,
 "nbformat_minor": 5
}
