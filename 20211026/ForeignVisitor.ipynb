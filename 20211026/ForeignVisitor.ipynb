{
 "cells": [
  {
   "cell_type": "code",
   "execution_count": 1,
   "id": "870f2ebc",
   "metadata": {},
   "outputs": [
    {
     "name": "stdout",
     "output_type": "stream",
     "text": [
      "Collecting config\n",
      "  Downloading config-0.5.1-py2.py3-none-any.whl (20 kB)\n",
      "Installing collected packages: config\n",
      "Successfully installed config-0.5.1\n"
     ]
    }
   ],
   "source": [
    "#주피터 노트북에서 해당 모듈을 설치할때는 pip 명령어를 사용 ex) !pip install **** or pip install ***\n",
    "!pip install config "
   ]
  },
  {
   "cell_type": "code",
   "execution_count": 3,
   "id": "6860ac21",
   "metadata": {},
   "outputs": [],
   "source": [
    "# 기본 셋팅! 사용할 import를 전부 설정\n",
    "import os\n",
    "import sys\n",
    "import urllib.request\n",
    "import datetime\n",
    "import pandas as pd\n",
    "import time\n",
    "import json\n",
    "from config import *\n",
    "\n",
    "import matplotlib.pyplot as plt\n",
    "import matplotlib"
   ]
  },
  {
   "cell_type": "code",
   "execution_count": null,
   "id": "90d31715",
   "metadata": {},
   "outputs": [],
   "source": [
    "# http://openapi.tour.go.kr/openapi/service/EdrcntTourismStatsService/getEdrcntTourismStatsList"
   ]
  },
  {
   "cell_type": "code",
   "execution_count": 4,
   "id": "c152022c",
   "metadata": {},
   "outputs": [],
   "source": [
    "# [Code 1]\n",
    "\n",
    "# import requests\n",
    "\n",
    "# url = 'http://openapi.tour.go.kr/openapi/service/EdrcntTourismStatsService/getEdrcntTourismStatsList'\n",
    "# params ={'serviceKey' : '서비스키', 'YM' : '201201', 'NAT_CD' : '112', 'ED_CD' : 'D' }\n",
    "\n",
    "# response = requests.get(url, params=params)\n",
    "# print(response.content)\n",
    "\n",
    "def getRequestUrl(url):\n",
    "    \n",
    "    req = urllib.request.Request(url)  # url 불러오기\n",
    "        \n",
    "    try: # 실행\n",
    "        response = urllib.request.urlopen(req)\n",
    "        if response.getcode() == 200:  \n",
    "            print(\"[%s] Url Request Success\" %datetime.datetime.now())\n",
    "            return response.read().decode('utf-8')\n",
    "    except Exception as e: # 에러 예외처리\n",
    "        print(e)\n",
    "        print(\"[%s] Error for URL : % s\" %(datetime.datetime.now(), url))\n",
    "        return None"
   ]
  },
  {
   "cell_type": "code",
   "execution_count": 5,
   "id": "0d73bcb7",
   "metadata": {},
   "outputs": [],
   "source": [
    "# [Code 2]\n",
    "\n",
    "def getTourismStatusItem(yyyymm, nat_cd, ed_cd):\n",
    "    service_url = \"http://openapi.tour.go.kr/openapi/service/EdrcntTourismStatsService/getEdrcntTourismStatsList\"\n",
    "    \n",
    "    parameters = \"?_type=json&serviceKey=\" + serviceKey # 인증키\n",
    "    parameters += \"&YM\" + yyyymm\n",
    "    parameters += \"&NAT_CD=\" + nat_cd\n",
    "    parameters += \"&ED_CD=\" + en_cd\n",
    "    \n",
    "    url = service_url + parameters\n",
    "    \n",
    "    responseDecode = getRequestUrl(url) # [Code 1]\n",
    "    \n",
    "    if(responseDecode == None):\n",
    "        return None\n",
    "    else:\n",
    "        print(\"1\")\n",
    "        return json.loads(responseDecode)"
   ]
  },
  {
   "cell_type": "code",
   "execution_count": 6,
   "id": "14839b50",
   "metadata": {},
   "outputs": [],
   "source": [
    "# [Code 3]\n",
    "def getTourismStatsService(nat_cd, ed_cd, nStartYear, nEndYear):\n",
    "    jsonREsult = []\n",
    "    result = []\n",
    "    for year in range(nStartYear, nEndYear+1):\n",
    "        for month in range(1, 13):\n",
    "            yyyymm = \"{0}{1:0>2}\".format(str(year), str(month))\n",
    "            jsonData = getTourismStatusItem(yyyymm, nat_cd, ed_cd) # [Code 2]\n",
    "            if (jsonData['response']['header']['resultMsg'] == 'OK'):\n",
    "                # 데이터가 없는 마지막 항목인 경우 -------------------------------\n",
    "                if jsonData['response']['body']['items'] == '':\n",
    "                    dataEND = \"{0}{1:0>2}\".format(str(year), star(month-1))\n",
    "                    print(\"데이터 없음.... \\n 제공되는 통계 데이터는 %s년 %s월까지 입니다.\" %(str(year), star(month-1)))\n",
    "                    break\n",
    "                # jsonData를 출력하여 확인 ...........................\n",
    "                print(json.dumps(jsonData, indent = 4, sort_keys = True, ensure_ascii = False))\n",
    "                dataEND = yyyymm\n",
    "                natName = jsonData['response']['body']['items']['num']\n",
    "                natName = naName.replace(' ', '')\n",
    "                num = jsonData['response']['body']['items']['item']['num']\n",
    "                ed = jsonData['response']['body']['items']['item']['ed']\n",
    "                print('[ %s_%s : %s ]' %(natName, yyyymm, num))\n",
    "                print('------------------------------------------------------------')\n",
    "                jsonResult.append({'nat_name': natName, 'nat_cd': nat_cd, 'yyyymm': yyyymm, 'visit_cnt': num})\n",
    "                result.append([natName, nat_cd, yyyymm, num])\n",
    "                \n",
    "    return jsonResult, result, natName, ed, dataEND"
   ]
  },
  {
   "cell_type": "code",
   "execution_count": 8,
   "id": "f0651d14",
   "metadata": {},
   "outputs": [],
   "source": [
    "def main():\n",
    "    \n",
    "    # 중국: 112 / 일본: 130 / 미국: 275    \n",
    "    print(\"<< 국내 입국한 외국인의 통계 데이터를 수집합니다. >>\")\n",
    "    nat_cd = input('국가 코드를 입력하세요(중국: 112 / 일본: 130 / 미국: 275) :')\n",
    "    nStarYear = int(input('데이터를 몇 년부터 수집할까요? : '))\n",
    "    nEndYear = int(input('데이터를 몇 년까지 수집할까요? : '))\n",
    "    ed_cd = \"E\" #E : 방한외래관광객, D : 해외 출국"
   ]
  },
  {
   "cell_type": "code",
   "execution_count": null,
   "id": "ac9965b3",
   "metadata": {},
   "outputs": [],
   "source": []
  }
 ],
 "metadata": {
  "kernelspec": {
   "display_name": "Python 3",
   "language": "python",
   "name": "python3"
  },
  "language_info": {
   "codemirror_mode": {
    "name": "ipython",
    "version": 3
   },
   "file_extension": ".py",
   "mimetype": "text/x-python",
   "name": "python",
   "nbconvert_exporter": "python",
   "pygments_lexer": "ipython3",
   "version": "3.8.10"
  }
 },
 "nbformat": 4,
 "nbformat_minor": 5
}
