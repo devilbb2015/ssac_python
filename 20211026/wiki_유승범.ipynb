{
 "cells": [
  {
   "cell_type": "markdown",
   "id": "2223df55",
   "metadata": {},
   "source": [
    "# 정적 웹 크롤링"
   ]
  },
  {
   "cell_type": "markdown",
   "id": "45466b56",
   "metadata": {},
   "source": [
    "## html 파싱해서 추출하기"
   ]
  },
  {
   "cell_type": "code",
   "execution_count": 7,
   "id": "f49e7904",
   "metadata": {},
   "outputs": [],
   "source": [
    "from bs4 import BeautifulSoup"
   ]
  },
  {
   "cell_type": "code",
   "execution_count": 8,
   "id": "97edb2df",
   "metadata": {},
   "outputs": [],
   "source": [
    "# html을 불러와서 진행해 보자\n",
    "\n",
    "html = open('wiki.html', 'r', encoding='utf-8').read()"
   ]
  },
  {
   "cell_type": "code",
   "execution_count": 10,
   "id": "18e7234c",
   "metadata": {},
   "outputs": [
    {
     "name": "stdout",
     "output_type": "stream",
     "text": [
      "<h1 id=\"title\">\n",
      " 위키-위키백과, 우리 모두의 백과사전\n",
      "</h1>\n",
      "<div class=\"top\">\n",
      " <ul class=\"menu\">\n",
      "  <li>\n",
      "   <a href=\"https://ko.wikipedia.org/wiki/%EC%9C%84%ED%82%A4\">\n",
      "    계정만들기\n",
      "   </a>\n",
      "  </li>\n",
      "  <li>\n",
      "   <a href=\"https://ko.wikipedia.org/wiki/\">\n",
      "    wiki\n",
      "   </a>\n",
      "  </li>\n",
      " </ul>\n",
      " <div>\n",
      " </div>\n",
      "</div>\n"
     ]
    }
   ],
   "source": [
    "soup = BeautifulSoup(html, 'html.parser')\n",
    "print(soup.prettify())"
   ]
  },
  {
   "cell_type": "code",
   "execution_count": 11,
   "id": "cf9274d4",
   "metadata": {},
   "outputs": [
    {
     "name": "stdout",
     "output_type": "stream",
     "text": [
      "<h1 id=\"title\">\n",
      " 위키-위키백과, 우리 모두의 백과사전\n",
      "</h1>\n"
     ]
    }
   ],
   "source": [
    "tag_h1 = soup.h1\n",
    "print(tag_h1)"
   ]
  },
  {
   "cell_type": "code",
   "execution_count": 12,
   "id": "64b4320e",
   "metadata": {},
   "outputs": [
    {
     "name": "stdout",
     "output_type": "stream",
     "text": [
      "<div class=\"top\">\n",
      "<ul class=\"menu\">\n",
      "<li>\n",
      "<a href=\"https://ko.wikipedia.org/wiki/%EC%9C%84%ED%82%A4\">\n",
      "    계정만들기\n",
      "   </a>\n",
      "</li>\n",
      "<li>\n",
      "<a href=\"https://ko.wikipedia.org/wiki/\">\n",
      "    wiki\n",
      "   </a>\n",
      "</li>\n",
      "</ul>\n",
      "<div>\n",
      "</div>\n",
      "</div>\n"
     ]
    }
   ],
   "source": [
    "tag_div = soup.div\n",
    "print(tag_div)"
   ]
  },
  {
   "cell_type": "code",
   "execution_count": 13,
   "id": "f6fe9e53",
   "metadata": {},
   "outputs": [
    {
     "name": "stdout",
     "output_type": "stream",
     "text": [
      "<ul class=\"menu\">\n",
      "<li>\n",
      "<a href=\"https://ko.wikipedia.org/wiki/%EC%9C%84%ED%82%A4\">\n",
      "    계정만들기\n",
      "   </a>\n",
      "</li>\n",
      "<li>\n",
      "<a href=\"https://ko.wikipedia.org/wiki/\">\n",
      "    wiki\n",
      "   </a>\n",
      "</li>\n",
      "</ul>\n"
     ]
    }
   ],
   "source": [
    "tag_ul = soup.ul\n",
    "print(tag_ul)"
   ]
  },
  {
   "cell_type": "code",
   "execution_count": 14,
   "id": "430cd9a1",
   "metadata": {},
   "outputs": [
    {
     "name": "stdout",
     "output_type": "stream",
     "text": [
      "<li>\n",
      "<a href=\"https://ko.wikipedia.org/wiki/%EC%9C%84%ED%82%A4\">\n",
      "    계정만들기\n",
      "   </a>\n",
      "</li>\n"
     ]
    }
   ],
   "source": [
    "tag_li = soup.li\n",
    "print(tag_li)"
   ]
  },
  {
   "cell_type": "code",
   "execution_count": 15,
   "id": "39af4ea0",
   "metadata": {},
   "outputs": [
    {
     "name": "stdout",
     "output_type": "stream",
     "text": [
      "<a href=\"https://ko.wikipedia.org/wiki/%EC%9C%84%ED%82%A4\">\n",
      "    계정만들기\n",
      "   </a>\n"
     ]
    }
   ],
   "source": [
    "tag_a = soup.a\n",
    "print(tag_a)"
   ]
  },
  {
   "cell_type": "code",
   "execution_count": 16,
   "id": "67cfc509",
   "metadata": {},
   "outputs": [
    {
     "data": {
      "text/plain": [
       "[<ul class=\"menu\">\n",
       " <li>\n",
       " <a href=\"https://ko.wikipedia.org/wiki/%EC%9C%84%ED%82%A4\">\n",
       "     계정만들기\n",
       "    </a>\n",
       " </li>\n",
       " <li>\n",
       " <a href=\"https://ko.wikipedia.org/wiki/\">\n",
       "     wiki\n",
       "    </a>\n",
       " </li>\n",
       " </ul>]"
      ]
     },
     "execution_count": 16,
     "metadata": {},
     "output_type": "execute_result"
    }
   ],
   "source": [
    "tag_ul_all = soup.find_all('ul')\n",
    "tag_ul_all"
   ]
  },
  {
   "cell_type": "code",
   "execution_count": 19,
   "id": "09e969ad",
   "metadata": {},
   "outputs": [
    {
     "data": {
      "text/plain": [
       "[<li>\n",
       " <a href=\"https://ko.wikipedia.org/wiki/%EC%9C%84%ED%82%A4\">\n",
       "     계정만들기\n",
       "    </a>\n",
       " </li>,\n",
       " <li>\n",
       " <a href=\"https://ko.wikipedia.org/wiki/\">\n",
       "     wiki\n",
       "    </a>\n",
       " </li>]"
      ]
     },
     "execution_count": 19,
     "metadata": {},
     "output_type": "execute_result"
    }
   ],
   "source": [
    "tag_li_all = soup.find_all('li')\n",
    "tag_li_all"
   ]
  },
  {
   "cell_type": "code",
   "execution_count": 20,
   "id": "1de19217",
   "metadata": {},
   "outputs": [
    {
     "data": {
      "text/plain": [
       "[<a href=\"https://ko.wikipedia.org/wiki/%EC%9C%84%ED%82%A4\">\n",
       "     계정만들기\n",
       "    </a>,\n",
       " <a href=\"https://ko.wikipedia.org/wiki/\">\n",
       "     wiki\n",
       "    </a>]"
      ]
     },
     "execution_count": 20,
     "metadata": {},
     "output_type": "execute_result"
    }
   ],
   "source": [
    "tag_a_all = soup.find_all('a')\n",
    "tag_a_all"
   ]
  },
  {
   "cell_type": "code",
   "execution_count": 28,
   "id": "943738a8",
   "metadata": {},
   "outputs": [
    {
     "data": {
      "text/plain": [
       "[<li>\n",
       " <a href=\"https://ko.wikipedia.org/wiki/%EC%9C%84%ED%82%A4\">\n",
       "     계정만들기\n",
       "    </a>\n",
       " </li>,\n",
       " <li>\n",
       " <a href=\"https://ko.wikipedia.org/wiki/\">\n",
       "     wiki\n",
       "    </a>\n",
       " </li>]"
      ]
     },
     "execution_count": 28,
     "metadata": {},
     "output_type": "execute_result"
    }
   ],
   "source": [
    "tag_a.attrs\n",
    "tag_a['href']\n",
    "tag_div['class']\n",
    "title = soup.find(id=\"title\")\n",
    "title\n",
    "title.string\n",
    "li_list = soup.select(\"div > ul > li\") # div 안에 ul 안에 li 있는 것 선택\n",
    "li_list"
   ]
  },
  {
   "cell_type": "code",
   "execution_count": 29,
   "id": "fd6d3cab",
   "metadata": {},
   "outputs": [
    {
     "name": "stdout",
     "output_type": "stream",
     "text": [
      "None\n",
      "None\n"
     ]
    }
   ],
   "source": [
    "for li in li_list:\n",
    "    print(li.string)"
   ]
  },
  {
   "cell_type": "code",
   "execution_count": 30,
   "id": "5d28d340",
   "metadata": {},
   "outputs": [
    {
     "data": {
      "text/plain": [
       "[<a href=\"https://ko.wikipedia.org/wiki/%EC%9C%84%ED%82%A4\">\n",
       "     계정만들기\n",
       "    </a>,\n",
       " <a href=\"https://ko.wikipedia.org/wiki/\">\n",
       "     wiki\n",
       "    </a>]"
      ]
     },
     "execution_count": 30,
     "metadata": {},
     "output_type": "execute_result"
    }
   ],
   "source": [
    "a_list = soup.select(\"div> ul > li > a\")\n",
    "a_list"
   ]
  },
  {
   "cell_type": "code",
   "execution_count": 31,
   "id": "7bdde052",
   "metadata": {},
   "outputs": [
    {
     "name": "stdout",
     "output_type": "stream",
     "text": [
      "\n",
      "    계정만들기\n",
      "   \n",
      "\n",
      "    wiki\n",
      "   \n"
     ]
    }
   ],
   "source": [
    "for a in a_list:\n",
    "    print(a.string)"
   ]
  },
  {
   "cell_type": "code",
   "execution_count": null,
   "id": "0eef1d11",
   "metadata": {},
   "outputs": [],
   "source": []
  }
 ],
 "metadata": {
  "kernelspec": {
   "display_name": "Python 3",
   "language": "python",
   "name": "python3"
  },
  "language_info": {
   "codemirror_mode": {
    "name": "ipython",
    "version": 3
   },
   "file_extension": ".py",
   "mimetype": "text/x-python",
   "name": "python",
   "nbconvert_exporter": "python",
   "pygments_lexer": "ipython3",
   "version": "3.8.10"
  }
 },
 "nbformat": 4,
 "nbformat_minor": 5
}
