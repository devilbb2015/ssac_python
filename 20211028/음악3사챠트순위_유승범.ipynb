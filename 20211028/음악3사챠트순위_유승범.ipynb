{
 "cells": [
  {
   "cell_type": "code",
   "execution_count": 173,
   "id": "fac05c60",
   "metadata": {},
   "outputs": [],
   "source": [
    "from bs4 import BeautifulSoup as bs\n",
    "import urllib.request as ur\n",
    "import pandas as pd\n",
    "import datetime\n",
    "import requests\n",
    "from selenium import webdriver"
   ]
  },
  {
   "cell_type": "code",
   "execution_count": 164,
   "id": "74198c78",
   "metadata": {},
   "outputs": [],
   "source": [
    "def genie(result):\n",
    "    \n",
    "    \n",
    "    for page in range(1,3):\n",
    "        headers = {'User-Agent' : 'Mozilla/5.0 (Windows NT 10.0; Win64; x64) AppleWebKit/537.36 (KHTML, like Gecko) Chrome/95.0.4638.54 Safari/537.36'}\n",
    "        url = \"https://www.genie.co.kr/chart/top200?ditc=D&ymd=20211028&hh=16&rtm=Y&pg=%d\" %page\n",
    "        html = requests.get(url, headers = headers).text\n",
    "        print(url)\n",
    "        \n",
    "        soup = bs(html, 'html.parser')\n",
    "        \n",
    "        for store in soup.select('tr.list'):\n",
    "                \n",
    "            store_td = store.find_all('td')\n",
    "           \n",
    "            store_rank = store_td[1].text # 순위\n",
    "            store_info = store_td[4].find_all('a') # 가수 및 곡정보\n",
    "            store_info_a = store_info[0].text\n",
    "            \n",
    "            stroe_info_b = store_info_a.strip()\n",
    "            stroe_info_c = stroe_info_b.strip('\\n')\n",
    "            \n",
    "            \n",
    "            result.append([store_rank]+[stroe_info_b])\n",
    "            #body-content > div.newest-list > div > table > tbody > tr:nth-child(1) > td.info > a.title.ellipsis\n",
    "        \n",
    "        print(result)\n",
    "    \n",
    "    return"
   ]
  },
  {
   "cell_type": "code",
   "execution_count": 165,
   "id": "de9263bd",
   "metadata": {},
   "outputs": [],
   "source": [
    "def main1():\n",
    "    result = []\n",
    "    print(\"**********************\")\n",
    "    genie(result)\n",
    "    del result[:]"
   ]
  },
  {
   "cell_type": "code",
   "execution_count": 166,
   "id": "1fafc8f6",
   "metadata": {},
   "outputs": [
    {
     "name": "stdout",
     "output_type": "stream",
     "text": [
      "**********************\n",
      "https://www.genie.co.kr/chart/top200?ditc=D&ymd=20211028&hh=16&rtm=Y&pg=1\n",
      "[['1\\n                                        \\n                                    \\n유지\\n\\n', 'strawberry moon'], ['2\\n                                        \\n                                    \\n유지\\n\\n', '나비효과'], ['3\\n                                        \\n                                    \\n유지\\n\\n', 'Savage'], ['4\\n                                        \\n                                    \\n유지\\n\\n', 'Stay'], ['5\\n                                        \\n                                    \\n유지\\n\\n', '신호등'], ['6\\n                                        \\n                                    \\n유지\\n\\n', 'My Universe'], ['7\\n                                        \\n                                    \\n유지\\n\\n', '다정히 내 이름을 부르면'], ['8\\n                                        \\n                                    \\n유지\\n\\n', 'OHAYO MY NIGHT'], ['9\\n                                        \\n                                    \\n유지\\n\\n', '사랑은 늘 도망가'], ['10\\n                                        \\n                                    \\n유지\\n\\n', 'Next Level'], ['11\\n                                        \\n                                    \\n유지\\n\\n', 'Hey Mama (Feat. Nicki Minaj & Bebe Rexha & Afrojack)'], ['12\\n                                        \\n                                    \\n유지\\n\\n', '낙하 (With 아이유)'], ['13\\n                                        \\n                                    \\n유지\\n\\n', 'Rock with you'], ['14\\n                                        \\n                                    \\n유지\\n\\n', '나의 첫사랑'], ['15\\n                                        \\n                                    \\n1상승\\n\\n', '너를 생각해'], ['16\\n                                        \\n                                    \\n1하강\\n\\n', '바라만 본다'], ['17\\n                                        \\n                                    \\n유지\\n\\n', 'Bad Habits'], ['18\\n                                        \\n                                    \\n2상승\\n\\n', 'Weekend'], ['19\\n                                        \\n                                    \\n1하강\\n\\n', 'Permission to Dance'], ['20\\n                                        \\n                                    \\n1하강\\n\\n', 'Butter'], ['21\\n                                        \\n                                    \\n3상승\\n\\n', 'Peaches (Feat. Daniel Caesar & Giveon)'], ['22\\n                                        \\n                                    \\n4상승\\n\\n', '고백'], ['23\\n                                        \\n                                    \\n2하강\\n\\n', '이제 나만 믿어요'], ['24\\n                                        \\n                                    \\n2하강\\n\\n', '시간을 거슬러 (낮에 뜨는 달 X 케이윌)'], ['25\\n                                        \\n                                    \\n7상승\\n\\n', '좋아좋아'], ['26\\n                                        \\n                                    \\n1하강\\n\\n', '가을 타나 봐'], ['27\\n                                        \\n                                    \\n1상승\\n\\n', 'Dynamite'], ['28\\n                                        \\n                                    \\n5하강\\n\\n', '헤픈 우연'], ['29\\n                                        \\n                                    \\n5상승\\n\\n', '찰나가 영원이 될 때 (The Eternal Moment)'], ['30\\n                                        \\n                                    \\n3하강\\n\\n', '라일락'], ['31\\n                                        \\n                                    \\n5상승\\n\\n', '문득'], ['32\\n                                        \\n                                    \\n2하강\\n\\n', '다시 사랑한다면 (김필 Ver.)'], ['33\\n                                        \\n                                    \\n유지\\n\\n', '너는 내 세상이었어'], ['34\\n                                        \\n                                    \\n3하강\\n\\n', 'Celebrity'], ['35\\n                                        \\n                                    \\n2상승\\n\\n', 'Favorite (Vampire)'], ['36\\n                                        \\n                                    \\n3상승\\n\\n', 'Cold Blooded'], ['37\\n                                        \\n                                    \\n2하강\\n\\n', '여전히 아름다운지'], ['38\\n                                        \\n                                    \\n37상승\\n\\n', '운전만해 (We Ride)'], ['39\\n                                        \\n                                    \\n10하강\\n\\n', '별빛 같은 나의 사랑아'], ['40\\n                                        \\n                                    \\n3상승\\n\\n', '비와 당신'], ['41\\n                                        \\n                                    \\n3상승\\n\\n', '소용돌이'], ['42\\n                                        \\n                                    \\n5상승\\n\\n', 'Queendom'], ['43\\n                                        \\n                                    \\n10상승\\n\\n', 'DUMB DUMB'], ['44\\n                                        \\n                                    \\n3하강\\n\\n', '그대라는 사치'], ['45\\n                                        \\n                                    \\n5상승\\n\\n', 'Crush'], ['46\\n                                        \\n                                    \\n15상승\\n\\n', '비 오는 날 듣기 좋은 노래 (Feat. Colde)'], ['47\\n                                        \\n                                    \\n5하강\\n\\n', 'HERO'], ['48\\n                                        \\n                                    \\n2하강\\n\\n', \"롤린 (Rollin')\"], ['49\\n                                        \\n                                    \\n4하강\\n\\n', '끝사랑'], ['50\\n                                        \\n                                    \\n4상승\\n\\n', '매일 그대라서 행복하다']]\n",
      "https://www.genie.co.kr/chart/top200?ditc=D&ymd=20211028&hh=16&rtm=Y&pg=2\n",
      "[['1\\n                                        \\n                                    \\n유지\\n\\n', 'strawberry moon'], ['2\\n                                        \\n                                    \\n유지\\n\\n', '나비효과'], ['3\\n                                        \\n                                    \\n유지\\n\\n', 'Savage'], ['4\\n                                        \\n                                    \\n유지\\n\\n', 'Stay'], ['5\\n                                        \\n                                    \\n유지\\n\\n', '신호등'], ['6\\n                                        \\n                                    \\n유지\\n\\n', 'My Universe'], ['7\\n                                        \\n                                    \\n유지\\n\\n', '다정히 내 이름을 부르면'], ['8\\n                                        \\n                                    \\n유지\\n\\n', 'OHAYO MY NIGHT'], ['9\\n                                        \\n                                    \\n유지\\n\\n', '사랑은 늘 도망가'], ['10\\n                                        \\n                                    \\n유지\\n\\n', 'Next Level'], ['11\\n                                        \\n                                    \\n유지\\n\\n', 'Hey Mama (Feat. Nicki Minaj & Bebe Rexha & Afrojack)'], ['12\\n                                        \\n                                    \\n유지\\n\\n', '낙하 (With 아이유)'], ['13\\n                                        \\n                                    \\n유지\\n\\n', 'Rock with you'], ['14\\n                                        \\n                                    \\n유지\\n\\n', '나의 첫사랑'], ['15\\n                                        \\n                                    \\n1상승\\n\\n', '너를 생각해'], ['16\\n                                        \\n                                    \\n1하강\\n\\n', '바라만 본다'], ['17\\n                                        \\n                                    \\n유지\\n\\n', 'Bad Habits'], ['18\\n                                        \\n                                    \\n2상승\\n\\n', 'Weekend'], ['19\\n                                        \\n                                    \\n1하강\\n\\n', 'Permission to Dance'], ['20\\n                                        \\n                                    \\n1하강\\n\\n', 'Butter'], ['21\\n                                        \\n                                    \\n3상승\\n\\n', 'Peaches (Feat. Daniel Caesar & Giveon)'], ['22\\n                                        \\n                                    \\n4상승\\n\\n', '고백'], ['23\\n                                        \\n                                    \\n2하강\\n\\n', '이제 나만 믿어요'], ['24\\n                                        \\n                                    \\n2하강\\n\\n', '시간을 거슬러 (낮에 뜨는 달 X 케이윌)'], ['25\\n                                        \\n                                    \\n7상승\\n\\n', '좋아좋아'], ['26\\n                                        \\n                                    \\n1하강\\n\\n', '가을 타나 봐'], ['27\\n                                        \\n                                    \\n1상승\\n\\n', 'Dynamite'], ['28\\n                                        \\n                                    \\n5하강\\n\\n', '헤픈 우연'], ['29\\n                                        \\n                                    \\n5상승\\n\\n', '찰나가 영원이 될 때 (The Eternal Moment)'], ['30\\n                                        \\n                                    \\n3하강\\n\\n', '라일락'], ['31\\n                                        \\n                                    \\n5상승\\n\\n', '문득'], ['32\\n                                        \\n                                    \\n2하강\\n\\n', '다시 사랑한다면 (김필 Ver.)'], ['33\\n                                        \\n                                    \\n유지\\n\\n', '너는 내 세상이었어'], ['34\\n                                        \\n                                    \\n3하강\\n\\n', 'Celebrity'], ['35\\n                                        \\n                                    \\n2상승\\n\\n', 'Favorite (Vampire)'], ['36\\n                                        \\n                                    \\n3상승\\n\\n', 'Cold Blooded'], ['37\\n                                        \\n                                    \\n2하강\\n\\n', '여전히 아름다운지'], ['38\\n                                        \\n                                    \\n37상승\\n\\n', '운전만해 (We Ride)'], ['39\\n                                        \\n                                    \\n10하강\\n\\n', '별빛 같은 나의 사랑아'], ['40\\n                                        \\n                                    \\n3상승\\n\\n', '비와 당신'], ['41\\n                                        \\n                                    \\n3상승\\n\\n', '소용돌이'], ['42\\n                                        \\n                                    \\n5상승\\n\\n', 'Queendom'], ['43\\n                                        \\n                                    \\n10상승\\n\\n', 'DUMB DUMB'], ['44\\n                                        \\n                                    \\n3하강\\n\\n', '그대라는 사치'], ['45\\n                                        \\n                                    \\n5상승\\n\\n', 'Crush'], ['46\\n                                        \\n                                    \\n15상승\\n\\n', '비 오는 날 듣기 좋은 노래 (Feat. Colde)'], ['47\\n                                        \\n                                    \\n5하강\\n\\n', 'HERO'], ['48\\n                                        \\n                                    \\n2하강\\n\\n', \"롤린 (Rollin')\"], ['49\\n                                        \\n                                    \\n4하강\\n\\n', '끝사랑'], ['50\\n                                        \\n                                    \\n4상승\\n\\n', '매일 그대라서 행복하다'], ['51\\n                                        \\n                                    \\n1상승\\n\\n', 'Savage Love (Laxed - Siren Beat) (BTS Remix)'], ['52\\n                                        \\n                                    \\n4하강\\n\\n', '잊었니'], ['53\\n                                        \\n                                    \\n13상승\\n\\n', '에잇 (Prod. & Feat. SUGA of BTS)'], ['54\\n                                        \\n                                    \\n6상승\\n\\n', '그리워하는 것까지'], ['55\\n                                        \\n                                    \\n6하강\\n\\n', 'Bk Love'], ['56\\n                                        \\n                                    \\n7상승\\n\\n', 'PANG!'], ['57\\n                                        \\n                                    \\n1상승\\n\\n', '사이렌 Remix (Feat. UNEDUCATED KID & Paul Blanco)'], ['58\\n                                        \\n                                    \\n20하강\\n\\n', '내 손을 잡아'], ['59\\n                                        \\n                                    \\n4하강\\n\\n', '비가 오는 날엔 (2021)'], ['60\\n                                        \\n                                    \\n20하강\\n\\n', '하루만 더'], ['61\\n                                        \\n                                    \\n4하강\\n\\n', '미워지지가 않아 (Unhateable)'], ['62\\n                                        \\n                                    \\n6상승\\n\\n', '2 MINUS 1 (Digital Only)'], ['63\\n                                        \\n                                    \\n23상승\\n\\n', 'ASAP'], ['64\\n                                        \\n                                    \\n13하강\\n\\n', 'Dun Dun Dance'], ['65\\n                                        \\n                                    \\n6상승\\n\\n', '밝게 빛나는 별이 되어 비춰줄게'], ['66\\n                                        \\n                                    \\n7하강\\n\\n', 'Blueming'], ['67\\n                                        \\n                                    \\n유지\\n\\n', 'At My Worst'], ['68\\n                                        \\n                                    \\n3하강\\n\\n', '2002'], ['69\\n                                        \\n                                    \\n유지\\n\\n', '모든 날, 모든 순간 (Every day, Every Moment)'], ['70\\n                                        \\n                                    \\n3상승\\n\\n', '그리워 그리워'], ['71\\n                                        \\n                                    \\n6상승\\n\\n', '오늘도 빛나는 너에게 (To You My Light) (Feat.이라온)'], ['72\\n                                        \\n                                    \\n8하강\\n\\n', 'Off My Face'], ['73\\n                                        \\n                                    \\n17하강\\n\\n', '작은 것들을 위한 시 (Boy With Luv) (Feat. Halsey)'], ['74\\n                                        \\n                                    \\n5상승\\n\\n', '어떻게 이별까지 사랑하겠어, 널 사랑하는 거지'], ['75\\n                                        \\n                                    \\n3상승\\n\\n', '계단말고 엘리베이터'], ['76\\n                                        \\n                                    \\n16상승\\n\\n', '색안경 (STEREOTYPE)'], ['77\\n                                        \\n                                    \\n15하강\\n\\n', 'METEOR'], ['78\\n                                        \\n                                    \\n3상승\\n\\n', '아로하'], ['79\\n                                        \\n                                    \\n3하강\\n\\n', 'Timeless'], ['80\\n                                        \\n                                    \\n8하강\\n\\n', '가을 우체국 앞에서'], ['81\\n                                        \\n                                    \\n29상승\\n\\n', '상상더하기'], ['82\\n                                        \\n                                    \\n12하강\\n\\n', '흔들리는 꽃들 속에서 네 샴푸향이 느껴진거야'], ['83\\n                                        \\n                                    \\n4상승\\n\\n', '어푸 (Ah puh)'], ['84\\n                                        \\n                                    \\n2하강\\n\\n', '찬란한 계절'], ['85\\n                                        \\n                                    \\n5하강\\n\\n', 'Ready to love'], ['86\\n                                        \\n                                    \\n2하강\\n\\n', '12 : 45 (Stripped)'], ['87\\n                                        \\n                                    \\n2상승\\n\\n', 'LOCO'], ['88\\n                                        \\n                                    \\n5하강\\n\\n', '봄날'], ['89\\n                                        \\n                                    \\n5상승\\n\\n', '멜로디'], ['90\\n                                        \\n                                    \\n16하강\\n\\n', '밤하늘의 별을 (2020)'], ['91\\n                                        \\n                                    \\n1하강\\n\\n', 'Life Goes On'], ['92\\n                                        \\n                                    \\n34상승\\n\\n', '늦은 밤 너의 집 앞 골목길에서'], ['93\\n                                        \\n                                    \\n8하강\\n\\n', '오래된 노래'], ['94\\n                                        \\n                                    \\n3하강\\n\\n', '치맛바람 (Chi Mat Ba Ram)'], ['95\\n                                        \\n                                    \\n3상승\\n\\n', '가르치지마'], ['96\\n                                        \\n                                    \\n8하강\\n\\n', '빨간 립스틱 (Feat. 윤미래)'], ['97\\n                                        \\n                                    \\n7상승\\n\\n', 'Kiss Me More (Feat. SZA)'], ['98\\n                                        \\n                                    \\n19상승\\n\\n', '취기를 빌려 (취향저격 그녀 X 산들)'], ['99\\n                                        \\n                                    \\n유지\\n\\n', 'VVS (Feat. JUSTHIS) (Prod. by GroovyRoom)'], ['100\\n                                        \\n                                    \\n7상승\\n\\n', 'Brand (Feat. 래원 (Layone))']]\n"
     ]
    }
   ],
   "source": [
    "main1()"
   ]
  },
  {
   "cell_type": "code",
   "execution_count": 180,
   "id": "ee008977",
   "metadata": {},
   "outputs": [],
   "source": [
    "def melon(result):\n",
    "    rank_title = []\n",
    "    rank_singer = []\n",
    "    rank_rank = []\n",
    "    rank_musician = []\n",
    "    \n",
    "    driver = webdriver.Chrome(\"../chromedriver\")\n",
    "    driver.get('https://www.melon.com/chart/index.htm')\n",
    "\n",
    "    soup = BeautifulSoup(driver.page_source)\n",
    "    title = soup.select('div.rank01 > span > a')\n",
    "    musician = soup.select('div.rank02 > a')\n",
    "    rank = soup.select('span.rank')\n",
    "\n",
    "    for i in title:\n",
    "        rank_title.append(i.text)\n",
    "\n",
    "    for j in musician:\n",
    "        rank_musician.append(j.text)\n",
    "\n",
    "    for k in rank[1:]:\n",
    "        rank_rank.append(k.text)\n",
    "\n",
    "    rank_li = list(zip(rank_rank, rank_title, rank_musician))\n",
    "\n",
    "    for li in rank_li:\n",
    "        print(li)\n",
    "    return"
   ]
  },
  {
   "cell_type": "code",
   "execution_count": 181,
   "id": "f50feb38",
   "metadata": {},
   "outputs": [],
   "source": [
    "def main2():\n",
    "    result = []\n",
    "    print(\"**********************\")\n",
    "    melon(result)\n",
    "    del result[:]"
   ]
  },
  {
   "cell_type": "code",
   "execution_count": 182,
   "id": "3de17c87",
   "metadata": {},
   "outputs": [
    {
     "name": "stdout",
     "output_type": "stream",
     "text": [
      "**********************\n"
     ]
    },
    {
     "name": "stderr",
     "output_type": "stream",
     "text": [
      "<ipython-input-180-d7b007cdbd9d>:7: DeprecationWarning: executable_path has been deprecated, please pass in a Service object\n",
      "  driver = webdriver.Chrome(\"../chromedriver\")\n"
     ]
    },
    {
     "name": "stdout",
     "output_type": "stream",
     "text": [
      "('1', 'strawberry moon', '아이유')\n",
      "('2', 'Savage', 'aespa')\n",
      "('3', 'STAY', 'The Kid LAROI')\n",
      "('4', '신호등', 'Justin Bieber')\n",
      "('5', '사랑은 늘 도망가', '이무진')\n",
      "('6', 'My Universe', '임영웅')\n",
      "('7', 'Next Level', 'Coldplay')\n",
      "('8', '다정히 내 이름을 부르면', '방탄소년단')\n",
      "('9', 'OHAYO MY NIGHT', 'aespa')\n",
      "('10', '낙하 (with 아이유)', '경서예지')\n",
      "('11', 'Rock with you', '전건호')\n",
      "('12', 'Permission to Dance', '디핵 (D-Hack)')\n",
      "('13', '바라만 본다', 'PATEKO (파테코)')\n",
      "('14', 'Butter', 'AKMU (악뮤)')\n",
      "('15', '너를 생각해', '세븐틴')\n",
      "('16', 'Weekend', '방탄소년단')\n",
      "('17', '이제 나만 믿어요', 'MSG워너비(M.O.M)')\n",
      "('18', 'Peaches (Feat. Daniel Caesar & Giveon)', '방탄소년단')\n",
      "('19', 'Bad Habits', '주시크 (Joosiq)')\n",
      "('20', 'Dynamite', '태연 (TAEYEON)')\n",
      "('21', '헤픈 우연', '임영웅')\n",
      "('22', 'Favorite (Vampire)', 'Justin Bieber')\n",
      "('23', '그대라는 사치', 'Ed Sheeran')\n",
      "('24', '고백', '방탄소년단')\n",
      "('25', '별빛 같은 나의 사랑아', '헤이즈 (Heize)')\n",
      "('26', '나비효과', 'NCT 127')\n",
      "('27', '여전히 아름다운지', '임영웅')\n",
      "('28', '다시 사랑한다면 (김필 Ver.)', '멜로망스')\n",
      "('29', '좋아좋아', '임영웅')\n",
      "('30', '시간을 거슬러 (낮에 뜨는 달 X 케이윌)', '볼빨간사춘기')\n",
      "('31', '라일락', '세븐틴')\n",
      "('32', 'HERO', '임영웅')\n",
      "('33', 'Celebrity', '조정석')\n",
      "('34', '잊었니', '케이윌')\n",
      "('35', '끝사랑', '아이유')\n",
      "('36', 'Queendom', '임영웅')\n",
      "('37', 'DUMB DUMB', '아이유')\n",
      "('38', 'Bk Love', '임영웅')\n",
      "('39', '소용돌이', '임영웅')\n",
      "('40', '찰나가 영원이 될 때 (The Eternal Moment)', 'Red Velvet (레드벨벳)')\n",
      "('41', \"롤린 (Rollin')\", '전소미')\n",
      "('42', 'Crush', '임영웅')\n",
      "('43', '사이렌 Remix (Feat. UNEDUCATED KID, Paul Blanco)', '세븐틴')\n",
      "('44', 'Dun Dun Dance', '마크툽 (MAKTUB)')\n",
      "('45', '비와 당신', '브레이브걸스')\n",
      "('46', '매일 그대라서 행복하다', '세븐틴')\n",
      "('47', '가을 타나 봐', '호미들')\n",
      "('48', '너는 내 세상이었어', '오마이걸 (OH MY GIRL)')\n",
      "('49', '내 손을 잡아', '이무진')\n",
      "('50', 'Off My Face', '세븐틴')\n",
      "('51', '비가 오는 날엔 (2021)', '이무진')\n",
      "('52', '그리워하는 것까지', '볼빨간사춘기')\n",
      "('53', 'PANG!', '아이유')\n",
      "('54', 'Savage Love (Laxed - Siren Beat) (BTS Remix)', 'Justin Bieber')\n",
      "('55', 'ASAP', '헤이즈 (Heize)')\n",
      "('56', '밝게 빛나는 별이 되어 비춰줄게', '세븐틴')\n",
      "('57', '2 MINUS 1 (Digital Only)', '세븐틴')\n",
      "('58', '나의 첫사랑', 'Jawsh 685')\n",
      "('59', '색안경 (STEREOTYPE)', 'Jason Derulo')\n",
      "('60', 'Cold Blooded', '방탄소년단')\n",
      "('61', '어떻게 이별까지 사랑하겠어, 널 사랑하는 거지', 'STAYC(스테이씨)')\n",
      "('62', '작은 것들을 위한 시 (Boy With Luv) (Feat. Halsey)', '송이한')\n",
      "('63', '하루만 더', '세븐틴')\n",
      "('64', '추억은 만남보다 이별에 남아', '다비치')\n",
      "('65', 'LOCO', 'STAYC(스테이씨)')\n",
      "('66', 'Blueming', '제시 (Jessi)')\n",
      "('67', '밤하늘의 별을(2020)', 'AKMU (악뮤)')\n",
      "('68', '봄날', '방탄소년단')\n",
      "('69', '모든 날, 모든 순간 (Every day, Every Moment)', '빅마마')\n",
      "('70', '계단말고 엘리베이터', '정동하')\n",
      "('71', 'Sticker', 'ITZY (있지)')\n",
      "('72', 'Lovesick Girls', '아이유')\n",
      "('73', '에잇(Prod.&Feat. SUGA of BTS)', '경서')\n",
      "('74', '가을 우체국 앞에서', '방탄소년단')\n",
      "('75', '멜로디', '폴킴')\n",
      "('76', '오늘도 빛나는 너에게 (To You My Light) (Feat.이라온)', '임영웅')\n",
      "('77', '취기를 빌려 (취향저격 그녀 X 산들)', 'NCT 127')\n",
      "('78', 'Life Goes On', 'BLACKPINK')\n",
      "('79', '미워지지가 않아 (Unhateable)', '아이유')\n",
      "('80', 'Hey Mama (Feat. Nicki Minaj, Bebe Rexha & Afrojack)', '김대명')\n",
      "('81', '그날에 나는 맘이 편했을까', 'ASH ISLAND')\n",
      "('82', 'Ready to love', '마크툽 (MAKTUB)')\n",
      "('83', '잠이 오질 않네요', '산들')\n",
      "('84', 'Timeless', '방탄소년단')\n",
      "('85', '어푸 (Ah puh)', '노을')\n",
      "('86', '아로하', 'David Guetta')\n",
      "('87', '흔들리는 꽃들 속에서 네 샴푸향이 느껴진거야', '이예준')\n",
      "('88', '오래된 노래', '세븐틴')\n",
      "('89', 'METEOR', '장범준')\n",
      "('90', '2002', 'SG 워너비')\n",
      "('91', '운전만해 (We Ride)', '아이유')\n",
      "('92', '그리워 그리워', '조정석')\n",
      "('93', '안녕 (Hello)', '장범준')\n",
      "('94', '사랑은 언제나 목마르다 (N번째 연애 X 이해리 (다비치))', '스탠딩 에그')\n",
      "('95', '역겹겠지만 (Remember me)', '창모 (CHANGMO)')\n",
      "('96', '고백', 'Anne-Marie')\n",
      "('97', '치맛바람 (Chi Mat Ba Ram)', '브레이브걸스')\n",
      "('98', 'Alcohol-Free', '이예준')\n",
      "('99', '사실 나는 (Feat.전건호)', '조이 (JOY)')\n",
      "('100', 'Love On The Floor', '이해리 (다비치)')\n"
     ]
    }
   ],
   "source": [
    "main2()"
   ]
  },
  {
   "cell_type": "code",
   "execution_count": 191,
   "id": "3f41a21e",
   "metadata": {},
   "outputs": [
    {
     "name": "stderr",
     "output_type": "stream",
     "text": [
      "<ipython-input-191-444c36ea03c8>:7: DeprecationWarning: executable_path has been deprecated, please pass in a Service object\n",
      "  driver = webdriver.Chrome(\"../chromedriver\")\n"
     ]
    },
    {
     "ename": "TypeError",
     "evalue": "'NoneType' object is not callable",
     "output_type": "error",
     "traceback": [
      "\u001b[1;31m---------------------------------------------------------------------------\u001b[0m",
      "\u001b[1;31mTypeError\u001b[0m                                 Traceback (most recent call last)",
      "\u001b[1;32m<ipython-input-191-444c36ea03c8>\u001b[0m in \u001b[0;36m<module>\u001b[1;34m\u001b[0m\n\u001b[0;32m     18\u001b[0m     \u001b[0ms3\u001b[0m \u001b[1;33m=\u001b[0m \u001b[0mstore_td\u001b[0m\u001b[1;33m[\u001b[0m\u001b[1;36m4\u001b[0m\u001b[1;33m]\u001b[0m\u001b[1;33m.\u001b[0m\u001b[0mtext\u001b[0m\u001b[1;33m\u001b[0m\u001b[1;33m\u001b[0m\u001b[0m\n\u001b[0;32m     19\u001b[0m \u001b[1;33m\u001b[0m\u001b[0m\n\u001b[1;32m---> 20\u001b[1;33m     \u001b[0mresult\u001b[0m\u001b[1;33m.\u001b[0m\u001b[0mappend\u001b[0m\u001b[1;33m(\u001b[0m\u001b[1;33m[\u001b[0m\u001b[0ms1\u001b[0m\u001b[1;33m.\u001b[0m\u001b[0mstrip\u001b[0m\u001b[1;33m(\u001b[0m\u001b[1;34m'\\n'\u001b[0m\u001b[1;33m)\u001b[0m\u001b[1;33m]\u001b[0m\u001b[1;33m+\u001b[0m\u001b[1;33m[\u001b[0m\u001b[0mstore_th\u001b[0m\u001b[1;33m.\u001b[0m\u001b[0mstrip\u001b[0m\u001b[1;33m(\u001b[0m\u001b[1;34m'\\n'\u001b[0m\u001b[1;33m)\u001b[0m\u001b[1;33m]\u001b[0m\u001b[1;33m+\u001b[0m\u001b[1;33m[\u001b[0m\u001b[0ms3\u001b[0m\u001b[1;33m.\u001b[0m\u001b[0mstrip\u001b[0m\u001b[1;33m(\u001b[0m\u001b[1;34m'\\n'\u001b[0m\u001b[1;33m)\u001b[0m\u001b[1;33m]\u001b[0m\u001b[1;33m)\u001b[0m\u001b[1;33m\u001b[0m\u001b[1;33m\u001b[0m\u001b[0m\n\u001b[0m\u001b[0;32m     21\u001b[0m \u001b[1;33m\u001b[0m\u001b[0m\n\u001b[0;32m     22\u001b[0m     \u001b[1;32mfor\u001b[0m \u001b[0mi\u001b[0m \u001b[1;32min\u001b[0m \u001b[0mresult\u001b[0m\u001b[1;33m:\u001b[0m\u001b[1;33m\u001b[0m\u001b[1;33m\u001b[0m\u001b[0m\n",
      "\u001b[1;31mTypeError\u001b[0m: 'NoneType' object is not callable"
     ]
    }
   ],
   "source": [
    "bugs_title = []\n",
    "bugs_singer = []\n",
    "bugs_rank = []\n",
    "bugs_musician = []\n",
    "result = []\n",
    "\n",
    "driver = webdriver.Chrome(\"../chromedriver\")\n",
    "driver.get('https://music.bugs.co.kr/chart')\n",
    "\n",
    "soup = BeautifulSoup(driver.page_source)\n",
    "tag_tbody = soup.find('tbody')\n",
    "\n",
    "for store in tag_tbody.find_all('tr'):\n",
    "    store_td = store.find_all('td')\n",
    "    store_th = store.find('th')\n",
    "    s1 = store_td[1].text\n",
    "    \n",
    "    s3 = store_td[4].text\n",
    "    \n",
    "    result.append([s1.strip('\\n')]+[store_th.strip('\\n')]+[s3.strip('\\n')])\n",
    "    \n",
    "    for i in result:\n",
    "        print(i)\n",
    "    \n",
    "\n",
    "# ss = driver.find_element_by_class_name('sido_arae_box')\n",
    "# s1 = ss.find_elements_by_tag_name('li')\n"
   ]
  },
  {
   "cell_type": "code",
   "execution_count": null,
   "id": "88ca69d6",
   "metadata": {},
   "outputs": [],
   "source": []
  }
 ],
 "metadata": {
  "kernelspec": {
   "display_name": "Python 3",
   "language": "python",
   "name": "python3"
  },
  "language_info": {
   "codemirror_mode": {
    "name": "ipython",
    "version": 3
   },
   "file_extension": ".py",
   "mimetype": "text/x-python",
   "name": "python",
   "nbconvert_exporter": "python",
   "pygments_lexer": "ipython3",
   "version": "3.8.10"
  }
 },
 "nbformat": 4,
 "nbformat_minor": 5
}
