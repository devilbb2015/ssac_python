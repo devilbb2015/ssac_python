{
 "cells": [
  {
   "cell_type": "code",
   "execution_count": 64,
   "id": "0a5e8b13",
   "metadata": {},
   "outputs": [],
   "source": [
    "# 셋팅 하기 - 필요한 모듈/라이브러리 모두 호출하기!\n",
    "import os\n",
    "import sys\n",
    "import urllib.request\n",
    "import datetime\n",
    "import time\n",
    "import json"
   ]
  },
  {
   "cell_type": "code",
   "execution_count": 65,
   "id": "fd2cd716",
   "metadata": {},
   "outputs": [],
   "source": [
    "# 네이버 개발자에서 생성한 API 호출 ID, PWD 가져오기\n",
    "client_id = \"eqTP5XcwlDYyaCiKB7my\"\n",
    "client_secret = \"HU1HBaixz7\""
   ]
  },
  {
   "cell_type": "code",
   "execution_count": 81,
   "id": "4d341b02",
   "metadata": {},
   "outputs": [],
   "source": [
    "# [code 1]\n",
    "\n",
    "# getRequestUrl 함수를 정의하여서 생성\n",
    "def getRequestUrl(url):\n",
    "    \n",
    "    # urlib.request.Request(url) => Url 요청 = 호출\n",
    "    req = urllib.request.Request(url)  # url 불러오기\n",
    "    req.add_header(\"X-Naver-Client-id\", client_id)  # Naver api 사용 .id를 검색 url header에 넣어줘야 함\n",
    "    req.add_header(\"X-Naver-Client-Secret\", client_secret)\n",
    "    \n",
    "    # 예외처리문으로 구성해서 네이버 서버의 응답을 확인\n",
    "    # 서버 코드 200 = Success!\n",
    "    \n",
    "    try: # 실행\n",
    "        response = urllib.request.urlopen(req)\n",
    "        if response.getcode() == 200:  # 성공적 응답은 서버 코드 200\n",
    "            print(\"[%s] Url Request Success\" %datetime.datetime.now())\n",
    "            return response.read().decode('utf-8')\n",
    "    except Exception as e: # 에러 예외처리\n",
    "        print(e)\n",
    "        print(\"[%s] Error for URL : % s\" %(datetime.datetime.now(), url))\n",
    "        return None"
   ]
  },
  {
   "cell_type": "code",
   "execution_count": 82,
   "id": "ba8d9a45",
   "metadata": {},
   "outputs": [],
   "source": [
    "# [code 2]\n",
    "\n",
    "def getNaverSearch(node, scrText, start, display): # node = 뉴스....\n",
    "    # 네이버 검색 API 정보로 URL을 구성한다.\n",
    "    base = \"https://openapi.naver.com/v1/search\"\n",
    "    node = \"/%s.json\" %node\n",
    "    parameters = \"?query=%s&start=%s&display=%s\" %(urllib.parse.quote(scrText), start, display)\n",
    "    \n",
    "    url = base + node + parameters\n",
    "    \n",
    "    # 만들어진 URL을 이용하여 getRequestUrl() 호출해서 받은 utf-8 디코드 응답을 responseDecode에 저장\n",
    "    responseDecode = getRequestUrl(url) # [code 1]\n",
    "    \n",
    "    if (responseDecode ==  None):\n",
    "        return None\n",
    "    else:\n",
    "        return json.loads(responseDecode) \n",
    "    # 서버에서 받은 Json 형태의 응답객체를 파이썬 객체로 로드하여 반환"
   ]
  },
  {
   "cell_type": "code",
   "execution_count": 83,
   "id": "e1d83ca7",
   "metadata": {},
   "outputs": [],
   "source": [
    "# [code 3]\n",
    "\n",
    "# getPostData함수를 정의해서 검색결과에서 필요한 데이터 형식의 \n",
    "def getPostData(post, jsonResult, cnt): #cnt = 검색된 count 숫자\n",
    "    title = post['title']\n",
    "    description = post['description']\n",
    "    org_link = post['originallink']\n",
    "    link = post['link']\n",
    "    \n",
    "    # 네이버에서 제공하는 시간형식을 우리가 필요한 형식으로 전환\n",
    "    # Tue, 14 Feb 2017 18:46:00 = 0900\n",
    "    pDate = datetime.datetime.strptime(post['pubDate'], '%a, %d %b %Y %H:%M:%S +0900')\n",
    "    pDate = pDate.strftime('%Y-%m-%d %H:%M:%S') # 연-월-일, 시:분:초\n",
    "    \n",
    "    jsonResult.append({'cnt':cnt, 'title':title, 'description': description, 'org_link':org_link, 'link':link, 'pDate':pDate})\n",
    "    # 딕셔너리 형태의 {키:값}으로 구성해서 jsonResult로 구성\n",
    "    return\n",
    "                                       "
   ]
  },
  {
   "cell_type": "code",
   "execution_count": 88,
   "id": "21251631",
   "metadata": {},
   "outputs": [],
   "source": [
    "def main():\n",
    "    node = \"news\" #크롤링할 대상\n",
    "    srcText = input('검색어를 입력하세요: ')\n",
    "    cnt = 0\n",
    "    jsonResult = []\n",
    "    \n",
    "    jsonResponse = getNaverSearch(node, srcText, 1, 100) # [Code 2]\n",
    "    total = jsonResponse['total']\n",
    "    \n",
    "    while((jsonResponse !=None) and (jsonResponse['display'] != 0)):\n",
    "        for post in jsonResponse['items']:\n",
    "            cnt +=1\n",
    "            getPostData(post, jsonResult, cnt) #[Code 3]\n",
    "            \n",
    "        start = jsonResponse['start'] + jsonResponse['display']\n",
    "        jsonResponse = getNaverSearch(node, srcText, start, 100) #[Code 2]\n",
    "        \n",
    "    print('전체 검색: %d 건' %total)\n",
    "    \n",
    "    with open('%s_naver_%s.json' % (srcText, node), 'w', encoding='utf-8') as outfile:\n",
    "        jsonFile = json.dumps(jsonResult, indent=4, sort_keys= True, ensure_ascii=False)\n",
    "        outfile.write(jsonFile) # json 파일로 저장하기\n",
    "        \n",
    "    print(\"가져온 데이터: %d건\" %(cnt))\n",
    "    print('%s_naver_%s.json SAVED' % (srcText, node))"
   ]
  },
  {
   "cell_type": "code",
   "execution_count": 90,
   "id": "c95c4ef2",
   "metadata": {},
   "outputs": [
    {
     "name": "stdout",
     "output_type": "stream",
     "text": [
      "검색어를 입력하세요: 오징어게임\n",
      "[2021-10-26 11:54:14.359992] Url Request Success\n",
      "[2021-10-26 11:54:14.469030] Url Request Success\n",
      "[2021-10-26 11:54:14.601395] Url Request Success\n",
      "[2021-10-26 11:54:14.718168] Url Request Success\n",
      "[2021-10-26 11:54:14.852562] Url Request Success\n",
      "[2021-10-26 11:54:14.949960] Url Request Success\n",
      "[2021-10-26 11:54:15.088420] Url Request Success\n",
      "[2021-10-26 11:54:15.204412] Url Request Success\n",
      "[2021-10-26 11:54:15.321528] Url Request Success\n",
      "[2021-10-26 11:54:15.429528] Url Request Success\n",
      "HTTP Error 400: Bad Request\n",
      "[2021-10-26 11:54:15.568401] Error for URL : https://openapi.naver.com/v1/search/news.json?query=%EC%98%A4%EC%A7%95%EC%96%B4%EA%B2%8C%EC%9E%84&start=1001&display=100\n",
      "전체 검색: 24476 건\n",
      "가져온 데이터: 1000건\n",
      "오징어게임_naver_news.json SAVED\n"
     ]
    }
   ],
   "source": [
    "main()"
   ]
  },
  {
   "cell_type": "code",
   "execution_count": null,
   "id": "7bcf5d54",
   "metadata": {},
   "outputs": [],
   "source": []
  }
 ],
 "metadata": {
  "kernelspec": {
   "display_name": "Python 3",
   "language": "python",
   "name": "python3"
  },
  "language_info": {
   "codemirror_mode": {
    "name": "ipython",
    "version": 3
   },
   "file_extension": ".py",
   "mimetype": "text/x-python",
   "name": "python",
   "nbconvert_exporter": "python",
   "pygments_lexer": "ipython3",
   "version": "3.8.10"
  }
 },
 "nbformat": 4,
 "nbformat_minor": 5
}
