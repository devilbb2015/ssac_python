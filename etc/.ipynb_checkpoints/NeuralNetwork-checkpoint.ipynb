{
 "cells": [
  {
   "cell_type": "markdown",
   "id": "abc2db6b",
   "metadata": {},
   "source": [
    "## 신경망 만들기"
   ]
  },
  {
   "cell_type": "markdown",
   "id": "d8f041ca",
   "metadata": {},
   "source": [
    "Step 1. 기본 클래스 만들기\n",
    " - 구조정의\n",
    " - 학습\n",
    " - 추론"
   ]
  },
  {
   "cell_type": "code",
   "execution_count": 2,
   "id": "13117dbd",
   "metadata": {},
   "outputs": [],
   "source": [
    "import numpy as np\n",
    "import scipy.special"
   ]
  },
  {
   "cell_type": "code",
   "execution_count": 3,
   "id": "a8b791c5",
   "metadata": {},
   "outputs": [],
   "source": [
    "class MyNeuralNet:\n",
    "    def __init__(self, inputnodes, hiddennodes, outputnodes, learningrate):\n",
    "        \n",
    "        # 입력, 은닉, 출력 계층의 노드 갯수 설정\n",
    "        self.innode = inputnodes\n",
    "        self.hnode = hiddennodes\n",
    "        self.outnode = outputnodes\n",
    "        \n",
    "        # 학습률\n",
    "        self.lr = learningrate\n",
    "        \n",
    "        self.wih = np.random.rand(self.hnode, self.innode) - 0.5\n",
    "        self.who = np.random.rand(self.outnode, self.hnode) - 0.5\n",
    "        \n",
    "        pass\n",
    "        \n",
    "    def printWeight(self):\n",
    "        print(self.wih.shape, self.wih)\n",
    "        print(self.who.shape, self.who)\n",
    "    \n",
    "    # forward and backword\n",
    "    def train(self, input_list, target_list):\n",
    "        \n",
    "        input = np.array(input_list, ndmin= 2).T\n",
    "        \n",
    "        # input -> hidden\n",
    "        hidden_input = np.dot(self.wih, input)\n",
    "        hidden_output = scipy.special.expit(hidden_input)\n",
    "        \n",
    "        # hidden -> output\n",
    "        output_hidden = np.dot(self.who, hidden_output)\n",
    "        final_outputs = scipy.special.expit(output_hidden)\n",
    "        \n",
    "        # Get Error\n",
    "        targets = np.array(target_list, ndmin=2).T\n",
    "        \n",
    "        output_error = targets - final_outputs\n",
    "        hidden_error = np.dot(self.who.T, output_error)\n",
    "        \n",
    "        # Update weight\n",
    "        self.who += self.lr * np.dot((output_error * final_outputs) * (1.0 - final_outputs), np.transpose(hidden_output))\n",
    "        self.wih += self.lr * np.dot((hidden_error * hidden_output) * (1.0 - hidden_output), np.transpose(input))\n",
    "        \n",
    "    # forward\n",
    "    def inference(self, input_list):\n",
    "        input = np.array(input_list, ndmin= 2).T\n",
    "        \n",
    "        # input -> hidden\n",
    "        hidden_input = np.dot(self.wih, input)\n",
    "        hidden_output = scipy.special.expit(hidden_input)\n",
    "        \n",
    "        # hidden -> output\n",
    "        output_hidden = np.dot(self.who, hidden_output)\n",
    "        final_output = scipy.special.expit(output_hidden)\n",
    "                        \n",
    "        return final_output\n"
   ]
  },
  {
   "cell_type": "code",
   "execution_count": 4,
   "id": "e3858299",
   "metadata": {},
   "outputs": [
    {
     "name": "stdout",
     "output_type": "stream",
     "text": [
      "[[0.77473532]\n",
      " [0.71479948]\n",
      " [0.48061242]]\n",
      "[[0.76194456]\n",
      " [0.68163066]\n",
      " [0.44522285]]\n"
     ]
    }
   ],
   "source": [
    "net = MyNeuralNet(4, 5, 3, 0.5)\n",
    "print(net.inference([10, 10, 20, 20]))\n",
    "net.train([10, 20, 40, 50], [0.5, 0.2, 0.1])\n",
    "print(net.inference([10, 10, 20, 20]))"
   ]
  },
  {
   "cell_type": "code",
   "execution_count": null,
   "id": "98aeb7b7",
   "metadata": {},
   "outputs": [],
   "source": []
  }
 ],
 "metadata": {
  "kernelspec": {
   "display_name": "Python 3",
   "language": "python",
   "name": "python3"
  },
  "language_info": {
   "codemirror_mode": {
    "name": "ipython",
    "version": 3
   },
   "file_extension": ".py",
   "mimetype": "text/x-python",
   "name": "python",
   "nbconvert_exporter": "python",
   "pygments_lexer": "ipython3",
   "version": "3.8.10"
  },
  "toc": {
   "base_numbering": 1,
   "nav_menu": {},
   "number_sections": true,
   "sideBar": true,
   "skip_h1_title": false,
   "title_cell": "Table of Contents",
   "title_sidebar": "Contents",
   "toc_cell": false,
   "toc_position": {},
   "toc_section_display": true,
   "toc_window_display": false
  }
 },
 "nbformat": 4,
 "nbformat_minor": 5
}
