{
 "cells": [
  {
   "cell_type": "code",
   "execution_count": 1,
   "id": "95278c0a",
   "metadata": {},
   "outputs": [
    {
     "name": "stdout",
     "output_type": "stream",
     "text": [
      "10 70\n",
      "70\n",
      "Nothing to report\n",
      "80\n",
      "ALERT!\n",
      "-999\n"
     ]
    }
   ],
   "source": [
    "# input은 string이니 map으로 int형으로\n",
    "n = list(map(int, input().split()))\n",
    "n.sort() # 값 정렬\n",
    "while True:\n",
    "    temperature = int(input())\n",
    "    if(n[0] <= temperature <= n[1]):\n",
    "        print('Nothing to report')\n",
    "    else:\n",
    "        print('ALERT!')\n",
    "        break\n",
    "        \n",
    "print(-999)"
   ]
  },
  {
   "cell_type": "code",
   "execution_count": null,
   "id": "c627594f",
   "metadata": {},
   "outputs": [],
   "source": []
  }
 ],
 "metadata": {
  "kernelspec": {
   "display_name": "Python 3",
   "language": "python",
   "name": "python3"
  },
  "language_info": {
   "codemirror_mode": {
    "name": "ipython",
    "version": 3
   },
   "file_extension": ".py",
   "mimetype": "text/x-python",
   "name": "python",
   "nbconvert_exporter": "python",
   "pygments_lexer": "ipython3",
   "version": "3.8.10"
  }
 },
 "nbformat": 4,
 "nbformat_minor": 5
}
