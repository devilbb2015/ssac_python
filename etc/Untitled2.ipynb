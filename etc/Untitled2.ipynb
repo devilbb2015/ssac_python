{
 "cells": [
  {
   "cell_type": "code",
   "execution_count": 16,
   "id": "6ee64dfa",
   "metadata": {},
   "outputs": [],
   "source": [
    "from PIL import Image\n",
    "from PIL import ImageChops"
   ]
  },
  {
   "cell_type": "code",
   "execution_count": 23,
   "id": "3e94d794",
   "metadata": {},
   "outputs": [
    {
     "name": "stdout",
     "output_type": "stream",
     "text": [
      "false\n"
     ]
    }
   ],
   "source": [
    "# with open(path, 'rb') as f:\n",
    "#     data = f.read()\n",
    "\n",
    "# print(data)\n",
    "\n",
    "image1 = Image.open('test0.jpg')\n",
    "image2 = Image.open('test1.jpg')\n",
    "\n",
    "# image1.show()\n",
    "\n",
    "diff = ImageChops.difference(image1, image2)\n",
    "\n",
    "if diff.getbbox():\n",
    "    print(\"false\")\n",
    "else:\n",
    "    print(\"True\")"
   ]
  },
  {
   "cell_type": "code",
   "execution_count": 27,
   "id": "7476aee5",
   "metadata": {},
   "outputs": [],
   "source": [
    "blend = ImageChops.blend(image1, image2, 70)\n",
    "blend.show() "
   ]
  },
  {
   "cell_type": "code",
   "execution_count": null,
   "id": "67d8feba",
   "metadata": {},
   "outputs": [],
   "source": []
  }
 ],
 "metadata": {
  "kernelspec": {
   "display_name": "Python 3",
   "language": "python",
   "name": "python3"
  },
  "language_info": {
   "codemirror_mode": {
    "name": "ipython",
    "version": 3
   },
   "file_extension": ".py",
   "mimetype": "text/x-python",
   "name": "python",
   "nbconvert_exporter": "python",
   "pygments_lexer": "ipython3",
   "version": "3.8.10"
  }
 },
 "nbformat": 4,
 "nbformat_minor": 5
}
