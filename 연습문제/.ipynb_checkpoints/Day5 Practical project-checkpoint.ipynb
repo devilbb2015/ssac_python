{
 "cells": [
  {
   "cell_type": "markdown",
   "metadata": {
    "id": "Wk37-n5j2z44"
   },
   "source": [
    "# 2021 10 20"
   ]
  },
  {
   "cell_type": "markdown",
   "metadata": {
    "id": "kQoKze7v2z46"
   },
   "source": [
    "## number1.txt라는 파일을 만들고 'coffee tea coffee tea coffee coffee coffee tea coffee coffee coffee coffee coffee coffee tea'라는 문장을 생성하시오. "
   ]
  },
  {
   "cell_type": "code",
   "execution_count": null,
   "metadata": {
    "id": "2Q2xTDz02z47"
   },
   "outputs": [],
   "source": [
    "# 파일 생성법\n",
    "\n",
    "# open은 암기처럼 생각하고 기억하자! => 생성시에는 'w'(write) 필요!!\n",
    "f1 = open(\"number1.txt\". 'w')\n",
    "# open 다음은 write를 \n",
    "f1.write(\"coffee tea coffee tea coffee coffee coffee tea coffee coffee coffee coffee coffee coffee tea\")\n",
    "f1.close()"
   ]
  },
  {
   "cell_type": "code",
   "execution_count": null,
   "metadata": {
    "id": "wemXf60T2z48"
   },
   "outputs": [],
   "source": []
  },
  {
   "cell_type": "markdown",
   "metadata": {
    "id": "94IelKzX2z48"
   },
   "source": [
    "## number1.txt 파일을 불러와서 파일 안의 coffee와 tea 단어 개수를 구하시오 "
   ]
  },
  {
   "cell_type": "code",
   "execution_count": null,
   "metadata": {
    "id": "rkrQXVde2z48"
   },
   "outputs": [],
   "source": []
  },
  {
   "cell_type": "code",
   "execution_count": null,
   "metadata": {
    "id": "2dzh1LeF2z49"
   },
   "outputs": [],
   "source": []
  },
  {
   "cell_type": "markdown",
   "metadata": {
    "id": "f4Loutqv2z49"
   },
   "source": [
    "## 유리병 안에 7개의 빨간색 구슬과 12개의 파랑색 구슬이 들어있다. 사용자의 인풋을 받아 유리병에서 꺼낼 구슬의 색깔을 정하고, 병 안에 남은 구슬의 개수를 프린트하는 함수를 만드시오.\n",
    "(사용자는 총 다섯개의 구슬을 꺼낼 수 있으며 인풋이 빨강/파랑이 아닐 경우 에러메세시를 출력하시오.) \n"
   ]
  },
  {
   "cell_type": "markdown",
   "metadata": {
    "id": "vZ2lguhy2z4-"
   },
   "source": [
    "![Screen%20Shot%202021-10-20%20at%2010.38.50%20AM.png](attachment:Screen%20Shot%202021-10-20%20at%2010.38.50%20AM.png)"
   ]
  },
  {
   "cell_type": "markdown",
   "metadata": {
    "id": "UgOg56L92z4-"
   },
   "source": [
    "\n",
    "\n",
    "![Screen%20Shot%202021-10-20%20at%2010.37.50%20AM.png](attachment:Screen%20Shot%202021-10-20%20at%2010.37.50%20AM.png)"
   ]
  },
  {
   "cell_type": "code",
   "execution_count": null,
   "metadata": {
    "id": "LgzlkdS42z4_"
   },
   "outputs": [],
   "source": [
    "def beads():\n",
    "    red=7\n",
    "    blue=12\n",
    "    for i in range(5):\n",
    "        \n",
    "        "
   ]
  },
  {
   "cell_type": "code",
   "execution_count": null,
   "metadata": {
    "id": "XUKQqEpX2z5A"
   },
   "outputs": [],
   "source": [
    "beads()"
   ]
  },
  {
   "cell_type": "code",
   "execution_count": null,
   "metadata": {
    "id": "oaaC5BnT2z5A"
   },
   "outputs": [],
   "source": []
  },
  {
   "cell_type": "markdown",
   "metadata": {
    "id": "woZDDbG82z5A"
   },
   "source": [
    "## 입력받은 수가 2,3,5,8의 배수인지 확인하는 함수를 만드시오. \n",
    "예: (3의 배수이기도 하면서 5의 배수이기도 하다면 3과 5의 배수인것을 확인)"
   ]
  },
  {
   "cell_type": "markdown",
   "metadata": {
    "id": "EegUwkq92z5B"
   },
   "source": [
    "![Screen%20Shot%202021-10-20%20at%2011.00.45%20AM.png](attachment:Screen%20Shot%202021-10-20%20at%2011.00.45%20AM.png)\n",
    "![Screen%20Shot%202021-10-20%20at%2011.00.55%20AM.png](attachment:Screen%20Shot%202021-10-20%20at%2011.00.55%20AM.png)\n"
   ]
  },
  {
   "cell_type": "markdown",
   "metadata": {
    "id": "RPNH_2E42z5B"
   },
   "source": [
    "![Screen%20Shot%202021-10-20%20at%2011.01.58%20AM.png](attachment:Screen%20Shot%202021-10-20%20at%2011.01.58%20AM.png)"
   ]
  },
  {
   "cell_type": "code",
   "execution_count": null,
   "metadata": {
    "id": "BeIukyqr2z5B"
   },
   "outputs": [],
   "source": [
    "def factor(): \n",
    "    \n",
    "    print(f'{num}은 3과 5의 배수입니다.')\n"
   ]
  },
  {
   "cell_type": "code",
   "execution_count": null,
   "metadata": {
    "id": "aAdTLFxo2z5B"
   },
   "outputs": [],
   "source": []
  },
  {
   "cell_type": "markdown",
   "metadata": {
    "id": "2fRPkloO2z5C"
   },
   "source": [
    "## 리스트에서 1의 자리 숫자만 출력하시오. \n",
    "- input : [11,16,18,3929,6934, 98, 35, 69]\n",
    "- output : [1, 6, 8, 9, 4, 8, 5, 9]"
   ]
  },
  {
   "cell_type": "code",
   "execution_count": null,
   "metadata": {
    "id": "a296JQUy2z5C"
   },
   "outputs": [],
   "source": []
  },
  {
   "cell_type": "code",
   "execution_count": null,
   "metadata": {
    "id": "4-NV6v6_2z5C"
   },
   "outputs": [],
   "source": []
  },
  {
   "cell_type": "code",
   "execution_count": null,
   "metadata": {
    "id": "8ixpclUX2z5C"
   },
   "outputs": [],
   "source": []
  }
 ],
 "metadata": {
  "colab": {
   "name": "Day2 mini project.ipynb",
   "provenance": []
  },
  "kernelspec": {
   "display_name": "Python 3",
   "language": "python",
   "name": "python3"
  },
  "language_info": {
   "codemirror_mode": {
    "name": "ipython",
    "version": 3
   },
   "file_extension": ".py",
   "mimetype": "text/x-python",
   "name": "python",
   "nbconvert_exporter": "python",
   "pygments_lexer": "ipython3",
   "version": "3.8.10"
  },
  "toc": {
   "base_numbering": 1,
   "nav_menu": {},
   "number_sections": true,
   "sideBar": true,
   "skip_h1_title": false,
   "title_cell": "Table of Contents",
   "title_sidebar": "Contents",
   "toc_cell": false,
   "toc_position": {},
   "toc_section_display": true,
   "toc_window_display": false
  }
 },
 "nbformat": 4,
 "nbformat_minor": 1
}
