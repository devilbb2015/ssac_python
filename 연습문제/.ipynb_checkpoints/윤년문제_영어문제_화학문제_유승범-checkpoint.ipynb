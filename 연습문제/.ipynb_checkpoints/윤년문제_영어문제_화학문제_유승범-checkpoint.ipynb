{
 "cells": [
  {
   "cell_type": "code",
   "execution_count": 1,
   "id": "9001cb50",
   "metadata": {},
   "outputs": [
    {
     "name": "stdout",
     "output_type": "stream",
     "text": [
      "10\n"
     ]
    },
    {
     "ename": "TypeError",
     "evalue": "not all arguments converted during string formatting",
     "output_type": "error",
     "traceback": [
      "\u001b[1;31m---------------------------------------------------------------------------\u001b[0m",
      "\u001b[1;31mTypeError\u001b[0m                                 Traceback (most recent call last)",
      "\u001b[1;32m<ipython-input-1-c54e99cfd7d5>\u001b[0m in \u001b[0;36m<module>\u001b[1;34m\u001b[0m\n\u001b[0;32m      1\u001b[0m \u001b[0myear\u001b[0m \u001b[1;33m=\u001b[0m \u001b[0minput\u001b[0m\u001b[1;33m(\u001b[0m\u001b[1;33m)\u001b[0m\u001b[1;33m\u001b[0m\u001b[1;33m\u001b[0m\u001b[0m\n\u001b[1;32m----> 2\u001b[1;33m \u001b[1;32mif\u001b[0m \u001b[0myear\u001b[0m \u001b[1;33m%\u001b[0m \u001b[1;36m4\u001b[0m \u001b[1;33m==\u001b[0m \u001b[1;36m0\u001b[0m\u001b[1;33m:\u001b[0m\u001b[1;33m\u001b[0m\u001b[1;33m\u001b[0m\u001b[0m\n\u001b[0m\u001b[0;32m      3\u001b[0m     \u001b[0mprint\u001b[0m\u001b[1;33m(\u001b[0m\u001b[1;34m\"윤년 입니다\"\u001b[0m\u001b[1;33m)\u001b[0m\u001b[1;33m\u001b[0m\u001b[1;33m\u001b[0m\u001b[0m\n\u001b[0;32m      4\u001b[0m \u001b[1;32melif\u001b[0m \u001b[0myear\u001b[0m \u001b[1;33m%\u001b[0m \u001b[1;36m100\u001b[0m \u001b[1;33m==\u001b[0m \u001b[1;36m0\u001b[0m\u001b[1;33m:\u001b[0m\u001b[1;33m\u001b[0m\u001b[1;33m\u001b[0m\u001b[0m\n\u001b[0;32m      5\u001b[0m     \u001b[0mprint\u001b[0m\u001b[1;33m(\u001b[0m\u001b[1;34m\"윤년 입니다\"\u001b[0m\u001b[1;33m)\u001b[0m\u001b[1;33m\u001b[0m\u001b[1;33m\u001b[0m\u001b[0m\n",
      "\u001b[1;31mTypeError\u001b[0m: not all arguments converted during string formatting"
     ]
    }
   ],
   "source": [
    "year = input()\n",
    "if year % 4 == 0:\n",
    "    print(\"윤년 입니다\")\n",
    "elif year % 100 == 0:\n",
    "    print(\"윤년 입니다\")\n",
    "elif year % 400 == 0:\n",
    "    print(\"윤년 입니다\")\n",
    "else:\n",
    "    print(\"평년 입니다\")"
   ]
  },
  {
   "cell_type": "markdown",
   "id": "452837ad",
   "metadata": {},
   "source": [
    "#### import random \n",
    "\n",
    "f = open(\"ko_en.txt\", 'r')\n",
    "quiz = f.readlines()[1:]\n",
    "\n",
    "ko  = []\n",
    "en = []\n",
    "for i in quiz:\n",
    "    i = i.split(\"\\t\")\n",
    "    ko.append(i[0])\n",
    "    en.append(i[1][:-1])\n",
    "\n",
    "num = random.randint(1, len(ko))\n",
    "\n",
    "print(ko[num], \"\\n\")\n",
    "\n",
    "answer = input(\"your answer: \")\n",
    "print(\"====================================\")\n",
    "\n",
    "if answer == en[num]:\n",
    "    print(\"result: Correct\")\n",
    "else:\n",
    "    print(\"result: Not Correct\")\n",
    "    print(\"right answer: \" , en[num])"
   ]
  },
  {
   "cell_type": "code",
   "execution_count": 37,
   "id": "19a0b1a6",
   "metadata": {},
   "outputs": [
    {
     "name": "stdout",
     "output_type": "stream",
     "text": [
      "20 90\n",
      "10\n",
      "ALERT!\n",
      "-999\n"
     ]
    }
   ],
   "source": [
    "# input은 string이니 map으로 int형으로\n",
    "n = list(map(int, input().split()))\n",
    "n.sort() # 값 정렬\n",
    "while True:\n",
    "    temperature = int(input())\n",
    "    if(n[0] <= temperature <= n[1]):\n",
    "        print('Nothing to report')\n",
    "    else:\n",
    "        print('ALERT!')\n",
    "        break\n",
    "        \n",
    "print(-999)"
   ]
  },
  {
   "cell_type": "code",
   "execution_count": null,
   "id": "64cf8809",
   "metadata": {},
   "outputs": [],
   "source": []
  }
 ],
 "metadata": {
  "kernelspec": {
   "display_name": "Python 3",
   "language": "python",
   "name": "python3"
  },
  "language_info": {
   "codemirror_mode": {
    "name": "ipython",
    "version": 3
   },
   "file_extension": ".py",
   "mimetype": "text/x-python",
   "name": "python",
   "nbconvert_exporter": "python",
   "pygments_lexer": "ipython3",
   "version": "3.8.10"
  }
 },
 "nbformat": 4,
 "nbformat_minor": 5
}
