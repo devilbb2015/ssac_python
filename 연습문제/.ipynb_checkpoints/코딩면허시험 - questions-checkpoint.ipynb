{
 "cells": [
  {
   "cell_type": "markdown",
   "id": "c4bd0fbe",
   "metadata": {
    "id": "c4bd0fbe"
   },
   "source": [
    "### 1)"
   ]
  },
  {
   "cell_type": "markdown",
   "id": "2e02e0a6",
   "metadata": {
    "id": "2e02e0a6"
   },
   "source": [
    "### Q1) \n",
    "![Screen%20Shot%202021-10-20%20at%209.47.02%20PM.png](attachment:Screen%20Shot%202021-10-20%20at%209.47.02%20PM.png)"
   ]
  },
  {
   "cell_type": "code",
   "execution_count": null,
   "id": "628d3ea3",
   "metadata": {
    "id": "628d3ea3"
   },
   "outputs": [],
   "source": []
  },
  {
   "cell_type": "markdown",
   "id": "6ead24c8",
   "metadata": {
    "id": "6ead24c8"
   },
   "source": [
    "### Q2)\n"
   ]
  },
  {
   "cell_type": "markdown",
   "id": "de6a9ee3",
   "metadata": {
    "id": "de6a9ee3"
   },
   "source": [
    "![Screen%20Shot%202021-10-20%20at%209.46.48%20PM.png](attachment:Screen%20Shot%202021-10-20%20at%209.46.48%20PM.png)"
   ]
  },
  {
   "cell_type": "code",
   "execution_count": null,
   "id": "0b4a3140",
   "metadata": {
    "id": "0b4a3140"
   },
   "outputs": [],
   "source": []
  },
  {
   "cell_type": "markdown",
   "id": "8c99f4ca",
   "metadata": {
    "id": "8c99f4ca"
   },
   "source": [
    "### Q3)\n"
   ]
  },
  {
   "cell_type": "markdown",
   "id": "5f3cdf50",
   "metadata": {
    "id": "5f3cdf50"
   },
   "source": [
    "![Screen%20Shot%202021-10-20%20at%209.46.25%20PM.png](attachment:Screen%20Shot%202021-10-20%20at%209.46.25%20PM.png)"
   ]
  },
  {
   "cell_type": "code",
   "execution_count": null,
   "id": "46f01f9d",
   "metadata": {
    "id": "46f01f9d"
   },
   "outputs": [],
   "source": []
  },
  {
   "cell_type": "markdown",
   "id": "95e6ab50",
   "metadata": {
    "id": "95e6ab50"
   },
   "source": [
    "### Q4)"
   ]
  },
  {
   "cell_type": "markdown",
   "id": "ffc293c3",
   "metadata": {
    "id": "ffc293c3"
   },
   "source": [
    "\n",
    "![Screen%20Shot%202021-10-20%20at%209.48.48%20PM.png](attachment:Screen%20Shot%202021-10-20%20at%209.48.48%20PM.png)"
   ]
  },
  {
   "cell_type": "code",
   "execution_count": null,
   "id": "101ddfc9",
   "metadata": {
    "id": "101ddfc9"
   },
   "outputs": [],
   "source": []
  },
  {
   "cell_type": "markdown",
   "id": "798de6d1",
   "metadata": {
    "id": "798de6d1"
   },
   "source": [
    "### Q5)"
   ]
  },
  {
   "cell_type": "markdown",
   "id": "48fe47dc",
   "metadata": {
    "id": "48fe47dc"
   },
   "source": [
    "![Screen%20Shot%202021-10-20%20at%209.49.50%20PM.png](attachment:Screen%20Shot%202021-10-20%20at%209.49.50%20PM.png)"
   ]
  },
  {
   "cell_type": "code",
   "execution_count": null,
   "id": "acd2ab38",
   "metadata": {
    "id": "acd2ab38"
   },
   "outputs": [],
   "source": []
  },
  {
   "cell_type": "markdown",
   "id": "ca544441",
   "metadata": {
    "id": "ca544441"
   },
   "source": [
    "### Q6)"
   ]
  },
  {
   "cell_type": "markdown",
   "id": "e0b929cd",
   "metadata": {
    "id": "e0b929cd"
   },
   "source": [
    "![Screen%20Shot%202021-10-20%20at%209.56.01%20PM.png](attachment:Screen%20Shot%202021-10-20%20at%209.56.01%20PM.png)"
   ]
  },
  {
   "cell_type": "code",
   "execution_count": null,
   "id": "05c7eb22",
   "metadata": {
    "id": "05c7eb22"
   },
   "outputs": [],
   "source": []
  },
  {
   "cell_type": "markdown",
   "id": "68307ff6",
   "metadata": {
    "id": "68307ff6"
   },
   "source": [
    "### Q7)"
   ]
  },
  {
   "cell_type": "markdown",
   "id": "b0e03a86",
   "metadata": {
    "id": "b0e03a86"
   },
   "source": [
    "![Screen%20Shot%202021-10-20%20at%209.57.31%20PM.png](attachment:Screen%20Shot%202021-10-20%20at%209.57.31%20PM.png)"
   ]
  },
  {
   "cell_type": "code",
   "execution_count": null,
   "id": "244cea04",
   "metadata": {
    "id": "244cea04"
   },
   "outputs": [],
   "source": []
  },
  {
   "cell_type": "markdown",
   "id": "2019d7e3",
   "metadata": {
    "id": "2019d7e3"
   },
   "source": [
    "### Q8)"
   ]
  },
  {
   "cell_type": "markdown",
   "id": "17b6b984",
   "metadata": {
    "id": "17b6b984"
   },
   "source": [
    "![Screen%20Shot%202021-10-20%20at%209.58.50%20PM.png](attachment:Screen%20Shot%202021-10-20%20at%209.58.50%20PM.png)"
   ]
  },
  {
   "cell_type": "code",
   "execution_count": null,
   "id": "2eb2008d",
   "metadata": {
    "id": "2eb2008d"
   },
   "outputs": [],
   "source": []
  },
  {
   "cell_type": "markdown",
   "id": "2b9e1342",
   "metadata": {
    "id": "2b9e1342"
   },
   "source": [
    "### Q9)"
   ]
  },
  {
   "cell_type": "markdown",
   "id": "cb647aa6",
   "metadata": {
    "id": "cb647aa6"
   },
   "source": [
    "![Screen%20Shot%202021-10-20%20at%2010.01.10%20PM.png](attachment:Screen%20Shot%202021-10-20%20at%2010.01.10%20PM.png)"
   ]
  },
  {
   "cell_type": "code",
   "execution_count": null,
   "id": "8cff2477",
   "metadata": {
    "id": "8cff2477"
   },
   "outputs": [],
   "source": []
  },
  {
   "cell_type": "markdown",
   "id": "316fb96a",
   "metadata": {
    "id": "316fb96a"
   },
   "source": [
    "### Q10) 사칙연산 계산기 "
   ]
  },
  {
   "cell_type": "markdown",
   "id": "e3b63ebf",
   "metadata": {
    "id": "e3b63ebf"
   },
   "source": [
    "![Screen%20Shot%202021-10-20%20at%2010.07.25%20PM.png](attachment:Screen%20Shot%202021-10-20%20at%2010.07.25%20PM.png)"
   ]
  },
  {
   "cell_type": "code",
   "execution_count": null,
   "id": "0d70dc5b",
   "metadata": {
    "id": "0d70dc5b"
   },
   "outputs": [],
   "source": []
  },
  {
   "cell_type": "markdown",
   "id": "eef31456",
   "metadata": {
    "id": "eef31456"
   },
   "source": [
    "### Q11) 오류와 예외 처리"
   ]
  },
  {
   "cell_type": "markdown",
   "id": "04e9f54b",
   "metadata": {
    "id": "04e9f54b"
   },
   "source": [
    "![Screen%20Shot%202021-10-20%20at%2010.09.48%20PM.png](attachment:Screen%20Shot%202021-10-20%20at%2010.09.48%20PM.png)"
   ]
  },
  {
   "cell_type": "code",
   "execution_count": null,
   "id": "c8dd7a82",
   "metadata": {
    "id": "c8dd7a82"
   },
   "outputs": [],
   "source": [
    "result = 0\n",
    "\n",
    "try:\n",
    "    [1, 2, 3][3]   \n",
    "    'a' + 1\n",
    "    4 / 0\n",
    "except TypeError:\n",
    "    result += 1\n",
    "except ZeroDivisionError:\n",
    "    result += 2\n",
    "except IndexError:  \n",
    "    result += 3\n",
    "finally:           \n",
    "    result += 4\n",
    "\n",
    "# print(result)\n"
   ]
  },
  {
   "cell_type": "code",
   "execution_count": null,
   "id": "3f5ec793",
   "metadata": {
    "id": "3f5ec793"
   },
   "outputs": [],
   "source": []
  },
  {
   "cell_type": "markdown",
   "id": "6f40fb41",
   "metadata": {
    "id": "6f40fb41"
   },
   "source": [
    "### Q13) DashInsert 함수"
   ]
  },
  {
   "cell_type": "markdown",
   "id": "65715010",
   "metadata": {
    "id": "65715010"
   },
   "source": [
    "![Screen%20Shot%202021-10-20%20at%2010.11.08%20PM.png](attachment:Screen%20Shot%202021-10-20%20at%2010.11.08%20PM.png)"
   ]
  },
  {
   "cell_type": "code",
   "execution_count": null,
   "id": "a5ae21c0",
   "metadata": {
    "id": "a5ae21c0"
   },
   "outputs": [],
   "source": []
  },
  {
   "cell_type": "markdown",
   "id": "c5525d5c",
   "metadata": {
    "id": "c5525d5c"
   },
   "source": [
    "### Q14 문자열 압축하기"
   ]
  },
  {
   "cell_type": "markdown",
   "id": "7d0dad7a",
   "metadata": {
    "id": "7d0dad7a"
   },
   "source": [
    "![Screen%20Shot%202021-10-20%20at%2010.13.04%20PM.png](attachment:Screen%20Shot%202021-10-20%20at%2010.13.04%20PM.png)"
   ]
  },
  {
   "cell_type": "code",
   "execution_count": null,
   "id": "166e925b",
   "metadata": {
    "id": "166e925b"
   },
   "outputs": [],
   "source": []
  },
  {
   "cell_type": "markdown",
   "id": "b227739e",
   "metadata": {
    "id": "b227739e"
   },
   "source": [
    "### Q15) Duplicate Numbers"
   ]
  },
  {
   "cell_type": "markdown",
   "id": "32df2b67",
   "metadata": {
    "id": "32df2b67"
   },
   "source": [
    "![Screen%20Shot%202021-10-20%20at%2010.28.36%20PM.png](attachment:Screen%20Shot%202021-10-20%20at%2010.28.36%20PM.png)"
   ]
  },
  {
   "cell_type": "code",
   "execution_count": null,
   "id": "b3392c27",
   "metadata": {
    "id": "b3392c27"
   },
   "outputs": [],
   "source": [
    "# 숫자: 0123456789, 01234, 01234567890, 6789012345, 012322456789"
   ]
  },
  {
   "cell_type": "code",
   "execution_count": null,
   "id": "107fb0ce",
   "metadata": {
    "id": "107fb0ce",
    "outputId": "bf1ee046-b49a-4fc8-ba15-287e78b319b3"
   },
   "outputs": [
    {
     "data": {
      "text/plain": [
       "False"
      ]
     },
     "execution_count": 101,
     "metadata": {},
     "output_type": "execute_result"
    }
   ],
   "source": [
    "DupNum('01234')"
   ]
  },
  {
   "cell_type": "code",
   "execution_count": null,
   "id": "954f098a",
   "metadata": {
    "id": "954f098a",
    "outputId": "e63b112f-1aaa-4bc9-d8d7-3ab8e69e7ed0"
   },
   "outputs": [
    {
     "data": {
      "text/plain": [
       "False"
      ]
     },
     "execution_count": 102,
     "metadata": {},
     "output_type": "execute_result"
    }
   ],
   "source": [
    "DupNum('01234567890')"
   ]
  },
  {
   "cell_type": "code",
   "execution_count": null,
   "id": "9748f794",
   "metadata": {
    "id": "9748f794",
    "outputId": "920ed246-bcc6-4462-eff9-13b77a9e7fbf"
   },
   "outputs": [
    {
     "data": {
      "text/plain": [
       "True"
      ]
     },
     "execution_count": 103,
     "metadata": {},
     "output_type": "execute_result"
    }
   ],
   "source": [
    "DupNum('6789012345')"
   ]
  },
  {
   "cell_type": "code",
   "execution_count": null,
   "id": "e96938d3",
   "metadata": {
    "id": "e96938d3",
    "outputId": "b34d3396-57bf-4d6a-b5ac-9f9f67a91e73"
   },
   "outputs": [
    {
     "data": {
      "text/plain": [
       "False"
      ]
     },
     "execution_count": 104,
     "metadata": {},
     "output_type": "execute_result"
    }
   ],
   "source": [
    "DupNum('012322456789')"
   ]
  },
  {
   "cell_type": "code",
   "execution_count": null,
   "id": "1f942bbb",
   "metadata": {
    "id": "1f942bbb"
   },
   "outputs": [],
   "source": []
  },
  {
   "cell_type": "markdown",
   "id": "65fbdbde",
   "metadata": {
    "id": "65fbdbde"
   },
   "source": [
    "### Q16 모스 부호 해독"
   ]
  },
  {
   "cell_type": "markdown",
   "id": "3828b212",
   "metadata": {
    "id": "3828b212"
   },
   "source": [
    "![Screen%20Shot%202021-10-20%20at%2010.31.09%20PM.png](attachment:Screen%20Shot%202021-10-20%20at%2010.31.09%20PM.png)\n",
    "\n",
    "morseCode = {'A':'.-', 'B':'-...', 'C':'-.-.', 'D':'-..', 'E':'.', 'F':'..-.', 'G':'--.', 'H':'....', 'I':'..', 'J':'.---', 'K':'-.-', 'L':'.-..', 'M':'--', 'N':'-.', 'O':'---', 'P':'.--.', 'Q':'--.-', 'R':'.-.', 'S':'...', 'T':'-', 'U':'..-', 'V':'...-', 'W':'.--', 'X':'-..-', 'Y':'-.--', 'Z':'--..'}"
   ]
  },
  {
   "cell_type": "markdown",
   "id": "5526c126",
   "metadata": {
    "id": "5526c126"
   },
   "source": [
    "![Screen%20Shot%202021-10-20%20at%2010.31.16%20PM.png](attachment:Screen%20Shot%202021-10-20%20at%2010.31.16%20PM.png)"
   ]
  },
  {
   "cell_type": "code",
   "execution_count": null,
   "id": "a7a927cb",
   "metadata": {
    "id": "a7a927cb"
   },
   "outputs": [],
   "source": []
  },
  {
   "cell_type": "code",
   "execution_count": null,
   "id": "e651457a",
   "metadata": {
    "id": "e651457a"
   },
   "outputs": [],
   "source": []
  }
 ],
 "metadata": {
  "colab": {
   "name": "코딩면허시험 - questions.ipynb",
   "provenance": []
  },
  "kernelspec": {
   "display_name": "Python 3",
   "language": "python",
   "name": "python3"
  },
  "language_info": {
   "codemirror_mode": {
    "name": "ipython",
    "version": 3
   },
   "file_extension": ".py",
   "mimetype": "text/x-python",
   "name": "python",
   "nbconvert_exporter": "python",
   "pygments_lexer": "ipython3",
   "version": "3.8.10"
  },
  "toc": {
   "base_numbering": 1,
   "nav_menu": {},
   "number_sections": true,
   "sideBar": true,
   "skip_h1_title": false,
   "title_cell": "Table of Contents",
   "title_sidebar": "Contents",
   "toc_cell": false,
   "toc_position": {},
   "toc_section_display": true,
   "toc_window_display": false
  }
 },
 "nbformat": 4,
 "nbformat_minor": 5
}
