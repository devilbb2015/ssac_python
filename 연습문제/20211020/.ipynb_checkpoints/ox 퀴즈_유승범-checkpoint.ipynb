{
 "cells": [
  {
   "cell_type": "code",
   "execution_count": 16,
   "id": "96254328",
   "metadata": {},
   "outputs": [
    {
     "name": "stdout",
     "output_type": "stream",
     "text": [
      "테스트의 갯수   2\n",
      "OOOOOOOxxxoooooooxxo\n",
      "점수:  57\n",
      "oooxoox\n",
      "점수:  9\n"
     ]
    }
   ],
   "source": [
    "count = int(input(\"테스트의 갯수   \"))   # 테스트의 갯수 받기\n",
    "\n",
    " \n",
    "i = 0    # 반복 횟수 비교\n",
    "\n",
    "while i < count:   # 입력된 숫자보다 적을때까지 횟수 반복\n",
    "    sum = 0         # 총점\n",
    "    point = 0       # 맞은 점수\n",
    "    ox = list(input())   # 퀴즈 결과 입력\n",
    "    for j in ox:        # 입력된 퀴즈에 대한 결과 만큼 반복\n",
    "        if (j == 'o' or j == 'O'):    # 퀴즈 결과 값중 'o'를 확인\n",
    "            point += 1  # 연속되는 o 에 대한 점수 계산\n",
    "            sum += point  # 연속되는 o 에 대한 점수를 총점에 합산\n",
    "        else:\n",
    "            point = 0     # 연속되는 'o' 종료시 점수 초기화\n",
    "    print(\"점수: \", sum)  # 결과값 출력\n",
    "    i += 1                # 다음 반복횟수로 이동"
   ]
  },
  {
   "cell_type": "code",
   "execution_count": null,
   "id": "9fcd4289",
   "metadata": {},
   "outputs": [],
   "source": []
  }
 ],
 "metadata": {
  "kernelspec": {
   "display_name": "Python 3",
   "language": "python",
   "name": "python3"
  },
  "language_info": {
   "codemirror_mode": {
    "name": "ipython",
    "version": 3
   },
   "file_extension": ".py",
   "mimetype": "text/x-python",
   "name": "python",
   "nbconvert_exporter": "python",
   "pygments_lexer": "ipython3",
   "version": "3.8.10"
  }
 },
 "nbformat": 4,
 "nbformat_minor": 5
}
