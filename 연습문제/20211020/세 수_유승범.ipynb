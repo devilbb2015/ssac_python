{
 "cells": [
  {
   "cell_type": "code",
   "execution_count": 32,
   "id": "11ac1fe8",
   "metadata": {},
   "outputs": [
    {
     "name": "stdout",
     "output_type": "stream",
     "text": [
      "2 2 2\n",
      "[2]\n"
     ]
    }
   ],
   "source": [
    "import numpy as np        # numpy 호출\n",
    "\n",
    "while True:\n",
    "    n = list(map(int, input().split()))  #  공백에 의한 입력값을 int 값으로 리스트화 하여 n 에 담음\n",
    "    a = len(n)\n",
    "\n",
    "    if (2 < a <= 3):\n",
    "        maxnum = np.max(n)   # 리스트 n 에 담긴 최대값을 구하여 maxnum 에 담음\n",
    "        minnum = np.min(n)   # 리스트 n 에 담긴 최소값을 구하여 minnum 에 담음\n",
    "\n",
    "        n.remove(maxnum)   # n 에 담긴 값중 maxnum 값을 삭제\n",
    "        n.remove(minnum)   # n 에 담긴 값중 minnum 값을 삭제\n",
    "\n",
    "        print(n)\n",
    "        break"
   ]
  },
  {
   "cell_type": "code",
   "execution_count": null,
   "id": "531ab481",
   "metadata": {},
   "outputs": [],
   "source": []
  }
 ],
 "metadata": {
  "kernelspec": {
   "display_name": "Python 3",
   "language": "python",
   "name": "python3"
  },
  "language_info": {
   "codemirror_mode": {
    "name": "ipython",
    "version": 3
   },
   "file_extension": ".py",
   "mimetype": "text/x-python",
   "name": "python",
   "nbconvert_exporter": "python",
   "pygments_lexer": "ipython3",
   "version": "3.8.10"
  }
 },
 "nbformat": 4,
 "nbformat_minor": 5
}
