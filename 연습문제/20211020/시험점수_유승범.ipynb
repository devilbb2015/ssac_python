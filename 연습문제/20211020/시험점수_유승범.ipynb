{
 "cells": [
  {
   "cell_type": "code",
   "execution_count": 7,
   "id": "db52beb5",
   "metadata": {},
   "outputs": [
    {
     "name": "stdout",
     "output_type": "stream",
     "text": [
      "시험점수 : 10101\n",
      "시험점수 : 50\n",
      "F\n"
     ]
    }
   ],
   "source": [
    "while True:\n",
    "    result = int(input(\"시험점수 : \"))  # 시험점수를 입력 받아서 result 에 담음\n",
    "    if (0 > result or result<= 100):\n",
    "        if result >= 90:   # 90 점 이상이면 출력\n",
    "            print(\"A\")\n",
    "            break\n",
    "        elif result >= 80:  # 80 점 이상이면 출력\n",
    "            print(\"B\")\n",
    "            break\n",
    "        elif result >= 70:  # 70 점 이상이면 출력\n",
    "            print(\"C\")\n",
    "            break\n",
    "        elif result >= 60:  # 60점 이상이면 출력\n",
    "            print(\"D\")\n",
    "            break\n",
    "        else:               # 60점 미만 점수면 출력\n",
    "            print(\"F\")\n",
    "            break"
   ]
  },
  {
   "cell_type": "code",
   "execution_count": null,
   "id": "6d54bc18",
   "metadata": {},
   "outputs": [],
   "source": []
  }
 ],
 "metadata": {
  "kernelspec": {
   "display_name": "Python 3",
   "language": "python",
   "name": "python3"
  },
  "language_info": {
   "codemirror_mode": {
    "name": "ipython",
    "version": 3
   },
   "file_extension": ".py",
   "mimetype": "text/x-python",
   "name": "python",
   "nbconvert_exporter": "python",
   "pygments_lexer": "ipython3",
   "version": "3.8.10"
  }
 },
 "nbformat": 4,
 "nbformat_minor": 5
}
