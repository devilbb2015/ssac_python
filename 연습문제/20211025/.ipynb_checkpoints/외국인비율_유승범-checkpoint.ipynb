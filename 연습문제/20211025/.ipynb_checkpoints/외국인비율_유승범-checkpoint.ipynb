{
 "cells": [
  {
   "cell_type": "markdown",
   "id": "3a3a356e",
   "metadata": {},
   "source": [
    "# 외국인비율 구하기 "
   ]
  },
  {
   "cell_type": "markdown",
   "id": "7070ee6e",
   "metadata": {},
   "source": [
    "## # 외국인 비율을 구하기 위하여 usecsv를 구성하여 import"
   ]
  },
  {
   "cell_type": "code",
   "execution_count": 8,
   "id": "9a142d31",
   "metadata": {},
   "outputs": [],
   "source": [
    "#import os, re ## os 모듈과 re 모듈은 항상 필요하기 때문에 먼저 임포트 합니다\n",
    "import usecsv ## usecsv 모듈을 임포트 합니다"
   ]
  },
  {
   "cell_type": "code",
   "execution_count": 9,
   "id": "53aa3521",
   "metadata": {},
   "outputs": [],
   "source": [
    "# 파일 열기 \n"
   ]
  },
  {
   "cell_type": "code",
   "execution_count": 10,
   "id": "07f108c1",
   "metadata": {},
   "outputs": [],
   "source": [
    "# 콤마 등을 제거하는 함수 usecsv.switch를 사용합니다. \n"
   ]
  },
  {
   "cell_type": "code",
   "execution_count": 11,
   "id": "56c51a51",
   "metadata": {},
   "outputs": [
    {
     "name": "stdout",
     "output_type": "stream",
     "text": [
      "[['Gu', 'Korean', 'Foreigner', 'Senior'], ['Total', 9740398.0, 285529.0, 1468146.0], ['Jongrogu', 151767.0, 11093.0, 27394.0], ['Jongru', 126409.0, 10254.0, 23025.0]]\n"
     ]
    }
   ],
   "source": [
    "# 4번째 구까지만 시험으로 출력해봅니다. \n"
   ]
  },
  {
   "cell_type": "code",
   "execution_count": 12,
   "id": "223caaf1",
   "metadata": {},
   "outputs": [
    {
     "name": "stdout",
     "output_type": "stream",
     "text": [
      "Total 2.8\n",
      "Jongrogu 6.8\n",
      "Jongru 7.5\n",
      "Yongsangu 6.6\n",
      "Seongdonggu 2.6\n",
      "Kwangjingu 4.2\n",
      "Dongdaemoongu 4.7\n",
      "Jungranggu 1.2\n",
      "Seongbukgu 2.8\n",
      "Gangbukgu 1.2\n",
      "Dobonggu 0.7\n",
      "Nowonggu 0.8\n",
      "Eunpyonggu 0.9\n",
      "Seodaemungu 4.3\n",
      "Mapogu 3.1\n",
      "Yangcheongu 0.9\n",
      "Gangseogu 1.1\n",
      "Gurogu 7.5\n",
      "Guemcheongu 7.7\n",
      "Youngdeungpogu 8.5\n",
      "Dongjakgu 3.1\n",
      "Kwanakgu 3.4\n",
      "Seoucheogu 1.0\n",
      "Gangnamgu 0.9\n",
      "Songpagu 1.0\n",
      "Gangdonggu 1.0\n"
     ]
    }
   ],
   "source": [
    "\n",
    "## 한 번 루프가 돌고 나면 foreign을 다시 지정해주어야 하므로 foreign을 0으로 먼저 지정합니다\n",
    "    try:\n",
    "       \n",
    "## i[0]에는 지역구 이름이 저장되어 있고, foreign은 공식대로 우리가 계산한 외국인 비율입니다\n",
    "    except:\n",
    "        pass\n",
    "new = [['구', '한국인', '외국인', '외국인 비율(%)']]   \n",
    "# 등록외국인의 비율이 3이 넘을 때만 넘을 때만 출력합니다. \n",
    "for i in newPop:\n",
    "   \n",
    "        try:\n",
    "      \n",
    "        except:\n",
    "            pass\n",
    "\n",
    "# 3% 넘는 구만 파일로 저장하기\n"
   ]
  },
  {
   "cell_type": "code",
   "execution_count": null,
   "id": "1e31ab79",
   "metadata": {},
   "outputs": [],
   "source": []
  }
 ],
 "metadata": {
  "kernelspec": {
   "display_name": "Python 3",
   "language": "python",
   "name": "python3"
  },
  "language_info": {
   "codemirror_mode": {
    "name": "ipython",
    "version": 3
   },
   "file_extension": ".py",
   "mimetype": "text/x-python",
   "name": "python",
   "nbconvert_exporter": "python",
   "pygments_lexer": "ipython3",
   "version": "3.8.10"
  }
 },
 "nbformat": 4,
 "nbformat_minor": 5
}
