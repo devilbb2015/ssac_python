{
 "cells": [
  {
   "cell_type": "markdown",
   "id": "3a3a356e",
   "metadata": {},
   "source": [
    "# 외국인비율 구하기 "
   ]
  },
  {
   "cell_type": "markdown",
   "id": "7070ee6e",
   "metadata": {},
   "source": [
    "## # 외국인 비율을 구하기 위하여 usecsv를 구성하여 import"
   ]
  },
  {
   "cell_type": "code",
   "execution_count": 68,
   "id": "9a142d31",
   "metadata": {},
   "outputs": [],
   "source": [
    "#import os, re ## os 모듈과 re 모듈은 항상 필요하기 때문에 먼저 임포트 합니다\n",
    "import usecsv ## usecsv 모듈을 임포트 합니다"
   ]
  },
  {
   "cell_type": "code",
   "execution_count": 69,
   "id": "53aa3521",
   "metadata": {},
   "outputs": [
    {
     "data": {
      "text/plain": [
       "[['Gu', 'Korean', 'Foreigner', 'Senior'],\n",
       " ['Total', '9,740,398', '285,529', '1,468,146'],\n",
       " ['Jongrogu', '151,767', '11,093', '27,394'],\n",
       " ['Jongru', '126,409', '10,254', '23,025'],\n",
       " ['Yongsangu', '228,830', '16,159', '38,531'],\n",
       " ['Seongdonggu', '303,158', '8,132', '43,662'],\n",
       " ['Kwangjingu', '352,692', '15,645', '47,347'],\n",
       " ['Dongdaemoongu', '346,551', '17,228', '58,764'],\n",
       " ['Jungranggu', '398,812', '4,964', '64,449'],\n",
       " ['Seongbukgu', '441,590', '12,524', '70,204'],\n",
       " ['Gangbukgu', '314,090', '3,785', '59,808'],\n",
       " ['Dobonggu', '335,280', '2,314', '58,070'],\n",
       " ['Nowonggu', '535,282', '4,547', '79,968'],\n",
       " ['Eunpyonggu', '481,663', '4,496', '79,957'],\n",
       " ['Seodaemungu', '310,069', '14,020', '51,708'],\n",
       " ['Mapogu', '373,629', '11,976', '51,961'],\n",
       " ['Yangcheongu', '459,849', '4,082', '60,487'],\n",
       " ['Gangseogu', '593,708', '6,532', '82,937'],\n",
       " ['Gurogu', '406,748', '33,102', '64,952'],\n",
       " ['Guemcheongu', '233,371', '19,497', '37,191'],\n",
       " ['Youngdeungpogu', '368,402', '34,076', '57,350'],\n",
       " ['Dongjakgu', '397,618', '12,869', '61,607'],\n",
       " ['Kwanakgu', '502,117', '17,836', '74,518'],\n",
       " ['Seoucheogu', '431,027', '4,231', '56,455'],\n",
       " ['Gangnamgu', '544,028', '5,015', '70,029'],\n",
       " ['Songpagu', '677,489', '6,849', '86,062'],\n",
       " ['Gangdonggu', '426,219', '4,303', '61,710']]"
      ]
     },
     "execution_count": 69,
     "metadata": {},
     "output_type": "execute_result"
    }
   ],
   "source": [
    "import csv\n",
    "# 파일 열기 \n",
    "def opencsv(filename):\n",
    "    f = open(filename, \"r\")\n",
    "    reader = csv.reader(f)\n",
    "    output = []\n",
    "    for i in reader:\n",
    "        output.append(i)\n",
    "    return output\n",
    "\n",
    "opencsv(\"popSeoul.csv\")"
   ]
  },
  {
   "cell_type": "code",
   "execution_count": 70,
   "id": "0c54e0a0",
   "metadata": {},
   "outputs": [
    {
     "data": {
      "text/plain": [
       "[['Gu', 'Korean', 'Foreigner', 'Senior'],\n",
       " ['Total', '9,740,398', '285,529', '1,468,146'],\n",
       " ['Jongrogu', '151,767', '11,093', '27,394'],\n",
       " ['Jongru', '126,409', '10,254', '23,025'],\n",
       " ['Yongsangu', '228,830', '16,159', '38,531'],\n",
       " ['Seongdonggu', '303,158', '8,132', '43,662'],\n",
       " ['Kwangjingu', '352,692', '15,645', '47,347'],\n",
       " ['Dongdaemoongu', '346,551', '17,228', '58,764'],\n",
       " ['Jungranggu', '398,812', '4,964', '64,449'],\n",
       " ['Seongbukgu', '441,590', '12,524', '70,204'],\n",
       " ['Gangbukgu', '314,090', '3,785', '59,808'],\n",
       " ['Dobonggu', '335,280', '2,314', '58,070'],\n",
       " ['Nowonggu', '535,282', '4,547', '79,968'],\n",
       " ['Eunpyonggu', '481,663', '4,496', '79,957'],\n",
       " ['Seodaemungu', '310,069', '14,020', '51,708'],\n",
       " ['Mapogu', '373,629', '11,976', '51,961'],\n",
       " ['Yangcheongu', '459,849', '4,082', '60,487'],\n",
       " ['Gangseogu', '593,708', '6,532', '82,937'],\n",
       " ['Gurogu', '406,748', '33,102', '64,952'],\n",
       " ['Guemcheongu', '233,371', '19,497', '37,191'],\n",
       " ['Youngdeungpogu', '368,402', '34,076', '57,350'],\n",
       " ['Dongjakgu', '397,618', '12,869', '61,607'],\n",
       " ['Kwanakgu', '502,117', '17,836', '74,518'],\n",
       " ['Seoucheogu', '431,027', '4,231', '56,455'],\n",
       " ['Gangnamgu', '544,028', '5,015', '70,029'],\n",
       " ['Songpagu', '677,489', '6,849', '86,062'],\n",
       " ['Gangdonggu', '426,219', '4,303', '61,710']]"
      ]
     },
     "execution_count": 70,
     "metadata": {},
     "output_type": "execute_result"
    }
   ],
   "source": [
    "usecsv.opencsv(\"popSeoul.csv\")"
   ]
  },
  {
   "cell_type": "code",
   "execution_count": 95,
   "id": "07f108c1",
   "metadata": {},
   "outputs": [],
   "source": [
    "# 콤마 등을 제거하는 함수 usecsv.switch를 사용합니다. \n",
    "def switch(listName):\n",
    "    for i in listName:        \n",
    "        for j in i:\n",
    "            try:\n",
    "                i[i.index(j)] = float(re.sub(',','',j))\n",
    "            except:\n",
    "                pass\n",
    "    return listName\n",
    "b = usecsv.switch(a)\n",
    "newPop = usecsv.switch(a)"
   ]
  },
  {
   "cell_type": "code",
   "execution_count": 96,
   "id": "56c51a51",
   "metadata": {
    "scrolled": true
   },
   "outputs": [
    {
     "data": {
      "text/plain": [
       "[['Gu', 'Korean', 'Foreigner', 'Senior'],\n",
       " ['Total', 9740398.0, 285529.0, 1468146.0],\n",
       " ['Jongrogu', 151767.0, 11093.0, 27394.0],\n",
       " ['Jongru', 126409.0, 10254.0, 23025.0]]"
      ]
     },
     "execution_count": 96,
     "metadata": {},
     "output_type": "execute_result"
    }
   ],
   "source": [
    "# 4번째 구까지만 시험으로 출력해봅니다. \n",
    "b[:4]"
   ]
  },
  {
   "cell_type": "code",
   "execution_count": 97,
   "id": "d62aa781",
   "metadata": {},
   "outputs": [
    {
     "name": "stdout",
     "output_type": "stream",
     "text": [
      "Total 2.8\n",
      "Jongrogu 6.8\n",
      "Jongru 7.5\n",
      "Yongsangu 6.6\n",
      "Seongdonggu 2.6\n",
      "Kwangjingu 4.2\n",
      "Dongdaemoongu 4.7\n",
      "Jungranggu 1.2\n",
      "Seongbukgu 2.8\n",
      "Gangbukgu 1.2\n",
      "Dobonggu 0.7\n",
      "Nowonggu 0.8\n",
      "Eunpyonggu 0.9\n",
      "Seodaemungu 4.3\n",
      "Mapogu 3.1\n",
      "Yangcheongu 0.9\n",
      "Gangseogu 1.1\n",
      "Gurogu 7.5\n",
      "Guemcheongu 7.7\n",
      "Youngdeungpogu 8.5\n",
      "Dongjakgu 3.1\n",
      "Kwanakgu 3.4\n",
      "Seoucheogu 1.0\n",
      "Gangnamgu 0.9\n",
      "Songpagu 1.0\n",
      "Gangdonggu 1.0\n"
     ]
    }
   ],
   "source": [
    "for i in a[1:]:\n",
    "    foreign = 0\n",
    "    foreign = round(i[2] / (i[1] + i[2]) * 100, 1)\n",
    "    print(i[0], foreign)\n"
   ]
  },
  {
   "cell_type": "code",
   "execution_count": 100,
   "id": "223caaf1",
   "metadata": {},
   "outputs": [
    {
     "data": {
      "text/plain": [
       "[['구', '외국인비율(%)'],\n",
       " ['Jongrogu', 6.81],\n",
       " ['Jongru', 7.5],\n",
       " ['Yongsangu', 6.6],\n",
       " ['Kwangjingu', 4.25],\n",
       " ['Dongdaemoongu', 4.74],\n",
       " ['Seodaemungu', 4.33],\n",
       " ['Mapogu', 3.11],\n",
       " ['Gurogu', 7.53],\n",
       " ['Guemcheongu', 7.71],\n",
       " ['Youngdeungpogu', 8.47],\n",
       " ['Dongjakgu', 3.14],\n",
       " ['Kwanakgu', 3.43]]"
      ]
     },
     "execution_count": 100,
     "metadata": {},
     "output_type": "execute_result"
    }
   ],
   "source": [
    "## 한 번 루프가 돌고 나면 foreign을 다시 지정해주어야 하므로 foreign을 0으로 먼저 지정합니다\n",
    "#     try:\n",
    "#         foreign=0\n",
    "       \n",
    "# ## i[0]에는 지역구 이름이 저장되어 있고, foreign은 공식대로 우리가 계산한 외국인 비율입니다\n",
    "#     except:\n",
    "#         pass\n",
    "for_list = [['구','외국인비율(%)']]\n",
    "new = [['구', '한국인', '외국인', '외국인 비율(%)']]   \n",
    "# 등록외국인의 비율이 3이 넘을 때만 넘을 때만 출력합니다. \n",
    "for i in newPop[1:]:\n",
    "#     print(i)\n",
    "    foreign = round( i[2] / (i[1]+i[2]) * 100, ndigits=2)  \n",
    "#     print(foreign)\n",
    "    if foreign>3:\n",
    "        try:\n",
    "#             print(i[0], foreign)\n",
    "            for_list.append([i[0], foreign])\n",
    "\n",
    "        except:\n",
    "            pass\n",
    "\n",
    "# 3% 넘는 구만 파일로 저장하기\n",
    "\n",
    "for_list"
   ]
  },
  {
   "cell_type": "code",
   "execution_count": 101,
   "id": "1e31ab79",
   "metadata": {},
   "outputs": [],
   "source": [
    "usecsv.writecsv(\"newpop.csv\", new)"
   ]
  },
  {
   "cell_type": "code",
   "execution_count": null,
   "id": "47c5f655",
   "metadata": {},
   "outputs": [],
   "source": []
  }
 ],
 "metadata": {
  "kernelspec": {
   "display_name": "Python 3",
   "language": "python",
   "name": "python3"
  },
  "language_info": {
   "codemirror_mode": {
    "name": "ipython",
    "version": 3
   },
   "file_extension": ".py",
   "mimetype": "text/x-python",
   "name": "python",
   "nbconvert_exporter": "python",
   "pygments_lexer": "ipython3",
   "version": "3.8.10"
  }
 },
 "nbformat": 4,
 "nbformat_minor": 5
}
