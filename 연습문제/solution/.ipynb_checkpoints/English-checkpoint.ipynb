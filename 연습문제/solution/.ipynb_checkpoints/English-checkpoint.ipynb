{
 "cells": [
  {
   "cell_type": "code",
   "execution_count": null,
   "id": "e37db6a4",
   "metadata": {},
   "outputs": [
    {
     "name": "stdout",
     "output_type": "stream",
     "text": [
      "Write the following sentence in English.\n",
      "너는 집에 있다.\n",
      "\n",
      "your answer: I have a house.\n",
      "\n",
      "result: Not correct!\n",
      "right answer:You are home.\n",
      "\n",
      "I am at home\n",
      "--------------------------------------------------------------------------------\n",
      "Write the following sentence in English.\n",
      "그들은 친절하지 않다.\n"
     ]
    }
   ],
   "source": [
    "import random\n",
    "\n",
    "d = dict()\n",
    "\n",
    "with open('ko_en.txt') as f:\n",
    "    for line in f.readlines()[1:]:\n",
    "        k, v = tuple(line.split('\\t'))\n",
    "        d[k] = v\n",
    "\n",
    "quiz = list(d.keys())\n",
    "random.shuffle(quiz)\n",
    "\n",
    "while True:\n",
    "    if len(quiz) == 0:\n",
    "        break\n",
    "    \n",
    "    q = quiz.pop()\n",
    "    print(\"Write the following sentence in English.\")\n",
    "    print(q)\n",
    "    a = input(\"\\nyour answer: \")\n",
    "\n",
    "    if a == d[q].rstrip():\n",
    "        print('\\nresult: Correct!')\n",
    "    else:\n",
    "        print(\"\\nresult: Not correct!\")\n",
    "        print(\"right answer:\" + d[q].rstrip() + '\\n')\n",
    "\n",
    "    input()\n",
    "\n",
    "    print('-' * 80)"
   ]
  },
  {
   "cell_type": "code",
   "execution_count": null,
   "id": "ee013e02",
   "metadata": {},
   "outputs": [],
   "source": []
  }
 ],
 "metadata": {
  "kernelspec": {
   "display_name": "Python 3",
   "language": "python",
   "name": "python3"
  },
  "language_info": {
   "codemirror_mode": {
    "name": "ipython",
    "version": 3
   },
   "file_extension": ".py",
   "mimetype": "text/x-python",
   "name": "python",
   "nbconvert_exporter": "python",
   "pygments_lexer": "ipython3",
   "version": "3.8.10"
  }
 },
 "nbformat": 4,
 "nbformat_minor": 5
}
