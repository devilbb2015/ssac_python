{
 "cells": [
  {
   "cell_type": "code",
   "execution_count": null,
   "id": "b45e43aa",
   "metadata": {},
   "outputs": [
    {
     "name": "stdout",
     "output_type": "stream",
     "text": [
      "2022\n",
      "2022 is not a leap year\n",
      "2023\n",
      "2023 is not a leap year\n",
      "2024\n",
      "2024 is a leap year\n"
     ]
    }
   ],
   "source": [
    "while True:\n",
    "    is_leap_year = None\n",
    "\n",
    "    year = int(input())\n",
    "\n",
    "    if year % 4 == 0:\n",
    "        if year % 100 == 0:\n",
    "            if year % 400 == 0:\n",
    "                is_leap_year = True\n",
    "            else:\n",
    "                is_leap_year = False\n",
    "        else:\n",
    "            is_leap_year = True\n",
    "    else:\n",
    "        is_leap_year = False\n",
    "\n",
    "    if is_leap_year:\n",
    "        print(f'{year} is a leap year')\n",
    "    else:\n",
    "        print(f'{year} is not a leap year')"
   ]
  },
  {
   "cell_type": "code",
   "execution_count": null,
   "id": "17455d59",
   "metadata": {},
   "outputs": [],
   "source": [
    "import random\n",
    "\n",
    "d = dict()\n",
    "\n",
    "with open('ko_en.txt') as f:\n",
    "    for line in f.readlines()[1:]:\n",
    "        k, v = tuple(line.split('\\t'))\n",
    "        d[k] = v\n",
    "\n",
    "quiz = list(d.keys())\n",
    "random.shuffle(quiz)\n",
    "\n",
    "while True:\n",
    "    if len(quiz) == 0:\n",
    "        break\n",
    "    \n",
    "    q = quiz.pop()\n",
    "    print(\"Write the following sentence in English.\")\n",
    "    print(q)\n",
    "    a = input(\"\\nyour answer: \")\n",
    "\n",
    "    if a == d[q].rstrip():\n",
    "        print('\\nresult: Correct!')\n",
    "    else:\n",
    "        print(\"\\nresult: Not correct!\")\n",
    "        print(\"right answer:\" + d[q].rstrip() + '\\n')\n",
    "\n",
    "    input()\n",
    "\n",
    "    print('-' * 80)"
   ]
  },
  {
   "cell_type": "code",
   "execution_count": null,
   "id": "43c7f5f7",
   "metadata": {},
   "outputs": [],
   "source": []
  }
 ],
 "metadata": {
  "kernelspec": {
   "display_name": "Python 3",
   "language": "python",
   "name": "python3"
  },
  "language_info": {
   "codemirror_mode": {
    "name": "ipython",
    "version": 3
   },
   "file_extension": ".py",
   "mimetype": "text/x-python",
   "name": "python",
   "nbconvert_exporter": "python",
   "pygments_lexer": "ipython3",
   "version": "3.8.8"
  }
 },
 "nbformat": 4,
 "nbformat_minor": 5
}
